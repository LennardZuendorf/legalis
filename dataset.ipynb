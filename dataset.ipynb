{
 "cells":[
  {
   "cell_type":"markdown",
   "source":[
    "# Legalis Data Set\n",
    "\n",
    "Notebook used to edit the existing dataset for usage in the legalis project."
   ],
   "attachments":{
    
   },
   "metadata":{
    "datalore":{
     "node_id":"JPbsy3WD5d1rp9elgZ29X7",
     "type":"MD",
     "hide_input_from_viewers":true,
     "hide_output_from_viewers":true
    }
   }
  },
  {
   "cell_type":"markdown",
   "source":[
    "## Importing Libraries and Dataset"
   ],
   "attachments":{
    
   },
   "metadata":{
    "datalore":{
     "node_id":"sZLNGAqZ7EzUQfHWJoPSf5",
     "type":"MD",
     "hide_input_from_viewers":false,
     "hide_output_from_viewers":false,
     "report_properties":{
      "rowId":"cRBs3D6qt0S8seSaOjjuub"
     }
    }
   }
  },
  {
   "cell_type":"code",
   "source":[
    "from datasets import load_dataset\n",
    "import datasets\n",
    "from bs4 import BeautifulSoup\n",
    "import re\n",
    "from datetime import date\n",
    "import time\n",
    "import os\n",
    "import openai\n",
    "import tiktoken"
   ],
   "execution_count":3,
   "outputs":[
    
   ],
   "metadata":{
    "datalore":{
     "node_id":"i4eTqNmM0jWgqOkacNG2vs",
     "type":"CODE",
     "hide_input_from_viewers":true,
     "hide_output_from_viewers":true
    }
   }
  },
  {
   "cell_type":"code",
   "source":[
    "raw_dataset = load_dataset(\"LennardZuendorf\/openlegaldata-bulk-data\", split='train')\n",
    "print(raw_dataset)"
   ],
   "execution_count":4,
   "outputs":[
    {
     "name":"stdout",
     "text":[
      "Downloading and preparing dataset json\/LennardZuendorf--openlegaldata-bulk-data to \/home\/datalore\/.cache\/huggingface\/datasets\/LennardZuendorf___json\/LennardZuendorf--openlegaldata-bulk-data-0d18a44c8ee5464a\/0.0.0\/e347ab1c932092252e717ff3f949105a4dd28b27e842dd53157d2f72e276c2e4...\n"
     ],
     "output_type":"stream"
    },
    {
     "ename":"KeyboardInterrupt",
     "evalue":"KeyboardInterrupt: ",
     "traceback":[
      "\u001b[0;31m---------------------------------------------------------------------------",
      "Traceback (most recent call last)",
      "    at line 1 in <module>",
      "    at line 1797 in load_dataset(path, name, data_dir, data_files, split, cache_dir, features, download_config, download_mode, verification_mode, ignore_verifications, keep_in_memory, save_infos, revision, use_auth_token, task, streaming, num_proc, storage_options, **config_kwargs)",
      "    at line 890 in download_and_prepare(self, output_dir, download_config, download_mode, verification_mode, ignore_verifications, try_from_hf_gcs, dl_manager, base_path, use_auth_token, file_format, max_shard_size, num_proc, storage_options, **download_and_prepare_kwargs)",
      "    at line 963 in _download_and_prepare(self, dl_manager, verification_mode, **prepare_split_kwargs)",
      "    at line 49 in _split_generators(self, dl_manager)",
      "    at line 564 in download_and_extract(self, url_or_urls)",
      "    at line 427 in download(self, url_or_urls)",
      "    at line 443 in map_nested(function, data_struct, dict_only, map_list, map_tuple, map_numpy, num_proc, parallel_min_length, types, disable_tqdm, desc)",
      "    at line 444 in <listcomp>(.0)",
      "    at line 363 in _single_map_nested(args)",
      "    at line 363 in <listcomp>(.0)",
      "    at line 346 in _single_map_nested(args)",
      "    at line 453 in _download(self, url_or_filename, download_config)",
      "    at line 183 in cached_path(url_or_filename, download_config, **download_kwargs)",
      "    at line 611 in get_from_cache(url, cache_dir, force_download, proxies, etag_timeout, resume_download, user_agent, local_files_only, use_etag, max_retries, use_auth_token, ignore_url_params, storage_options, download_desc)",
      "    at line 404 in http_get(url, temp_file, proxies, resume_size, headers, cookies, timeout, max_retries, desc)",
      "    at line 266 in update(self, n)",
      "KeyboardInterrupt: "
     ],
     "output_type":"error"
    },
    {
     "data":{
      "application\/vnd.jupyter.widget-view+json":{
       "version_major":2,
       "version_minor":0,
       "model_id":"d2fa0edf9b3e4b64af0aec7437369f0c"
      }
     },
     "metadata":{
      "application\/vnd.jupyter.widget-view+json":{
       "datalore":{
        "widget_id":"y3QIO1TNQETpPXBvmBqekv"
       }
      }
     },
     "output_type":"display_data"
    },
    {
     "data":{
      "application\/vnd.jupyter.widget-view+json":{
       "version_major":2,
       "version_minor":0,
       "model_id":"1cf027685fd6442f8c23c9cd6d01297a"
      }
     },
     "metadata":{
      "application\/vnd.jupyter.widget-view+json":{
       "datalore":{
        "widget_id":"B1CbR0hPuuCNkFcXvI7rwa"
       }
      }
     },
     "output_type":"display_data"
    },
    {
     "data":{
      "application\/vnd.jupyter.widget-view+json":{
       "version_major":2,
       "version_minor":0,
       "model_id":"4f524943070f42909f5dd63c0b87698b"
      }
     },
     "metadata":{
      "application\/vnd.jupyter.widget-view+json":{
       "datalore":{
        "widget_id":"6zd9zfV5IWNq8PdlOzLDly"
       }
      }
     },
     "output_type":"display_data"
    }
   ],
   "metadata":{
    "datalore":{
     "node_id":"eKB5zAj9oaWOmtQJ7Pq8Y9",
     "type":"CODE",
     "hide_input_from_viewers":true,
     "hide_output_from_viewers":true
    }
   }
  },
  {
   "cell_type":"code",
   "source":[
    "natural_dataset=load_dataset(\"LennardZuendorf\/legalis\", split='train')\n",
    "enhanced_dataset=load_dataset(\"LennardZuendorf\/legalis\", split='test')"
   ],
   "execution_count":5,
   "outputs":[
    {
     "name":"stderr",
     "text":[
      "Found cached dataset parquet (\/home\/datalore\/.cache\/huggingface\/datasets\/LennardZuendorf___parquet\/LennardZuendorf--legalis-9664e5f283533195\/0.0.0\/2a3b91fbd88a2c90d1dbbb32b460cf621d31bd5b05b934492fdef7d8d6f236ec)\n",
      "Found cached dataset parquet (\/home\/datalore\/.cache\/huggingface\/datasets\/LennardZuendorf___parquet\/LennardZuendorf--legalis-9664e5f283533195\/0.0.0\/2a3b91fbd88a2c90d1dbbb32b460cf621d31bd5b05b934492fdef7d8d6f236ec)\n"
     ],
     "output_type":"stream"
    }
   ],
   "metadata":{
    "datalore":{
     "node_id":"4t2WMCJzknWy8Wi2joRpkx",
     "type":"CODE",
     "hide_input_from_viewers":false,
     "hide_output_from_viewers":false,
     "report_properties":{
      "rowId":"cRBs3D6qt0S8seSaOjjuub"
     }
    }
   }
  },
  {
   "cell_type":"markdown",
   "source":[
    "## Creating the Basic Dataset for Training and Testing\n",
    "### Cleaning both Datasets"
   ],
   "attachments":{
    
   },
   "metadata":{
    "datalore":{
     "node_id":"8M4YZ8shUP3ujAqnTmQ0oB",
     "type":"MD",
     "hide_input_from_viewers":false,
     "hide_output_from_viewers":false,
     "report_properties":{
      "rowId":"cRBs3D6qt0S8seSaOjjuub"
     }
    }
   }
  },
  {
   "cell_type":"code",
   "source":[
    "# renaming and removing columns\n",
    "raw_dataset = raw_dataset.remove_columns(['slug', 'ecli', 'updated_date', 'created_date'])\n",
    "\n",
    "\n",
    "#updating columns in nested dict ('court')\n",
    "def cleaning_courts(data):\n",
    "    del data['court']['slug']\n",
    "    del data['court']['city']\n",
    "\n",
    "    return data\n",
    "\n",
    "\n",
    "raw_dataset = raw_dataset.map(cleaning_courts)"
   ],
   "execution_count":3,
   "outputs":[
    
   ],
   "metadata":{
    "datalore":{
     "node_id":"QiNnpmDmdcmNv06Umf0rUs",
     "type":"CODE",
     "hide_input_from_viewers":false,
     "hide_output_from_viewers":false,
     "report_properties":{
      "rowId":"cRBs3D6qt0S8seSaOjjuub"
     }
    }
   }
  },
  {
   "cell_type":"code",
   "source":[
    "# cleaning date information into datetime.date object, throwing out data younger than 1 week\n",
    "def clean_date(data):\n",
    "    data['date'] = data['date'].date()\n",
    "\n",
    "    return data\n",
    "\n",
    "\n",
    "cleaned_dataset = raw_dataset.map(clean_date)\n",
    "cleaned_dataset = cleaned_dataset.filter(lambda x: x['date'].date() < date.fromtimestamp(time.time()))\n",
    "cleaned_dataset = cleaned_dataset.filter(\n",
    "    lambda x: x['type'].lower() == 'urteil' or x['type'].lower() == 'abschlussurteil')\n",
    "\n",
    "print(cleaned_dataset)"
   ],
   "execution_count":4,
   "outputs":[
    
   ],
   "metadata":{
    "datalore":{
     "node_id":"60CkmuWp7ohvvjRiR6D8c2",
     "type":"CODE",
     "hide_input_from_viewers":false,
     "hide_output_from_viewers":false,
     "report_properties":{
      "rowId":"cRBs3D6qt0S8seSaOjjuub"
     }
    }
   }
  },
  {
   "cell_type":"markdown",
   "source":[
    "## Preprocessing Datasets\n",
    "#### splitting natural dataset content into clean tenor and reasoning"
   ],
   "attachments":{
    
   },
   "metadata":{
    "datalore":{
     "node_id":"zeUSqrYEzcBhbJ0SQnPwit",
     "type":"MD",
     "hide_input_from_viewers":false,
     "hide_output_from_viewers":false,
     "report_properties":{
      "rowId":"cRBs3D6qt0S8seSaOjjuub"
     }
    }
   }
  },
  {
   "cell_type":"code",
   "source":[
    "#splitting content into tenor and reasoning\n",
    "def splitting_content_twotext(data):\n",
    "    #cleaning entire content of html, newlines and whitespaces\n",
    "    content_soup = BeautifulSoup(data['content'])\n",
    "    content = content_soup.get_text().strip()\n",
    "    content = re.sub('\\n', ' ', content)\n",
    "    content = ' '.join(content.split())\n",
    "\n",
    "    data['content'] = content\n",
    "\n",
    "    #splitting content into tenor and reasoning\n",
    "    split_content = data['content'].rsplit(sep=\"<h2>Gründe<\/h2>\")\n",
    "\n",
    "    #alternative splitting if first split was not possible\n",
    "    if len(split_content) != 2:\n",
    "        split_content = data['content'].rsplit(sep=\"<!--hlIgnoreOn-->Gründe<!--hlIgnoreOff-->\")\n",
    "\n",
    "    if len(split_content) != 2:\n",
    "        split_content = data['content'].rsplit(sep=\"Gründe:\")\n",
    "\n",
    "    if len(split_content) != 2:\n",
    "        #settting tenor and reasoning to None if no split was possible\n",
    "        data['tenor'] = None\n",
    "        data['reasoning'] = None\n",
    "\n",
    "    if len(split_content) == 2:\n",
    "        #cleaning tenor of html, newlines and whitespaces\n",
    "        tenor_soup = BeautifulSoup(split_content[0])\n",
    "        tenor = tenor_soup.get_text().strip()\n",
    "        tenor = re.sub('\\n', ' ', tenor)\n",
    "        tenor = ' '.join(tenor.split()).lower()\n",
    "        split_tenor = tenor.rsplit(sep=\"tenor\")\n",
    "\n",
    "        if len(split_tenor) ==2:\n",
    "            data['tenor'] = split_tenor[1]\n",
    "        else:\n",
    "            data['tenor'] = split_tenor[0]\n",
    "\n",
    "        #cleaning reasoning of html, newlines and whitespaces\n",
    "        reason_soup = BeautifulSoup(split_content[1])\n",
    "        reason = reason_soup.get_text().strip()\n",
    "        reason = re.sub('\\n', ' ', reason)\n",
    "        data['reasoning'] = ' '.join(reason.split()).lower()\n",
    "\n",
    "    return data\n",
    "\n",
    "\n",
    "#splitting content into tenor and reasoning, after filtering for content containing \"Gründe\"\n",
    "natural_dataset = raw_dataset.filter(lambda x: x['content'].lower().find(\"gründe\") != -1\n",
    "                                                 and x['content'].lower().find(\"tenor\") != -1)\n",
    "natural_dataset = natural_dataset.map(splitting_content_twotext)\n",
    "print(natural_dataset)"
   ],
   "execution_count":5,
   "outputs":[
    
   ],
   "metadata":{
    "datalore":{
     "node_id":"SPMKi8bEheigzUUDMGlw3c",
     "type":"CODE",
     "hide_input_from_viewers":true,
     "hide_output_from_viewers":true
    }
   }
  },
  {
   "cell_type":"markdown",
   "source":[
    "## creating based enhanced dataset by splitting datasets into tenor, facts and reasoning"
   ],
   "attachments":{
    
   },
   "metadata":{
    "datalore":{
     "node_id":"zwtqvzGEDU1vGrvXyml4lP",
     "type":"MD",
     "hide_input_from_viewers":false,
     "hide_output_from_viewers":false,
     "report_properties":{
      "rowId":"cRBs3D6qt0S8seSaOjjuub"
     }
    }
   }
  },
  {
   "cell_type":"code",
   "source":[
    "#splitting content into tenor and reasoning\n",
    "def splitting_content_threetext(data):\n",
    "    #cleaning entire content of html, newlines and whitespaces\n",
    "    content_soup = BeautifulSoup(data['content'])\n",
    "    content = content_soup.get_text().strip()\n",
    "    content = re.sub('\\n', ' ', content)\n",
    "    content = ' '.join(content.split())\n",
    "\n",
    "    data['content'] = content\n",
    "\n",
    "    try:\n",
    "        #splitting into tenor, facts and reasoning\n",
    "        split_content1 = content.rsplit(sep=\"Tatbestand:\")\n",
    "        split_content2 = split_content1[1].rsplit(sep=\"Entscheidungsgründe:\")\n",
    "\n",
    "        if len(split_content2) != 2:\n",
    "            split_content1 = content.rsplit(sep=\"Entscheidungsgründe:\")\n",
    "            split_content2 = split_content1[1].rsplit(sep=\"Tatbestand:\")\n",
    "\n",
    "        tenor = split_content1[0].lower()\n",
    "        split_tenor = tenor.rsplit(sep=\"tenor\")\n",
    "\n",
    "        if len(split_tenor) ==2:\n",
    "            data['tenor'] = split_tenor[1]\n",
    "        else:\n",
    "            data['tenor'] = split_tenor[0]\n",
    "\n",
    "        data['facts'] = split_content2[0].lower()\n",
    "        data['reasoning'] = split_content2[1].lower()\n",
    "\n",
    "    except IndexError:\n",
    "        data['tenor'] = None\n",
    "        data['facts'] = None\n",
    "        data['reasoning'] = None\n",
    "\n",
    "    return data\n",
    "\n",
    "\n",
    "#splitting content into tenor and reasoning, after filtering for content containing needed words\n",
    "enhanced_dataset = raw_dataset.filter(lambda x: x['content'].lower().find(\"tenor\") != -1\n",
    "                                               and x['content'].lower().find(\"tatbestand:\") != -1\n",
    "                                               and x['content'].lower().find(\"entscheidungsgründe:\") != -1)\n",
    "enhanced_dataset = enhanced_dataset.map(splitting_content_threetext)"
   ],
   "execution_count":6,
   "outputs":[
    
   ],
   "metadata":{
    "datalore":{
     "node_id":"pRLq7lbDIYMsxzBzCHqoOK",
     "type":"CODE",
     "hide_input_from_viewers":false,
     "hide_output_from_viewers":false,
     "report_properties":{
      "rowId":"cRBs3D6qt0S8seSaOjjuub"
     }
    }
   }
  },
  {
   "cell_type":"code",
   "source":[
    "def text_cleaner(data):\n",
    "    tenor = data['tenor']\n",
    "    tenor = tenor.lower()\n",
    "    split_tenor = tenor.rsplit(sep=\"tenor\")\n",
    "\n",
    "    if len(split_tenor) ==2:\n",
    "        data['tenor'] = split_tenor[1]\n",
    "    else:\n",
    "        data['tenor'] = split_tenor[0]\n",
    "\n",
    "    data['reasoning'] = data['reasoning'].lower()\n",
    "    data['facts'] = data['facts'].lower()\n",
    "\n",
    "    return data\n",
    "\n",
    "natural_dataset = natural_dataset.map(text_cleaner)\n",
    "enhanced_dataset = enhanced_dataset.map(text_cleaner)"
   ],
   "execution_count":28,
   "outputs":[
    {
     "data":{
      "application\/vnd.jupyter.widget-view+json":{
       "version_major":2,
       "version_minor":0,
       "model_id":"7279d0388eb14c7bb2eae34f936918fa"
      }
     },
     "metadata":{
      "application\/vnd.jupyter.widget-view+json":{
       "datalore":{
        "widget_id":"Jm9rO0GJgJkcrhg7w3WnyO"
       }
      }
     },
     "output_type":"display_data"
    }
   ],
   "metadata":{
    "datalore":{
     "node_id":"2Nnimh5YDwAkxjoCJFaPKL",
     "type":"CODE",
     "hide_input_from_viewers":true,
     "hide_output_from_viewers":true
    }
   }
  },
  {
   "cell_type":"code",
   "source":[
    "def filter_empty(data):\n",
    "    if data['tenor'] is None or str(data['tenor']).isspace() or data['tenor']==\"\":\n",
    "        return False\n",
    "    elif data['reasoning'] is None or str(data['reasoning']).isspace() or data['reasoning']==\"\":\n",
    "        return False\n",
    "    else:\n",
    "        return True\n",
    "\n",
    "\n",
    "natural_dataset = natural_dataset.filter(filter_empty)\n",
    "enhanced_dataset = enhanced_dataset.filter(filter_empty)\n"
   ],
   "execution_count":14,
   "outputs":[
    
   ],
   "metadata":{
    "datalore":{
     "node_id":"Yvr1gu8kBCith3uB7WGag3",
     "type":"CODE",
     "hide_input_from_viewers":true,
     "hide_output_from_viewers":true
    }
   }
  },
  {
   "cell_type":"markdown",
   "source":[
    "## Using ChatGPT to extract binary outcome\n",
    "\n",
    "Accessing Legalis Extractor model via Interference API to extract facts from reasoning."
   ],
   "attachments":{
    
   },
   "metadata":{
    "datalore":{
     "node_id":"jV746kiQ6CR7ddrRwi7CXn",
     "type":"MD",
     "hide_input_from_viewers":true,
     "hide_output_from_viewers":true
    }
   }
  },
  {
   "cell_type":"code",
   "source":[
    
   ],
   "execution_count":null,
   "outputs":[
    
   ],
   "metadata":{
    "datalore":{
     "node_id":"odF5GAZoieQCkhVEpAbQjt",
     "type":"CODE",
     "hide_input_from_viewers":true,
     "hide_output_from_viewers":true
    }
   }
  },
  {
   "cell_type":"markdown",
   "source":[
    "## Creating Splits, Uploading the new Dataset to HuggingFace Datasets"
   ],
   "attachments":{
    
   },
   "metadata":{
    "datalore":{
     "node_id":"kRHn9Jcq6DuRiMO9Kfv8MQ",
     "type":"MD",
     "hide_input_from_viewers":false,
     "hide_output_from_viewers":false,
     "report_properties":{
      "rowId":"cRBs3D6qt0S8seSaOjjuub"
     }
    }
   }
  },
  {
   "cell_type":"code",
   "source":[
    "dataset = datasets.DatasetDict({\"enhanced\": enhanced_dataset, \"natural\": natural_dataset})\n",
    "                                         \n",
    "\n",
    "print(dataset)"
   ],
   "execution_count":29,
   "outputs":[
    {
     "name":"stdout",
     "text":[
      "DatasetDict({\n",
      "    enhanced: Dataset({\n",
      "        features: ['id', 'court', 'file_number', 'date', 'type', 'content', 'tenor', 'reasoning', 'facts'],\n",
      "        num_rows: 2847\n",
      "    })\n",
      "    natural: Dataset({\n",
      "        features: ['id', 'court', 'file_number', 'date', 'type', 'content', 'tenor', 'reasoning', 'facts'],\n",
      "        num_rows: 32809\n",
      "    })\n",
      "})\n"
     ],
     "output_type":"stream"
    }
   ],
   "metadata":{
    "datalore":{
     "node_id":"vqvvvj3s3ViMUCZCASGI5m",
     "type":"CODE",
     "hide_input_from_viewers":false,
     "hide_output_from_viewers":false,
     "report_properties":{
      "rowId":"cRBs3D6qt0S8seSaOjjuub"
     }
    }
   }
  },
  {
   "cell_type":"code",
   "source":[
    "#uploading new dataset into different repository\n",
    "dataset.push_to_hub(\"LennardZuendorf\/legalis\", token=os.environ['hub_token'])"
   ],
   "execution_count":7,
   "outputs":[
    {
     "name":"stderr",
     "text":[
      "Pushing split enhanced to the Hub.\n",
      "Pushing split natural to the Hub.\n"
     ],
     "output_type":"stream"
    },
    {
     "data":{
      "application\/vnd.jupyter.widget-view+json":{
       "version_major":2,
       "version_minor":0,
       "model_id":"b90a83281a8748719e7ecb7ad77bd8bc"
      }
     },
     "metadata":{
      "application\/vnd.jupyter.widget-view+json":{
       "datalore":{
        "widget_id":"5guywfXZNomd2BNpAR2p1v"
       }
      }
     },
     "output_type":"display_data"
    },
    {
     "data":{
      "application\/vnd.jupyter.widget-view+json":{
       "version_major":2,
       "version_minor":0,
       "model_id":"ffcbdac2e0154ea9b97e91ee6a428d44"
      }
     },
     "metadata":{
      "application\/vnd.jupyter.widget-view+json":{
       "datalore":{
        "widget_id":"Zn7Am4yL09BQeHOapSrQED"
       }
      }
     },
     "output_type":"display_data"
    },
    {
     "data":{
      "application\/vnd.jupyter.widget-view+json":{
       "version_major":2,
       "version_minor":0,
       "model_id":"7f8f2b7a6dec44d5a560dad7c619cead"
      }
     },
     "metadata":{
      "application\/vnd.jupyter.widget-view+json":{
       "datalore":{
        "widget_id":"Jpwo6nvv2iEKpQ8J51cvwS"
       }
      }
     },
     "output_type":"display_data"
    },
    {
     "data":{
      "application\/vnd.jupyter.widget-view+json":{
       "version_major":2,
       "version_minor":0,
       "model_id":"1d9c7c854148475eb2990611e1f1f5c0"
      }
     },
     "metadata":{
      "application\/vnd.jupyter.widget-view+json":{
       "datalore":{
        "widget_id":"zR04BBaH0ME9J61L2ruNmE"
       }
      }
     },
     "output_type":"display_data"
    },
    {
     "data":{
      "application\/vnd.jupyter.widget-view+json":{
       "version_major":2,
       "version_minor":0,
       "model_id":"f8cd9ae01b24471b8d63756b3bb5e445"
      }
     },
     "metadata":{
      "application\/vnd.jupyter.widget-view+json":{
       "datalore":{
        "widget_id":"QFJkJfZIG1NYHLj52gCUoX"
       }
      }
     },
     "output_type":"display_data"
    },
    {
     "data":{
      "application\/vnd.jupyter.widget-view+json":{
       "version_major":2,
       "version_minor":0,
       "model_id":"d5832dc9c74844f79ed460f52324def1"
      }
     },
     "metadata":{
      "application\/vnd.jupyter.widget-view+json":{
       "datalore":{
        "widget_id":"ktierqaxhGRiXCSKlMOJMZ"
       }
      }
     },
     "output_type":"display_data"
    },
    {
     "data":{
      "application\/vnd.jupyter.widget-view+json":{
       "version_major":2,
       "version_minor":0,
       "model_id":"44c234f099054aa7b4e7b978a5efc7a7"
      }
     },
     "metadata":{
      "application\/vnd.jupyter.widget-view+json":{
       "datalore":{
        "widget_id":"590rpJWO9abfDeVlpCJhSq"
       }
      }
     },
     "output_type":"display_data"
    }
   ],
   "metadata":{
    "datalore":{
     "node_id":"DnDrAg3tubhj2LXmdD1Rri",
     "type":"CODE",
     "hide_input_from_viewers":true,
     "hide_output_from_viewers":true
    }
   }
  }
 ],
 "metadata":{
  "widgets":{
   "application\/vnd.jupyter.widget-state+json":{
    "version_major":2,
    "version_minor":0,
    "state":{
     "e2a06fd658734f70a93d7346b3f5f491":{
      "model_name":"LayoutModel",
      "model_module":"@jupyter-widgets\/base",
      "model_module_version":"1.2.0",
      "state":{
       
      }
     },
     "36b98d4d43a043d98b54ecc107ac9706":{
      "model_name":"DescriptionStyleModel",
      "model_module":"@jupyter-widgets\/controls",
      "model_module_version":"1.5.0",
      "state":{
       "description_width":""
      }
     },
     "8346dbfcd4b94ce68c93e6f1c456937c":{
      "model_name":"HTMLModel",
      "model_module":"@jupyter-widgets\/controls",
      "model_module_version":"1.5.0",
      "state":{
       "layout":"IPY_MODEL_e2a06fd658734f70a93d7346b3f5f491",
       "style":"IPY_MODEL_36b98d4d43a043d98b54ecc107ac9706",
       "value":"Map:  94%"
      }
     },
     "1a5834f85d7d49179c01c5cad713412a":{
      "model_name":"LayoutModel",
      "model_module":"@jupyter-widgets\/base",
      "model_module_version":"1.2.0",
      "state":{
       
      }
     },
     "b597c9255df44b8d82b488f22ce6473e":{
      "model_name":"ProgressStyleModel",
      "model_module":"@jupyter-widgets\/controls",
      "model_module_version":"1.5.0",
      "state":{
       "description_width":""
      }
     },
     "4394342b56aa4b0fbf20198b2271e403":{
      "model_name":"FloatProgressModel",
      "model_module":"@jupyter-widgets\/controls",
      "model_module_version":"1.5.0",
      "state":{
       "layout":"IPY_MODEL_1a5834f85d7d49179c01c5cad713412a",
       "max":2847,
       "style":"IPY_MODEL_b597c9255df44b8d82b488f22ce6473e",
       "value":2847
      }
     },
     "5f5cc79c3b694716a46817e954d8b4bf":{
      "model_name":"LayoutModel",
      "model_module":"@jupyter-widgets\/base",
      "model_module_version":"1.2.0",
      "state":{
       
      }
     },
     "1615c8a5707849388493aebe655aa23d":{
      "model_name":"DescriptionStyleModel",
      "model_module":"@jupyter-widgets\/controls",
      "model_module_version":"1.5.0",
      "state":{
       "description_width":""
      }
     },
     "453e3a66e88445a9be9508d356193bb7":{
      "model_name":"HTMLModel",
      "model_module":"@jupyter-widgets\/controls",
      "model_module_version":"1.5.0",
      "state":{
       "layout":"IPY_MODEL_5f5cc79c3b694716a46817e954d8b4bf",
       "style":"IPY_MODEL_1615c8a5707849388493aebe655aa23d",
       "value":" 2678\/2847 [00:02&lt;00:00, 1288.76 examples\/s]"
      }
     },
     "88642b7c6b2948edbd096532aa45888d":{
      "model_name":"LayoutModel",
      "model_module":"@jupyter-widgets\/base",
      "model_module_version":"1.2.0",
      "state":{
       "visibility":"hidden"
      }
     },
     "7279d0388eb14c7bb2eae34f936918fa":{
      "model_name":"HBoxModel",
      "model_module":"@jupyter-widgets\/controls",
      "model_module_version":"1.5.0",
      "state":{
       "children":[
        "IPY_MODEL_8346dbfcd4b94ce68c93e6f1c456937c",
        "IPY_MODEL_4394342b56aa4b0fbf20198b2271e403",
        "IPY_MODEL_453e3a66e88445a9be9508d356193bb7"
       ],
       "layout":"IPY_MODEL_88642b7c6b2948edbd096532aa45888d"
      }
     }
    }
   }
  },
  "kernelspec":{
   "display_name":"Python",
   "language":"python",
   "name":"python"
  },
  "datalore":{
   "computation_mode":"JUPYTER",
   "package_manager":"pip",
   "base_environment":"default",
   "packages":[
    {
     "name":"datasets",
     "version":"2.12.0",
     "source":"PIP"
    },
    {
     "name":"tiktoken",
     "version":"0.4.0",
     "source":"PIP"
    },
    {
     "name":"openai",
     "version":"0.27.7",
     "source":"PIP"
    }
   ],
   "report_row_ids":[
    
   ],
   "version":3
  }
 },
 "nbformat":4,
 "nbformat_minor":4
}