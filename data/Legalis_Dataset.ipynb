{
  "cells": [
    {
      "cell_type": "markdown",
      "source": [
        "# Legalis Data Set\n",
        "\n",
        "Notebook used to edit the existing dataset for usage in the legalis project."
      ],
      "metadata": {
        "datalore": {
          "node_id": "JPbsy3WD5d1rp9elgZ29X7",
          "type": "MD",
          "hide_input_from_viewers": true,
          "hide_output_from_viewers": true
        },
        "id": "iWSaHEr4AQfH"
      }
    },
    {
      "cell_type": "markdown",
      "source": [
        "## Importing Libraries and Dataset"
      ],
      "metadata": {
        "datalore": {
          "node_id": "sZLNGAqZ7EzUQfHWJoPSf5",
          "type": "MD",
          "hide_input_from_viewers": false,
          "hide_output_from_viewers": false,
          "report_properties": {
            "rowId": "cRBs3D6qt0S8seSaOjjuub"
          }
        },
        "id": "6mFts4q6AQfK"
      }
    },
    {
      "cell_type": "code",
      "source": [
        "from datasets import load_dataset\n",
        "import datasets\n",
        "from bs4 import BeautifulSoup\n",
        "import re\n",
        "from datetime import date\n",
        "import time\n",
        "import os\n",
        "import openai\n",
        "import tiktoken"
      ],
      "execution_count": null,
      "outputs": [],
      "metadata": {
        "datalore": {
          "node_id": "i4eTqNmM0jWgqOkacNG2vs",
          "type": "CODE",
          "hide_input_from_viewers": true,
          "hide_output_from_viewers": true
        },
        "id": "tQbJsUAnAQfL"
      }
    },
    {
      "cell_type": "code",
      "source": [
        "raw_dataset = load_dataset(\"LennardZuendorf/openlegaldata-bulk-data\", split='train')\n",
        "print(raw_dataset)"
      ],
      "execution_count": null,
      "outputs": [
        {
          "name": "stdout",
          "text": [
            "Downloading and preparing dataset json/LennardZuendorf--openlegaldata-bulk-data to /home/datalore/.cache/huggingface/datasets/LennardZuendorf___json/LennardZuendorf--openlegaldata-bulk-data-0d18a44c8ee5464a/0.0.0/e347ab1c932092252e717ff3f949105a4dd28b27e842dd53157d2f72e276c2e4...\n",
            "Dataset json downloaded and prepared to /home/datalore/.cache/huggingface/datasets/LennardZuendorf___json/LennardZuendorf--openlegaldata-bulk-data-0d18a44c8ee5464a/0.0.0/e347ab1c932092252e717ff3f949105a4dd28b27e842dd53157d2f72e276c2e4. Subsequent calls will reuse this data.\n",
            "Dataset({\n",
            "    features: ['id', 'slug', 'court', 'file_number', 'date', 'created_date', 'updated_date', 'type', 'ecli', 'content'],\n",
            "    num_rows: 251038\n",
            "})\n"
          ],
          "output_type": "stream"
        },
        {
          "data": {
            "application/vnd.jupyter.widget-view+json": {
              "version_major": 2,
              "version_minor": 0,
              "model_id": "c7c4e0230bdd4c02a421366d4e970b2f"
            }
          },
          "metadata": {
            "application/vnd.jupyter.widget-view+json": {
              "datalore": {
                "widget_id": "zMT4eM8o4mnSwZtiXSkZgA"
              }
            }
          },
          "output_type": "display_data"
        },
        {
          "data": {
            "application/vnd.jupyter.widget-view+json": {
              "version_major": 2,
              "version_minor": 0,
              "model_id": "fb5c2a476d9042ca9148b7499df18387"
            }
          },
          "metadata": {
            "application/vnd.jupyter.widget-view+json": {
              "datalore": {
                "widget_id": "ABDmlOsTJGemDH7tn59vZQ"
              }
            }
          },
          "output_type": "display_data"
        },
        {
          "data": {
            "application/vnd.jupyter.widget-view+json": {
              "version_major": 2,
              "version_minor": 0,
              "model_id": "8ae6b7f84abe4305bb199d7258dbd32d"
            }
          },
          "metadata": {
            "application/vnd.jupyter.widget-view+json": {
              "datalore": {
                "widget_id": "OmY4VzRwFCWoJAduGgyrKY"
              }
            }
          },
          "output_type": "display_data"
        },
        {
          "data": {
            "application/vnd.jupyter.widget-view+json": {
              "version_major": 2,
              "version_minor": 0,
              "model_id": "643389eddfd64be1bdadc50f909d945a"
            }
          },
          "metadata": {
            "application/vnd.jupyter.widget-view+json": {
              "datalore": {
                "widget_id": "7cgx2eKe1TjQREolFcoweA"
              }
            }
          },
          "output_type": "display_data"
        },
        {
          "data": {
            "application/vnd.jupyter.widget-view+json": {
              "version_major": 2,
              "version_minor": 0,
              "model_id": "64cb606b02764eed82aaafea789257e2"
            }
          },
          "metadata": {
            "application/vnd.jupyter.widget-view+json": {
              "datalore": {
                "widget_id": "dKkTDegEiXvMZF6eGaljup"
              }
            }
          },
          "output_type": "display_data"
        }
      ],
      "metadata": {
        "datalore": {
          "node_id": "eKB5zAj9oaWOmtQJ7Pq8Y9",
          "type": "CODE",
          "hide_input_from_viewers": true,
          "hide_output_from_viewers": true
        },
        "id": "sSnZde9gAQfM",
        "outputId": "fa17073c-1ce6-4ec6-e7bc-e1ee5df3819a",
        "colab": {
          "referenced_widgets": [
            "c7c4e0230bdd4c02a421366d4e970b2f",
            "fb5c2a476d9042ca9148b7499df18387",
            "8ae6b7f84abe4305bb199d7258dbd32d",
            "643389eddfd64be1bdadc50f909d945a",
            "64cb606b02764eed82aaafea789257e2"
          ]
        }
      }
    },
    {
      "cell_type": "markdown",
      "source": [
        "## Creating the Basic Dataset for Training and Testing\n",
        "### Cleaning both Datasets"
      ],
      "metadata": {
        "datalore": {
          "node_id": "8M4YZ8shUP3ujAqnTmQ0oB",
          "type": "MD",
          "hide_input_from_viewers": false,
          "hide_output_from_viewers": false,
          "report_properties": {
            "rowId": "cRBs3D6qt0S8seSaOjjuub"
          }
        },
        "id": "VESwUSBSAQfO"
      }
    },
    {
      "cell_type": "code",
      "source": [
        "# renaming and removing columns\n",
        "raw_dataset = raw_dataset.remove_columns(['slug', 'ecli', 'updated_date', 'created_date'])\n",
        "\n",
        "\n",
        "#updating columns in nested dict ('court')\n",
        "def cleaning_courts(data):\n",
        "    del data['court']['slug']\n",
        "    del data['court']['city']\n",
        "\n",
        "    return data\n",
        "\n",
        "\n",
        "raw_dataset = raw_dataset.map(cleaning_courts)"
      ],
      "execution_count": null,
      "outputs": [
        {
          "data": {
            "application/vnd.jupyter.widget-view+json": {
              "version_major": 2,
              "version_minor": 0,
              "model_id": "ebaae0b5e1dc41938781b4d626cc061f"
            }
          },
          "metadata": {
            "application/vnd.jupyter.widget-view+json": {
              "datalore": {
                "widget_id": "B03DmuPnG4U7vK0mlzkn1e"
              }
            }
          },
          "output_type": "display_data"
        }
      ],
      "metadata": {
        "datalore": {
          "node_id": "QiNnpmDmdcmNv06Umf0rUs",
          "type": "CODE",
          "hide_input_from_viewers": false,
          "hide_output_from_viewers": false,
          "report_properties": {
            "rowId": "cRBs3D6qt0S8seSaOjjuub"
          }
        },
        "id": "NcjGmCOhAQfO",
        "outputId": "e00071ef-79a1-4867-904e-198f92a6d986",
        "colab": {
          "referenced_widgets": [
            "ebaae0b5e1dc41938781b4d626cc061f"
          ]
        }
      }
    },
    {
      "cell_type": "code",
      "source": [
        "# cleaning date information into datetime.date object, throwing out data younger than 1 week\n",
        "def clean_date(data):\n",
        "    data['date'] = data['date'].date()\n",
        "\n",
        "    return data\n",
        "\n",
        "\n",
        "cleaned_dataset = raw_dataset.map(clean_date)\n",
        "cleaned_dataset = cleaned_dataset.filter(lambda x: x['date'].date() < date.fromtimestamp(time.time()))\n",
        "cleaned_dataset = cleaned_dataset.filter(\n",
        "    lambda x: x['type'].lower() == 'urteil' or x['type'].lower() == 'abschlussurteil')\n",
        "\n",
        "print(cleaned_dataset)"
      ],
      "execution_count": null,
      "outputs": [
        {
          "name": "stdout",
          "text": [
            "Dataset({\n",
            "    features: ['id', 'court', 'file_number', 'date', 'type', 'content'],\n",
            "    num_rows: 137271\n",
            "})\n"
          ],
          "output_type": "stream"
        },
        {
          "data": {
            "application/vnd.jupyter.widget-view+json": {
              "version_major": 2,
              "version_minor": 0,
              "model_id": "4fffefcfc8e842b7b9052d5cae19be8f"
            }
          },
          "metadata": {
            "application/vnd.jupyter.widget-view+json": {
              "datalore": {
                "widget_id": "OCoi2o8xuXzm5uS61YipT2"
              }
            }
          },
          "output_type": "display_data"
        },
        {
          "data": {
            "application/vnd.jupyter.widget-view+json": {
              "version_major": 2,
              "version_minor": 0,
              "model_id": "87f3e377814c402abe95a0a2c80780a7"
            }
          },
          "metadata": {
            "application/vnd.jupyter.widget-view+json": {
              "datalore": {
                "widget_id": "NRVZuT9LGTFGqdVVXf3ATM"
              }
            }
          },
          "output_type": "display_data"
        },
        {
          "data": {
            "application/vnd.jupyter.widget-view+json": {
              "version_major": 2,
              "version_minor": 0,
              "model_id": "2bfceb9cd68845b9a6b6930870a70fe3"
            }
          },
          "metadata": {
            "application/vnd.jupyter.widget-view+json": {
              "datalore": {
                "widget_id": "e4DvRAZi5tlSthAtHbJD1K"
              }
            }
          },
          "output_type": "display_data"
        }
      ],
      "metadata": {
        "datalore": {
          "node_id": "60CkmuWp7ohvvjRiR6D8c2",
          "type": "CODE",
          "hide_input_from_viewers": false,
          "hide_output_from_viewers": false,
          "report_properties": {
            "rowId": "cRBs3D6qt0S8seSaOjjuub"
          }
        },
        "id": "3DIhcjyCAQfP",
        "outputId": "1c264354-0d91-4079-fa9d-c54044977bfc",
        "colab": {
          "referenced_widgets": [
            "4fffefcfc8e842b7b9052d5cae19be8f",
            "87f3e377814c402abe95a0a2c80780a7",
            "2bfceb9cd68845b9a6b6930870a70fe3"
          ]
        }
      }
    },
    {
      "cell_type": "markdown",
      "source": [
        "## Preprocessing Datasets\n",
        "#### splitting natural dataset content into clean tenor and reasoning"
      ],
      "metadata": {
        "datalore": {
          "node_id": "zeUSqrYEzcBhbJ0SQnPwit",
          "type": "MD",
          "hide_input_from_viewers": false,
          "hide_output_from_viewers": false,
          "report_properties": {
            "rowId": "cRBs3D6qt0S8seSaOjjuub"
          }
        },
        "id": "1dx3C7rjAQfP"
      }
    },
    {
      "cell_type": "code",
      "source": [
        "#splitting content into tenor and reasoning\n",
        "def splitting_content_twotext(data):\n",
        "    #cleaning entire content of html, newlines and whitespaces\n",
        "    content_soup = BeautifulSoup(data['content'])\n",
        "    content = content_soup.get_text().strip()\n",
        "    content = re.sub('\\n', ' ', content)\n",
        "    content = ' '.join(content.split())\n",
        "\n",
        "    data['content'] = content\n",
        "\n",
        "    #splitting content into tenor and reasoning\n",
        "    split_content = data['content'].rsplit(sep=\"<h2>Gründe</h2>\")\n",
        "\n",
        "    #alternative splitting if first split was not possible\n",
        "    if len(split_content) != 2:\n",
        "        split_content = data['content'].rsplit(sep=\"<!--hlIgnoreOn-->Gründe<!--hlIgnoreOff-->\")\n",
        "\n",
        "    if len(split_content) != 2:\n",
        "        split_content = data['content'].rsplit(sep=\"Gründe:\")\n",
        "\n",
        "    if len(split_content) != 2:\n",
        "        #settting tenor and reasoning to None if no split was possible\n",
        "        data['tenor'] = None\n",
        "        data['reasoning'] = None\n",
        "        data['facts'] = None\n",
        "\n",
        "    if len(split_content) == 2:\n",
        "        #cleaning tenor of html, newlines and whitespaces\n",
        "        tenor_soup = BeautifulSoup(split_content[0])\n",
        "        tenor = tenor_soup.get_text().strip()\n",
        "        tenor = re.sub('\\n', ' ', tenor)\n",
        "        tenor = ' '.join(tenor.split()).lower()\n",
        "        split_tenor = tenor.rsplit(sep=\"tenor\")\n",
        "\n",
        "        if len(split_tenor) ==2:\n",
        "            data['tenor'] = split_tenor[1]\n",
        "        else:\n",
        "            data['tenor'] = split_tenor[0]\n",
        "\n",
        "        #cleaning reasoning of html, newlines and whitespaces\n",
        "        reason_soup = BeautifulSoup(split_content[1])\n",
        "        reason = reason_soup.get_text().strip()\n",
        "        reason = re.sub('\\n', ' ', reason)\n",
        "        data['reasoning'] = ' '.join(reason.split()).lower()\n",
        "\n",
        "        data['facts'] = \"\"\n",
        "\n",
        "    return data\n",
        "\n",
        "\n",
        "#splitting content into tenor and reasoning, after filtering for content containing \"Gründe\"\n",
        "natural_dataset = raw_dataset.filter(lambda x: x['content'].lower().find(\"gründe\") != -1\n",
        "                                                 and x['content'].lower().find(\"tenor\") != -1)\n",
        "natural_dataset = natural_dataset.map(splitting_content_twotext)\n",
        "print(natural_dataset)"
      ],
      "execution_count": null,
      "outputs": [
        {
          "name": "stdout",
          "text": [
            "Dataset({\n",
            "    features: ['id', 'court', 'file_number', 'date', 'type', 'content', 'tenor', 'reasoning', 'facts'],\n",
            "    num_rows: 86095\n",
            "})\n"
          ],
          "output_type": "stream"
        },
        {
          "name": "stderr",
          "text": [
            "Loading cached processed dataset at /home/datalore/.cache/huggingface/datasets/LennardZuendorf___json/LennardZuendorf--openlegaldata-bulk-data-0d18a44c8ee5464a/0.0.0/e347ab1c932092252e717ff3f949105a4dd28b27e842dd53157d2f72e276c2e4/cache-96c9c66ff9d224fa.arrow\n",
            "<ipython-input-11-69b82d927409>:29: MarkupResemblesLocatorWarning: The input looks more like a filename than markup. You may want to open this file and pass the filehandle into Beautiful Soup.\n",
            "  tenor_soup = BeautifulSoup(split_content[0])\n",
            "<ipython-input-11-69b82d927409>:41: MarkupResemblesLocatorWarning: The input looks more like a filename than markup. You may want to open this file and pass the filehandle into Beautiful Soup.\n",
            "  reason_soup = BeautifulSoup(split_content[1])\n"
          ],
          "output_type": "stream"
        },
        {
          "data": {
            "application/vnd.jupyter.widget-view+json": {
              "version_major": 2,
              "version_minor": 0,
              "model_id": "ab2e78ecb67e493db27c70f35f9931f3"
            }
          },
          "metadata": {
            "application/vnd.jupyter.widget-view+json": {
              "datalore": {
                "widget_id": "QjMacktydUr1N2I7KCDRwf"
              }
            }
          },
          "output_type": "display_data"
        }
      ],
      "metadata": {
        "datalore": {
          "node_id": "SPMKi8bEheigzUUDMGlw3c",
          "type": "CODE",
          "hide_input_from_viewers": true,
          "hide_output_from_viewers": true
        },
        "id": "ZW2oUO-WAQfQ",
        "outputId": "00d5f9b2-f856-4d91-a1e7-8447ef1519b1",
        "colab": {
          "referenced_widgets": [
            "ab2e78ecb67e493db27c70f35f9931f3"
          ]
        }
      }
    },
    {
      "cell_type": "markdown",
      "source": [
        "## creating based enhanced dataset by splitting datasets into tenor, facts and reasoning"
      ],
      "metadata": {
        "datalore": {
          "node_id": "zwtqvzGEDU1vGrvXyml4lP",
          "type": "MD",
          "hide_input_from_viewers": false,
          "hide_output_from_viewers": false,
          "report_properties": {
            "rowId": "cRBs3D6qt0S8seSaOjjuub"
          }
        },
        "id": "UqfnCe1HAQfR"
      }
    },
    {
      "cell_type": "code",
      "source": [
        "#splitting content into tenor and reasoning\n",
        "def splitting_content_threetext(data):\n",
        "    #cleaning entire content of html, newlines and whitespaces\n",
        "    content_soup = BeautifulSoup(data['content'])\n",
        "    content = content_soup.get_text().strip()\n",
        "    content = re.sub('\\n', ' ', content)\n",
        "    content = ' '.join(content.split())\n",
        "\n",
        "    data['content'] = content\n",
        "\n",
        "    try:\n",
        "        #splitting into tenor, facts and reasoning\n",
        "        split_content1 = content.rsplit(sep=\"Tatbestand:\")\n",
        "        split_content2 = split_content1[1].rsplit(sep=\"Entscheidungsgründe:\")\n",
        "\n",
        "        if len(split_content2) != 2:\n",
        "            split_content1 = content.rsplit(sep=\"Entscheidungsgründe:\")\n",
        "            split_content2 = split_content1[1].rsplit(sep=\"Tatbestand:\")\n",
        "\n",
        "        tenor = split_content1[0].lower()\n",
        "        split_tenor = tenor.rsplit(sep=\"tenor\")\n",
        "\n",
        "        if len(split_tenor) ==2:\n",
        "            data['tenor'] = split_tenor[1]\n",
        "        else:\n",
        "            data['tenor'] = split_tenor[0]\n",
        "\n",
        "        data['facts'] = split_content2[0].lower()\n",
        "        data['reasoning'] = split_content2[1].lower()\n",
        "\n",
        "    except IndexError:\n",
        "        data['tenor'] = None\n",
        "        data['facts'] = None\n",
        "        data['reasoning'] = None\n",
        "\n",
        "    return data\n",
        "\n",
        "\n",
        "#splitting content into tenor and reasoning, after filtering for content containing needed words\n",
        "enhanced_dataset = raw_dataset.filter(lambda x: x['content'].lower().find(\"tenor\") != -1\n",
        "                                               and x['content'].lower().find(\"tatbestand:\") != -1\n",
        "                                               and x['content'].lower().find(\"entscheidungsgründe:\") != -1)\n",
        "enhanced_dataset = enhanced_dataset.map(splitting_content_threetext)"
      ],
      "execution_count": null,
      "outputs": [
        {
          "data": {
            "application/vnd.jupyter.widget-view+json": {
              "version_major": 2,
              "version_minor": 0,
              "model_id": "75b0fea0b62d43be90d69c3576e60270"
            }
          },
          "metadata": {
            "application/vnd.jupyter.widget-view+json": {
              "datalore": {
                "widget_id": "TTHjE1rRMVy8kXI0pF4SHE"
              }
            }
          },
          "output_type": "display_data"
        },
        {
          "data": {
            "application/vnd.jupyter.widget-view+json": {
              "version_major": 2,
              "version_minor": 0,
              "model_id": "287087f1e7fe4e65b603412faf7e3b4c"
            }
          },
          "metadata": {
            "application/vnd.jupyter.widget-view+json": {
              "datalore": {
                "widget_id": "eaFXmttoXs8XoXUWewrby4"
              }
            }
          },
          "output_type": "display_data"
        }
      ],
      "metadata": {
        "datalore": {
          "node_id": "pRLq7lbDIYMsxzBzCHqoOK",
          "type": "CODE",
          "hide_input_from_viewers": false,
          "hide_output_from_viewers": false,
          "report_properties": {
            "rowId": "cRBs3D6qt0S8seSaOjjuub"
          }
        },
        "id": "Dx1bJaKKAQfS",
        "outputId": "f9d766e2-c754-452a-c9b4-20d6b8255ae4",
        "colab": {
          "referenced_widgets": [
            "75b0fea0b62d43be90d69c3576e60270",
            "287087f1e7fe4e65b603412faf7e3b4c"
          ]
        }
      }
    },
    {
      "cell_type": "code",
      "source": [
        "def filter_empty(data):\n",
        "    if data['tenor'] is None or str(data['tenor']).isspace() or data['tenor']==\"\":\n",
        "        return False\n",
        "    elif data['reasoning'] is None or str(data['reasoning']).isspace() or data['reasoning']==\"\":\n",
        "        return False\n",
        "    else:\n",
        "        return True\n",
        "\n",
        "\n",
        "natural_dataset = natural_dataset.filter(filter_empty)\n",
        "enhanced_dataset = enhanced_dataset.filter(filter_empty)"
      ],
      "execution_count": null,
      "outputs": [
        {
          "data": {
            "application/vnd.jupyter.widget-view+json": {
              "version_major": 2,
              "version_minor": 0,
              "model_id": "dbc9af611bb44d3a89a89de6822379f9"
            }
          },
          "metadata": {
            "application/vnd.jupyter.widget-view+json": {
              "datalore": {
                "widget_id": "bxJXD9Ue4o5rR6qoJq3vOY"
              }
            }
          },
          "output_type": "display_data"
        },
        {
          "data": {
            "application/vnd.jupyter.widget-view+json": {
              "version_major": 2,
              "version_minor": 0,
              "model_id": "148d6464dda74a7dbce065117a21371b"
            }
          },
          "metadata": {
            "application/vnd.jupyter.widget-view+json": {
              "datalore": {
                "widget_id": "jptaT3ynD7j9WJrBMmu0Yj"
              }
            }
          },
          "output_type": "display_data"
        }
      ],
      "metadata": {
        "datalore": {
          "node_id": "Yvr1gu8kBCith3uB7WGag3",
          "type": "CODE",
          "hide_input_from_viewers": true,
          "hide_output_from_viewers": true
        },
        "id": "xP4F-qrqAQfT",
        "outputId": "d90feb12-3599-4130-bd81-0cffd81c5dd2",
        "colab": {
          "referenced_widgets": [
            "dbc9af611bb44d3a89a89de6822379f9",
            "148d6464dda74a7dbce065117a21371b"
          ]
        }
      }
    },
    {
      "cell_type": "code",
      "source": [
        "def text_cleaner(data):\n",
        "    tenor = data['tenor']\n",
        "    tenor = tenor.lower()\n",
        "    split_tenor = tenor.rsplit(sep=\"tenor\")\n",
        "\n",
        "    if len(split_tenor) ==2:\n",
        "        data['tenor'] = split_tenor[1]\n",
        "    else:\n",
        "        data['tenor'] = split_tenor[0]\n",
        "\n",
        "    data['reasoning'] = data['reasoning'].lower()\n",
        "\n",
        "    if data['facts']:\n",
        "        data['facts'] = data['facts'].lower()\n",
        "\n",
        "    return data\n",
        "\n",
        "natural_dataset = natural_dataset.map(text_cleaner)\n",
        "enhanced_dataset = enhanced_dataset.map(text_cleaner)"
      ],
      "execution_count": null,
      "outputs": [
        {
          "data": {
            "application/vnd.jupyter.widget-view+json": {
              "version_major": 2,
              "version_minor": 0,
              "model_id": "f806869f1e0d4e24a7966360cae6b85f"
            }
          },
          "metadata": {
            "application/vnd.jupyter.widget-view+json": {
              "datalore": {
                "widget_id": "lF5h4CMoQEfMvyYqiAZaZN"
              }
            }
          },
          "output_type": "display_data"
        },
        {
          "data": {
            "application/vnd.jupyter.widget-view+json": {
              "version_major": 2,
              "version_minor": 0,
              "model_id": "34dbc642f22148fda93c32b0c9b7d3d6"
            }
          },
          "metadata": {
            "application/vnd.jupyter.widget-view+json": {
              "datalore": {
                "widget_id": "kTrnsZ7qfgaSDNjpSPojG9"
              }
            }
          },
          "output_type": "display_data"
        }
      ],
      "metadata": {
        "datalore": {
          "node_id": "2Nnimh5YDwAkxjoCJFaPKL",
          "type": "CODE",
          "hide_input_from_viewers": true,
          "hide_output_from_viewers": true
        },
        "id": "rr9VyBGOAQfU",
        "outputId": "bc680989-e82b-4e8f-db82-e58163e74484",
        "colab": {
          "referenced_widgets": [
            "f806869f1e0d4e24a7966360cae6b85f",
            "34dbc642f22148fda93c32b0c9b7d3d6"
          ]
        }
      }
    },
    {
      "cell_type": "markdown",
      "source": [
        "## Creating Splits, Uploading the new Dataset to HuggingFace Datasets"
      ],
      "metadata": {
        "datalore": {
          "node_id": "kRHn9Jcq6DuRiMO9Kfv8MQ",
          "type": "MD",
          "hide_input_from_viewers": false,
          "hide_output_from_viewers": false,
          "report_properties": {
            "rowId": "cRBs3D6qt0S8seSaOjjuub"
          }
        },
        "id": "IZp0mEz_AQfV"
      }
    },
    {
      "cell_type": "code",
      "source": [
        "openlegaldata_dataset = datasets.DatasetDict({\"three\": enhanced_dataset, \"two\": natural_dataset})\n",
        "print(openlegaldata_dataset)"
      ],
      "execution_count": null,
      "outputs": [
        {
          "name": "stdout",
          "text": [
            "DatasetDict({\n",
            "    three: Dataset({\n",
            "        features: ['id', 'court', 'file_number', 'date', 'type', 'content', 'tenor', 'facts', 'reasoning'],\n",
            "        num_rows: 2828\n",
            "    })\n",
            "    two: Dataset({\n",
            "        features: ['id', 'court', 'file_number', 'date', 'type', 'content', 'tenor', 'reasoning', 'facts'],\n",
            "        num_rows: 4954\n",
            "    })\n",
            "})\n"
          ],
          "output_type": "stream"
        }
      ],
      "metadata": {
        "datalore": {
          "node_id": "vqvvvj3s3ViMUCZCASGI5m",
          "type": "CODE",
          "hide_input_from_viewers": false,
          "hide_output_from_viewers": false,
          "report_properties": {
            "rowId": "cRBs3D6qt0S8seSaOjjuub"
          }
        },
        "id": "NJQGbBIRAQfV",
        "outputId": "13fb3d85-23a4-4c84-a843-3b34893bc5dc"
      }
    },
    {
      "cell_type": "code",
      "source": [
        "legalis_dataset = enhanced_dataset.train_test_split(test_size=0.05)\n",
        "print(legalis_dataset)"
      ],
      "execution_count": null,
      "outputs": [
        {
          "name": "stdout",
          "text": [
            "DatasetDict({\n",
            "    train: Dataset({\n",
            "        features: ['id', 'court', 'file_number', 'date', 'type', 'content', 'tenor', 'facts', 'reasoning'],\n",
            "        num_rows: 2686\n",
            "    })\n",
            "    test: Dataset({\n",
            "        features: ['id', 'court', 'file_number', 'date', 'type', 'content', 'tenor', 'facts', 'reasoning'],\n",
            "        num_rows: 142\n",
            "    })\n",
            "})\n"
          ],
          "output_type": "stream"
        }
      ],
      "metadata": {
        "datalore": {
          "node_id": "e98v7Bdrw8pDAyGlhTvOAf",
          "type": "CODE",
          "hide_input_from_viewers": true,
          "hide_output_from_viewers": true
        },
        "id": "xUTkftEcAQfW",
        "outputId": "43fea5d9-94e8-4bb3-94d7-d1450eac2aad"
      }
    },
    {
      "cell_type": "code",
      "source": [
        "#uploading new dataset into different repository\n",
        "openlegaldata_dataset.push_to_hub(\"LennardZuendorf/openlegaldata-processed\", token=os.environ['hub_token'])\n",
        "legalis_dataset.push_to_hub(\"LennardZuendorf/legalis\", token=os.environ['hub_token'])"
      ],
      "execution_count": null,
      "outputs": [
        {
          "name": "stderr",
          "text": [
            "Pushing split three to the Hub.\n",
            "Pushing split two to the Hub.\n",
            "Pushing split train to the Hub.\n",
            "Pushing split test to the Hub.\n"
          ],
          "output_type": "stream"
        },
        {
          "data": {
            "application/vnd.jupyter.widget-view+json": {
              "version_major": 2,
              "version_minor": 0,
              "model_id": "1c992c25c56c4240ab60f7c2af790489"
            }
          },
          "metadata": {
            "application/vnd.jupyter.widget-view+json": {
              "datalore": {
                "widget_id": "WsuM2mv6TtCGoUmbJnrkLD"
              }
            }
          },
          "output_type": "display_data"
        },
        {
          "data": {
            "application/vnd.jupyter.widget-view+json": {
              "version_major": 2,
              "version_minor": 0,
              "model_id": "8e9837e88089405592da976b3496823b"
            }
          },
          "metadata": {
            "application/vnd.jupyter.widget-view+json": {
              "datalore": {
                "widget_id": "kUdf0Er5MUuBSbFcY6PpCF"
              }
            }
          },
          "output_type": "display_data"
        },
        {
          "data": {
            "application/vnd.jupyter.widget-view+json": {
              "version_major": 2,
              "version_minor": 0,
              "model_id": "045c35dbcf284657932caf41ff52ca6b"
            }
          },
          "metadata": {
            "application/vnd.jupyter.widget-view+json": {
              "datalore": {
                "widget_id": "D94jsz4AjzmlT7oyUEtRgi"
              }
            }
          },
          "output_type": "display_data"
        },
        {
          "data": {
            "application/vnd.jupyter.widget-view+json": {
              "version_major": 2,
              "version_minor": 0,
              "model_id": "d6b4a6ce256040b0a4920c8fef7d78bb"
            }
          },
          "metadata": {
            "application/vnd.jupyter.widget-view+json": {
              "datalore": {
                "widget_id": "hrlvZ29NLQbhqyOkHEmg41"
              }
            }
          },
          "output_type": "display_data"
        },
        {
          "data": {
            "application/vnd.jupyter.widget-view+json": {
              "version_major": 2,
              "version_minor": 0,
              "model_id": "12c1c83811af4463be66d8e96c009f51"
            }
          },
          "metadata": {
            "application/vnd.jupyter.widget-view+json": {
              "datalore": {
                "widget_id": "sDPr8lPahBeXCGbucS78xv"
              }
            }
          },
          "output_type": "display_data"
        },
        {
          "data": {
            "application/vnd.jupyter.widget-view+json": {
              "version_major": 2,
              "version_minor": 0,
              "model_id": "b54de55d7fda4f75ae7b236c44c5376c"
            }
          },
          "metadata": {
            "application/vnd.jupyter.widget-view+json": {
              "datalore": {
                "widget_id": "gqNq8sKSETmXE4qqFdZiTu"
              }
            }
          },
          "output_type": "display_data"
        },
        {
          "data": {
            "application/vnd.jupyter.widget-view+json": {
              "version_major": 2,
              "version_minor": 0,
              "model_id": "346a0410b3a24cc4b1ad2c3ae39783cc"
            }
          },
          "metadata": {
            "application/vnd.jupyter.widget-view+json": {
              "datalore": {
                "widget_id": "wMqJbhLWMpLRTnkeVO1FrC"
              }
            }
          },
          "output_type": "display_data"
        },
        {
          "data": {
            "application/vnd.jupyter.widget-view+json": {
              "version_major": 2,
              "version_minor": 0,
              "model_id": "b7512511458c4265ba76e28e02dc5d51"
            }
          },
          "metadata": {
            "application/vnd.jupyter.widget-view+json": {
              "datalore": {
                "widget_id": "mazzKE4TT24ahU9Xk3vUBf"
              }
            }
          },
          "output_type": "display_data"
        },
        {
          "data": {
            "application/vnd.jupyter.widget-view+json": {
              "version_major": 2,
              "version_minor": 0,
              "model_id": "d0e1ce1f8f404005a0b6ebd601738521"
            }
          },
          "metadata": {
            "application/vnd.jupyter.widget-view+json": {
              "datalore": {
                "widget_id": "AyHjqL9inRxt35w5fIm6qU"
              }
            }
          },
          "output_type": "display_data"
        },
        {
          "data": {
            "application/vnd.jupyter.widget-view+json": {
              "version_major": 2,
              "version_minor": 0,
              "model_id": "fe496e3a097744a98aa135fb01670164"
            }
          },
          "metadata": {
            "application/vnd.jupyter.widget-view+json": {
              "datalore": {
                "widget_id": "7UV8c92Mu7ac2d6uK4iGmZ"
              }
            }
          },
          "output_type": "display_data"
        },
        {
          "data": {
            "application/vnd.jupyter.widget-view+json": {
              "version_major": 2,
              "version_minor": 0,
              "model_id": "a8eb47878bf646e79707377c8e2feb84"
            }
          },
          "metadata": {
            "application/vnd.jupyter.widget-view+json": {
              "datalore": {
                "widget_id": "m094VfM6yR0Vb9rfOdp5tg"
              }
            }
          },
          "output_type": "display_data"
        },
        {
          "data": {
            "application/vnd.jupyter.widget-view+json": {
              "version_major": 2,
              "version_minor": 0,
              "model_id": "02bc8115707f49808072fb92ff77b443"
            }
          },
          "metadata": {
            "application/vnd.jupyter.widget-view+json": {
              "datalore": {
                "widget_id": "EyZGwY4pTW0RcbUILRcVbV"
              }
            }
          },
          "output_type": "display_data"
        },
        {
          "data": {
            "application/vnd.jupyter.widget-view+json": {
              "version_major": 2,
              "version_minor": 0,
              "model_id": "08411c52c34a4416a2ac4019e0361e03"
            }
          },
          "metadata": {
            "application/vnd.jupyter.widget-view+json": {
              "datalore": {
                "widget_id": "0coWvZcBKeGxXaS30KgfTu"
              }
            }
          },
          "output_type": "display_data"
        }
      ],
      "metadata": {
        "datalore": {
          "node_id": "DnDrAg3tubhj2LXmdD1Rri",
          "type": "CODE",
          "hide_input_from_viewers": true,
          "hide_output_from_viewers": true
        },
        "id": "1YApaONnAQfX",
        "outputId": "df867259-9ee5-41d2-8645-a42e73ca2df6",
        "colab": {
          "referenced_widgets": [
            "1c992c25c56c4240ab60f7c2af790489",
            "8e9837e88089405592da976b3496823b",
            "045c35dbcf284657932caf41ff52ca6b",
            "d6b4a6ce256040b0a4920c8fef7d78bb",
            "12c1c83811af4463be66d8e96c009f51",
            "b54de55d7fda4f75ae7b236c44c5376c",
            "346a0410b3a24cc4b1ad2c3ae39783cc",
            "b7512511458c4265ba76e28e02dc5d51",
            "d0e1ce1f8f404005a0b6ebd601738521",
            "fe496e3a097744a98aa135fb01670164",
            "a8eb47878bf646e79707377c8e2feb84",
            "02bc8115707f49808072fb92ff77b443",
            "08411c52c34a4416a2ac4019e0361e03"
          ]
        }
      }
    }
  ],
  "metadata": {
    "widgets": {
      "application/vnd.jupyter.widget-state+json": {}
    },
    "kernelspec": {
      "display_name": "Python",
      "language": "python",
      "name": "python"
    },
    "datalore": {
      "computation_mode": "JUPYTER",
      "package_manager": "pip",
      "base_environment": "default",
      "packages": [
        {
          "name": "datasets",
          "version": "2.12.0",
          "source": "PIP"
        },
        {
          "name": "tiktoken",
          "version": "0.4.0",
          "source": "PIP"
        },
        {
          "name": "openai",
          "version": "0.27.7",
          "source": "PIP"
        }
      ],
      "report_row_ids": [],
      "version": 3
    },
    "colab": {
      "provenance": []
    }
  },
  "nbformat": 4,
  "nbformat_minor": 0
}