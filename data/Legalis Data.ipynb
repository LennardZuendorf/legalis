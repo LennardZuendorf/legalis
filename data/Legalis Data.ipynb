{
 "cells": [
  {
   "cell_type": "markdown",
   "source": [
    "# Interpretor Data Set\n",
    "\n",
    "Notebook used to edit the existing dataset for usage in the legalis project. The following can "
   ],
   "attachments": {},
   "metadata": {
    "datalore": {
     "node_id": "JPbsy3WD5d1rp9elgZ29X7",
     "type": "MD",
     "hide_input_from_viewers": true,
     "hide_output_from_viewers": true
    }
   }
  },
  {
   "cell_type": "code",
   "source": [
    "from datasets import load_dataset\n",
    "from bs4 import BeautifulSoup\n",
    "import re"
   ],
   "execution_count": 2,
   "outputs": [],
   "metadata": {
    "datalore": {
     "node_id": "i4eTqNmM0jWgqOkacNG2vs",
     "type": "CODE",
     "hide_input_from_viewers": true,
     "hide_output_from_viewers": true
    },
    "ExecuteTime": {
     "end_time": "2023-06-04T14:56:59.223681800Z",
     "start_time": "2023-06-04T14:56:56.334874700Z"
    }
   }
  },
  {
   "cell_type": "code",
   "source": [
    "raw_dataset=load_dataset(\"LennardZuendorf/openlegaldata-bulk-data\", split='train')"
   ],
   "execution_count": 3,
   "outputs": [
    {
     "name": "stderr",
     "output_type": "stream",
     "text": [
      "Found cached dataset json (C:/Users/lenna/.cache/huggingface/datasets/LennardZuendorf___json/LennardZuendorf--openlegaldata-bulk-data-0d18a44c8ee5464a/0.0.0/e347ab1c932092252e717ff3f949105a4dd28b27e842dd53157d2f72e276c2e4)\n"
     ]
    }
   ],
   "metadata": {
    "datalore": {
     "node_id": "eKB5zAj9oaWOmtQJ7Pq8Y9",
     "type": "CODE",
     "hide_input_from_viewers": true,
     "hide_output_from_viewers": true
    },
    "ExecuteTime": {
     "end_time": "2023-06-04T14:57:04.935424500Z",
     "start_time": "2023-06-04T14:56:59.233726200Z"
    }
   }
  },
  {
   "cell_type": "code",
   "execution_count": 46,
   "outputs": [
    {
     "name": "stdout",
     "output_type": "stream",
     "text": [
      "Tenor Die Beschwerde des Antragstellers gegen den Beschluss des Sozialgerichts Kiel vom 2. August 2022 wird zurückgewiesen. Außergerichtliche Kosten sind auch für das Beschwerdeverfahren nicht zu erstatten.\n",
      "Die Beschwerde des Antragstellers gegen den Beschluss des Sozialgerichts Kiel vom 2. August 2022 wird zurückgewiesen. Außergerichtliche Kosten sind auch für das Beschwerdeverfahren nicht zu erstatten.\n"
     ]
    }
   ],
   "source": [
    "data = raw_dataset[9]\n",
    "\n",
    "split_content=data['content'].rsplit(sep=\"<!--hlIgnoreOn-->Gründe<!--hlIgnoreOff-->\")\n",
    "tmp_soup=BeautifulSoup(split_content[0])\n",
    "tmp=tmp_soup.get_text().strip()\n",
    "\n",
    "tmp=re.sub('\\n', ' ', tmp)\n",
    "tmp=' '.join(tmp.split())\n",
    "\n",
    "print(tmp)\n",
    "\n",
    "\n",
    "\n",
    "print(tmp)"
   ],
   "metadata": {
    "collapsed": false,
    "ExecuteTime": {
     "end_time": "2023-06-04T15:15:55.642676500Z",
     "start_time": "2023-06-04T15:15:55.230354100Z"
    }
   }
  },
  {
   "cell_type": "code",
   "source": [
    "# renaming and removing columns\n",
    "dataset = raw_dataset.remove_columns(['slug','ecli', 'updated_date', 'created_date'])\n",
    "\n",
    "#updating columns in nested dict ('court')\n",
    "def cleaning_courts(court_data):\n",
    "    del court_data['court']['slug']\n",
    "    del court_data['court']['city']\n",
    "\n",
    "    return court_data\n",
    "\n",
    "dataset = dataset.map(cleaning_courts)\n",
    "\n",
    "error_count = 0\n",
    "\n",
    "#splitting content into tenor and reasoning\n",
    "def splitting_content(data):\n",
    "\n",
    "    #splitting content into tenor and reasoning\n",
    "    split_content = data['content'].rsplit(sep=\"<h2>Gründe</h2>\")\n",
    "\n",
    "    #alternative splitting if first split was not possible\n",
    "    if len(split_content)!=2:\n",
    "        split_content=data['content'].rsplit(sep=\"<!--hlIgnoreOn-->Gründe<!--hlIgnoreOff-->\")\n",
    "\n",
    "    if len(split_content)!=2:\n",
    "\n",
    "        #settting tenor and reasoning to None if no split was possible\n",
    "        data['tenor']=None\n",
    "        data['reasoning']=None\n",
    "\n",
    "    if len(split_content)==2:\n",
    "\n",
    "        #cleaning tenor of html, newlines and whitespaces\n",
    "        tenor_soup=BeautifulSoup(split_content[0])\n",
    "        tenor=tenor_soup.get_text().strip()\n",
    "        tenor=re.sub('\\n', ' ', tenor)#\n",
    "        tenor=' '.join(tenor.split())\n",
    "        data['tenor'] = tenor\n",
    "\n",
    "        #cleaning reasoning of html, newlines and whitespaces\n",
    "        reason_soup=BeautifulSoup(split_content[1])\n",
    "        reason=reason_soup.get_text().strip()\n",
    "        reason=re.sub('\\n', ' ', reason)\n",
    "        data['reasoning']=' '.join(reason.split())\n",
    "    \n",
    "    return data\n",
    "\n",
    "#splitting content into tenor and reasoning, filter out data without found tenor\n",
    "dataset = dataset.map(splitting_content)\n",
    "dataset = dataset.filter(lambda data: data['tenor'] is not None)"
   ],
   "execution_count": 49,
   "outputs": [
    {
     "name": "stderr",
     "output_type": "stream",
     "text": [
      "Loading cached processed dataset at C:\\Users\\lenna\\.cache\\huggingface\\datasets\\LennardZuendorf___json\\LennardZuendorf--openlegaldata-bulk-data-0d18a44c8ee5464a\\0.0.0\\e347ab1c932092252e717ff3f949105a4dd28b27e842dd53157d2f72e276c2e4\\cache-3e4c238f57500b9b.arrow\n"
     ]
    },
    {
     "data": {
      "text/plain": "Map:   0%|          | 0/251038 [00:00<?, ? examples/s]",
      "application/vnd.jupyter.widget-view+json": {
       "version_major": 2,
       "version_minor": 0,
       "model_id": "428f512838894acf8976256a13821fca"
      }
     },
     "metadata": {},
     "output_type": "display_data"
    }
   ],
   "metadata": {
    "datalore": {
     "node_id": "SPMKi8bEheigzUUDMGlw3c",
     "type": "CODE",
     "hide_input_from_viewers": true,
     "hide_output_from_viewers": true
    },
    "ExecuteTime": {
     "end_time": "2023-06-04T15:58:43.717127300Z",
     "start_time": "2023-06-04T15:36:41.166705900Z"
    }
   }
  },
  {
   "cell_type": "code",
   "execution_count": null,
   "outputs": [],
   "source": [
    "#"
   ],
   "metadata": {
    "collapsed": false
   }
  },
  {
   "cell_type": "code",
   "source": [
    "#creating train and test split\n",
    "dataset = dataset.train_test_split(test_size=0.1)\n",
    "\n",
    "print(dataset)"
   ],
   "execution_count": 50,
   "outputs": [],
   "metadata": {
    "datalore": {
     "node_id": "5NktLE38br6y2GVkECZryA",
     "type": "CODE",
     "hide_input_from_viewers": true,
     "hide_output_from_viewers": true
    }
   }
  },
  {
   "cell_type": "code",
   "source": [
    "#uploading new dataset into different repository\n",
    "dataset.push_to_hub(\"LennardZuendorf/legalis\")"
   ],
   "execution_count": null,
   "outputs": [
    {
     "name": "stderr",
     "output_type": "stream",
     "text": [
      "Pushing split train to the Hub.\n"
     ]
    },
    {
     "data": {
      "text/plain": "Pushing dataset shards to the dataset hub:   0%|          | 0/3 [00:00<?, ?it/s]",
      "application/vnd.jupyter.widget-view+json": {
       "version_major": 2,
       "version_minor": 0,
       "model_id": "629e635b8b144da3b70606b2d5e5117f"
      }
     },
     "metadata": {},
     "output_type": "display_data"
    },
    {
     "data": {
      "text/plain": "Creating parquet from Arrow format:   0%|          | 0/12 [00:00<?, ?ba/s]",
      "application/vnd.jupyter.widget-view+json": {
       "version_major": 2,
       "version_minor": 0,
       "model_id": "503337d029cb436bbc2efe1c2790a2bd"
      }
     },
     "metadata": {},
     "output_type": "display_data"
    },
    {
     "data": {
      "text/plain": "Upload 1 LFS files:   0%|          | 0/1 [00:00<?, ?it/s]",
      "application/vnd.jupyter.widget-view+json": {
       "version_major": 2,
       "version_minor": 0,
       "model_id": "91e28d35515b4673a90752cbfa2cf37e"
      }
     },
     "metadata": {},
     "output_type": "display_data"
    }
   ],
   "metadata": {
    "datalore": {
     "node_id": "DnDrAg3tubhj2LXmdD1Rri",
     "type": "CODE",
     "hide_input_from_viewers": true,
     "hide_output_from_viewers": true
    },
    "ExecuteTime": {
     "start_time": "2023-06-04T14:36:24.830351300Z"
    }
   }
  }
 ],
 "metadata": {
  "kernelspec": {
   "name": "python3",
   "language": "python",
   "display_name": "Python 3 (ipykernel)"
  },
  "datalore": {
   "computation_mode": "JUPYTER",
   "package_manager": "pip",
   "base_environment": "default",
   "packages": [
    {
     "name": "datasets",
     "version": "2.12.0",
     "source": "PIP"
    }
   ],
   "report_row_ids": [],
   "version": 3
  }
 },
 "nbformat": 4,
 "nbformat_minor": 4
}
