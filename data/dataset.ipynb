{
 "cells": [
  {
   "cell_type": "markdown",
   "source": [
    "# Legalis Data Set\n",
    "\n",
    "Notebook used to edit the existing dataset for usage in the legalis project. The following can "
   ],
   "attachments": {},
   "metadata": {
    "datalore": {
     "node_id": "JPbsy3WD5d1rp9elgZ29X7",
     "type": "MD",
     "hide_input_from_viewers": true,
     "hide_output_from_viewers": true
    }
   }
  },
  {
   "cell_type": "code",
   "source": [
    "from datasets import load_dataset\n",
    "from bs4 import BeautifulSoup\n",
    "import re"
   ],
   "execution_count": 2,
   "outputs": [],
   "metadata": {
    "datalore": {
     "node_id": "i4eTqNmM0jWgqOkacNG2vs",
     "type": "CODE",
     "hide_input_from_viewers": true,
     "hide_output_from_viewers": true
    }
   }
  },
  {
   "cell_type": "code",
   "source": [
    "raw_dataset=load_dataset(\"LennardZuendorf/openlegaldata-bulk-data\", split='train')"
   ],
   "execution_count": 5,
   "outputs": [
    {
     "name": "stdout",
     "text": [
      "Downloading and preparing dataset json/LennardZuendorf--openlegaldata-bulk-data to /home/datalore/.cache/huggingface/datasets/LennardZuendorf___json/LennardZuendorf--openlegaldata-bulk-data-0d18a44c8ee5464a/0.0.0/e347ab1c932092252e717ff3f949105a4dd28b27e842dd53157d2f72e276c2e4...\n",
      "Dataset json downloaded and prepared to /home/datalore/.cache/huggingface/datasets/LennardZuendorf___json/LennardZuendorf--openlegaldata-bulk-data-0d18a44c8ee5464a/0.0.0/e347ab1c932092252e717ff3f949105a4dd28b27e842dd53157d2f72e276c2e4. Subsequent calls will reuse this data.\n"
     ],
     "output_type": "stream"
    },
    {
     "data": {
      "application/vnd.jupyter.widget-view+json": {
       "version_major": 2,
       "version_minor": 0,
       "model_id": "3fc9a46ad2eb48af980b8d9f2707d70a"
      }
     },
     "metadata": {
      "application/vnd.jupyter.widget-view+json": {
       "datalore": {
        "widget_id": "7KrfPKhuWuTZfU6POJVfAE"
       }
      }
     },
     "output_type": "display_data"
    },
    {
     "data": {
      "application/vnd.jupyter.widget-view+json": {
       "version_major": 2,
       "version_minor": 0,
       "model_id": "99d33884c6754652820f4f0cd7124c2d"
      }
     },
     "metadata": {
      "application/vnd.jupyter.widget-view+json": {
       "datalore": {
        "widget_id": "14rbDHSyNWwmffosEeAOBh"
       }
      }
     },
     "output_type": "display_data"
    },
    {
     "data": {
      "application/vnd.jupyter.widget-view+json": {
       "version_major": 2,
       "version_minor": 0,
       "model_id": "f132909fcc8e426d86b537869a9408d3"
      }
     },
     "metadata": {
      "application/vnd.jupyter.widget-view+json": {
       "datalore": {
        "widget_id": "rwkFDMQP43OOSGqmzbBYVE"
       }
      }
     },
     "output_type": "display_data"
    },
    {
     "data": {
      "application/vnd.jupyter.widget-view+json": {
       "version_major": 2,
       "version_minor": 0,
       "model_id": "3e904d8306f345bfb6548e306e11820c"
      }
     },
     "metadata": {
      "application/vnd.jupyter.widget-view+json": {
       "datalore": {
        "widget_id": "V3OfrQfbMGP9Dgdd2b5wxw"
       }
      }
     },
     "output_type": "display_data"
    }
   ],
   "metadata": {
    "datalore": {
     "node_id": "eKB5zAj9oaWOmtQJ7Pq8Y9",
     "type": "CODE",
     "hide_input_from_viewers": true,
     "hide_output_from_viewers": true
    }
   }
  },
  {
   "cell_type": "code",
   "source": [
    "dataset=load_dataset(\"LennardZuendorf/legalis\", split='train')\n",
    "\n",
    "print(dataset)"
   ],
   "execution_count": 19,
   "outputs": [
    {
     "name": "stdout",
     "text": [
      "Dataset({\n",
      "    features: ['id', 'court', 'file_number', 'date', 'type', 'content', 'tenor', 'reasoning'],\n",
      "    num_rows: 41791\n",
      "})\n"
     ],
     "output_type": "stream"
    },
    {
     "name": "stderr",
     "text": [
      "Found cached dataset parquet (/home/datalore/.cache/huggingface/datasets/LennardZuendorf___parquet/LennardZuendorf--legalis-0a81af9488284743/0.0.0/2a3b91fbd88a2c90d1dbbb32b460cf621d31bd5b05b934492fdef7d8d6f236ec)\n"
     ],
     "output_type": "stream"
    }
   ],
   "metadata": {
    "datalore": {
     "node_id": "rmbiIswHnUpMwdpl8tuXik",
     "type": "CODE",
     "hide_input_from_viewers": true,
     "hide_output_from_viewers": true
    }
   }
  },
  {
   "cell_type": "code",
   "source": [
    "# renaming and removing columns\n",
    "dataset = raw_dataset.remove_columns(['slug','ecli', 'updated_date', 'created_date'])\n",
    "\n",
    "#updating columns in nested dict ('court')\n",
    "def cleaning_courts(court_data):\n",
    "    del court_data['court']['slug']\n",
    "    del court_data['court']['city']\n",
    "\n",
    "    return court_data\n",
    "\n",
    "dataset = dataset.map(cleaning_courts)\n",
    "\n",
    "error_count = 0\n",
    "\n",
    "#splitting content into tenor and reasoning\n",
    "def splitting_content(data):\n",
    "\n",
    "    #splitting content into tenor and reasoning\n",
    "    split_content = data['content'].rsplit(sep=\"<h2>Gründe</h2>\")\n",
    "\n",
    "    #alternative splitting if first split was not possible\n",
    "    if len(split_content)!=2:\n",
    "        split_content=data['content'].rsplit(sep=\"<!--hlIgnoreOn-->Gründe<!--hlIgnoreOff-->\")\n",
    "\n",
    "    if len(split_content)!=2:\n",
    "\n",
    "        #settting tenor and reasoning to None if no split was possible\n",
    "        data['tenor']=None\n",
    "        data['reasoning']=None\n",
    "\n",
    "    if len(split_content)==2:\n",
    "\n",
    "        #cleaning tenor of html, newlines and whitespaces\n",
    "        tenor_soup=BeautifulSoup(split_content[0])\n",
    "        tenor=tenor_soup.get_text().strip()\n",
    "        tenor=re.sub('\\n', ' ', tenor)#\n",
    "        tenor=' '.join(tenor.split())\n",
    "        data['tenor'] = tenor\n",
    "\n",
    "        #cleaning reasoning of html, newlines and whitespaces\n",
    "        reason_soup=BeautifulSoup(split_content[1])\n",
    "        reason=reason_soup.get_text().strip()\n",
    "        reason=re.sub('\\n', ' ', reason)\n",
    "        data['reasoning']=' '.join(reason.split())\n",
    "    \n",
    "    return data\n",
    "\n",
    "#splitting content into tenor and reasoning, filter out data without found tenor\n",
    "dataset = dataset.map(splitting_content)\n",
    "dataset = dataset.filter(lambda data: data['tenor'] is not None)"
   ],
   "execution_count": 6,
   "outputs": [
    {
     "data": {
      "application/vnd.jupyter.widget-view+json": {
       "version_major": 2,
       "version_minor": 0,
       "model_id": "91828f46bd5f45d8b37652a9ad5be03f"
      }
     },
     "metadata": {
      "application/vnd.jupyter.widget-view+json": {
       "datalore": {
        "widget_id": "wtkJ5rCmFBvBRAYRJ5C9vk"
       }
      }
     },
     "output_type": "display_data"
    },
    {
     "data": {
      "application/vnd.jupyter.widget-view+json": {
       "version_major": 2,
       "version_minor": 0,
       "model_id": "2ebee70e55d04b10b01980ab27ee0e14"
      }
     },
     "metadata": {
      "application/vnd.jupyter.widget-view+json": {
       "datalore": {
        "widget_id": "MdXz3nDonSuyAHVrgZmANt"
       }
      }
     },
     "output_type": "display_data"
    },
    {
     "data": {
      "application/vnd.jupyter.widget-view+json": {
       "version_major": 2,
       "version_minor": 0,
       "model_id": "ddc7785356ea4679a5b616ad32214a5f"
      }
     },
     "metadata": {
      "application/vnd.jupyter.widget-view+json": {
       "datalore": {
        "widget_id": "1HPgJhqWZyXkvi4kUiqbxc"
       }
      }
     },
     "output_type": "display_data"
    }
   ],
   "metadata": {
    "datalore": {
     "node_id": "SPMKi8bEheigzUUDMGlw3c",
     "type": "CODE",
     "hide_input_from_viewers": true,
     "hide_output_from_viewers": true
    }
   }
  },
  {
   "cell_type": "code",
   "source": [
    "def filter_strafe(data):\n",
    "    return 'strafe' in data['tenor'].lower()\n",
    "\n",
    "dataset_strafe=dataset.filter(filter_strafe)\n",
    "print(dataset_strafe)"
   ],
   "execution_count": 29,
   "outputs": [
    {
     "name": "stdout",
     "text": [
      "Dataset({\n",
      "    features: ['id', 'court', 'file_number', 'date', 'type', 'content', 'tenor', 'reasoning'],\n",
      "    num_rows: 1379\n",
      "})\n"
     ],
     "output_type": "stream"
    },
    {
     "name": "stderr",
     "text": [
      "Loading cached processed dataset at /home/datalore/.cache/huggingface/datasets/LennardZuendorf___parquet/LennardZuendorf--legalis-0a81af9488284743/0.0.0/2a3b91fbd88a2c90d1dbbb32b460cf621d31bd5b05b934492fdef7d8d6f236ec/cache-75f877ff0af1181e.arrow\n"
     ],
     "output_type": "stream"
    }
   ],
   "metadata": {
    "datalore": {
     "node_id": "cKA5Wc3NYxQzpuykHvgGfC",
     "type": "CODE",
     "hide_input_from_viewers": true,
     "hide_output_from_viewers": true
    }
   }
  },
  {
   "cell_type": "code",
   "source": [
    "#creating train and test split\n",
    "dataset = dataset.train_test_split(test_size=0.1)\n",
    "\n",
    "print(dataset)"
   ],
   "execution_count": 7,
   "outputs": [
    {
     "name": "stdout",
     "text": [
      "DatasetDict({\n",
      "    train: Dataset({\n",
      "        features: ['id', 'court', 'file_number', 'date', 'type', 'content', 'tenor', 'reasoning'],\n",
      "        num_rows: 41791\n",
      "    })\n",
      "    test: Dataset({\n",
      "        features: ['id', 'court', 'file_number', 'date', 'type', 'content', 'tenor', 'reasoning'],\n",
      "        num_rows: 4644\n",
      "    })\n",
      "})\n"
     ],
     "output_type": "stream"
    }
   ],
   "metadata": {
    "datalore": {
     "node_id": "5NktLE38br6y2GVkECZryA",
     "type": "CODE",
     "hide_input_from_viewers": true,
     "hide_output_from_viewers": true
    }
   }
  },
  {
   "cell_type": "code",
   "source": [
    "#uploading new dataset into different repository\n",
    "dataset.push_to_hub(\"LennardZuendorf/legalis\")"
   ],
   "execution_count": 8,
   "outputs": [
    {
     "name": "stderr",
     "text": [
      "Pushing split train to the Hub.\n",
      "Pushing split test to the Hub.\n"
     ],
     "output_type": "stream"
    },
    {
     "data": {
      "application/vnd.jupyter.widget-view+json": {
       "version_major": 2,
       "version_minor": 0,
       "model_id": "9ea915a74e074dc1a91c36fe37476002"
      }
     },
     "metadata": {
      "application/vnd.jupyter.widget-view+json": {
       "datalore": {
        "widget_id": "daxoYeudGChrwuN36Vv1ez"
       }
      }
     },
     "output_type": "display_data"
    },
    {
     "data": {
      "application/vnd.jupyter.widget-view+json": {
       "version_major": 2,
       "version_minor": 0,
       "model_id": "65637cdacec5453a9d16e6e880f21b28"
      }
     },
     "metadata": {
      "application/vnd.jupyter.widget-view+json": {
       "datalore": {
        "widget_id": "YVVKjUX54tabbZqnA1se3d"
       }
      }
     },
     "output_type": "display_data"
    },
    {
     "data": {
      "application/vnd.jupyter.widget-view+json": {
       "version_major": 2,
       "version_minor": 0,
       "model_id": "7baf6fcc07c64f18995af02148e4a4f5"
      }
     },
     "metadata": {
      "application/vnd.jupyter.widget-view+json": {
       "datalore": {
        "widget_id": "n8GVYSAQkKRCKcprckEAPY"
       }
      }
     },
     "output_type": "display_data"
    },
    {
     "data": {
      "application/vnd.jupyter.widget-view+json": {
       "version_major": 2,
       "version_minor": 0,
       "model_id": "130f7ed2d9f54737a6ff260538dfeb70"
      }
     },
     "metadata": {
      "application/vnd.jupyter.widget-view+json": {
       "datalore": {
        "widget_id": "Cct9lUgT41g0hQnyTzcoLQ"
       }
      }
     },
     "output_type": "display_data"
    },
    {
     "data": {
      "application/vnd.jupyter.widget-view+json": {
       "version_major": 2,
       "version_minor": 0,
       "model_id": "f411fdd4c4a54579a96accc88fd161b7"
      }
     },
     "metadata": {
      "application/vnd.jupyter.widget-view+json": {
       "datalore": {
        "widget_id": "n3H9pMJAlsPk7v92NrWW2Q"
       }
      }
     },
     "output_type": "display_data"
    },
    {
     "data": {
      "application/vnd.jupyter.widget-view+json": {
       "version_major": 2,
       "version_minor": 0,
       "model_id": "1bbd8efcdcd44ecd86634d74f5db3669"
      }
     },
     "metadata": {
      "application/vnd.jupyter.widget-view+json": {
       "datalore": {
        "widget_id": "D4nEpHgoWVail25tw5WfGf"
       }
      }
     },
     "output_type": "display_data"
    },
    {
     "data": {
      "application/vnd.jupyter.widget-view+json": {
       "version_major": 2,
       "version_minor": 0,
       "model_id": "b1479867dcda4df2b17561d4c543d6d6"
      }
     },
     "metadata": {
      "application/vnd.jupyter.widget-view+json": {
       "datalore": {
        "widget_id": "wwKi41oiEL46ycYiZ82ksA"
       }
      }
     },
     "output_type": "display_data"
    },
    {
     "data": {
      "application/vnd.jupyter.widget-view+json": {
       "version_major": 2,
       "version_minor": 0,
       "model_id": "7fdfe0a2ed9548cba7ed77643a893cfd"
      }
     },
     "metadata": {
      "application/vnd.jupyter.widget-view+json": {
       "datalore": {
        "widget_id": "x53iYjo3sYkHxIu3lYXtzc"
       }
      }
     },
     "output_type": "display_data"
    },
    {
     "data": {
      "application/vnd.jupyter.widget-view+json": {
       "version_major": 2,
       "version_minor": 0,
       "model_id": "7de4ceba071e4f66a646ac758e924e8f"
      }
     },
     "metadata": {
      "application/vnd.jupyter.widget-view+json": {
       "datalore": {
        "widget_id": "ADz4oT92FG0yv57yMsSaDD"
       }
      }
     },
     "output_type": "display_data"
    },
    {
     "data": {
      "application/vnd.jupyter.widget-view+json": {
       "version_major": 2,
       "version_minor": 0,
       "model_id": "bd65e1902f51428cbeef176e3dd6a98a"
      }
     },
     "metadata": {
      "application/vnd.jupyter.widget-view+json": {
       "datalore": {
        "widget_id": "t6SCIiWcF0fFsIToQQByQJ"
       }
      }
     },
     "output_type": "display_data"
    },
    {
     "data": {
      "application/vnd.jupyter.widget-view+json": {
       "version_major": 2,
       "version_minor": 0,
       "model_id": "54b6ba41ef0e449193e8c9f11dac620e"
      }
     },
     "metadata": {
      "application/vnd.jupyter.widget-view+json": {
       "datalore": {
        "widget_id": "cKfV3y9FiAUO5ysTVJ2H41"
       }
      }
     },
     "output_type": "display_data"
    },
    {
     "data": {
      "application/vnd.jupyter.widget-view+json": {
       "version_major": 2,
       "version_minor": 0,
       "model_id": "8989f12f8a6341998de84133a2dbf558"
      }
     },
     "metadata": {
      "application/vnd.jupyter.widget-view+json": {
       "datalore": {
        "widget_id": "WLwWrHSa1fxfoRC7IKdaLe"
       }
      }
     },
     "output_type": "display_data"
    },
    {
     "data": {
      "application/vnd.jupyter.widget-view+json": {
       "version_major": 2,
       "version_minor": 0,
       "model_id": "90915b62d195426fab7ba442b293466c"
      }
     },
     "metadata": {
      "application/vnd.jupyter.widget-view+json": {
       "datalore": {
        "widget_id": "o6oqTsfPPgo1YnuYYgjFG1"
       }
      }
     },
     "output_type": "display_data"
    }
   ],
   "metadata": {
    "datalore": {
     "node_id": "DnDrAg3tubhj2LXmdD1Rri",
     "type": "CODE",
     "hide_input_from_viewers": true,
     "hide_output_from_viewers": true
    }
   }
  }
 ],
 "metadata": {
  "widgets": {
   "application/vnd.jupyter.widget-state+json": {
    "version_major": 2,
    "version_minor": 0,
    "state": {
     "3f7d854855264f269c381e06030d3256": {
      "model_name": "LayoutModel",
      "model_module": "@jupyter-widgets/base",
      "model_module_version": "1.2.0",
      "state": {}
     },
     "536ee796bc9c49cfadd7390441b63889": {
      "model_name": "DescriptionStyleModel",
      "model_module": "@jupyter-widgets/controls",
      "model_module_version": "1.5.0",
      "state": {
       "description_width": ""
      }
     },
     "1de2cecf55a64297a4a872a72d0d41be": {
      "model_name": "HTMLModel",
      "model_module": "@jupyter-widgets/controls",
      "model_module_version": "1.5.0",
      "state": {
       "layout": "IPY_MODEL_3f7d854855264f269c381e06030d3256",
       "style": "IPY_MODEL_536ee796bc9c49cfadd7390441b63889",
       "value": "Downloading data files: 100%"
      }
     },
     "197aae5496614fb3a864f274db6d5781": {
      "model_name": "LayoutModel",
      "model_module": "@jupyter-widgets/base",
      "model_module_version": "1.2.0",
      "state": {}
     },
     "f88cec29ee924ea0b68fd7b0f7e553db": {
      "model_name": "ProgressStyleModel",
      "model_module": "@jupyter-widgets/controls",
      "model_module_version": "1.5.0",
      "state": {
       "description_width": ""
      }
     },
     "e772661b85f64c09896b998fc04a9270": {
      "model_name": "FloatProgressModel",
      "model_module": "@jupyter-widgets/controls",
      "model_module_version": "1.5.0",
      "state": {
       "bar_style": "success",
       "layout": "IPY_MODEL_197aae5496614fb3a864f274db6d5781",
       "max": 1,
       "style": "IPY_MODEL_f88cec29ee924ea0b68fd7b0f7e553db",
       "value": 1
      }
     },
     "230cde68ecd44172a5fc1c3ee9f42dd3": {
      "model_name": "LayoutModel",
      "model_module": "@jupyter-widgets/base",
      "model_module_version": "1.2.0",
      "state": {}
     },
     "62a0021a3e314d41918ce4d2d6713779": {
      "model_name": "DescriptionStyleModel",
      "model_module": "@jupyter-widgets/controls",
      "model_module_version": "1.5.0",
      "state": {
       "description_width": ""
      }
     },
     "2ea6580e1613412e9ba99b15fd9895c1": {
      "model_name": "HTMLModel",
      "model_module": "@jupyter-widgets/controls",
      "model_module_version": "1.5.0",
      "state": {
       "layout": "IPY_MODEL_230cde68ecd44172a5fc1c3ee9f42dd3",
       "style": "IPY_MODEL_62a0021a3e314d41918ce4d2d6713779",
       "value": " 1/1 [00:23&lt;00:00, 23.57s/it]"
      }
     },
     "04901aad8e7f4e0e8af3ed2ed964f8c6": {
      "model_name": "LayoutModel",
      "model_module": "@jupyter-widgets/base",
      "model_module_version": "1.2.0",
      "state": {}
     },
     "3fc9a46ad2eb48af980b8d9f2707d70a": {
      "model_name": "HBoxModel",
      "model_module": "@jupyter-widgets/controls",
      "model_module_version": "1.5.0",
      "state": {
       "children": [
        "IPY_MODEL_1de2cecf55a64297a4a872a72d0d41be",
        "IPY_MODEL_e772661b85f64c09896b998fc04a9270",
        "IPY_MODEL_2ea6580e1613412e9ba99b15fd9895c1"
       ],
       "layout": "IPY_MODEL_04901aad8e7f4e0e8af3ed2ed964f8c6"
      }
     },
     "111066c78446438ea0a45b0d9c90f771": {
      "model_name": "LayoutModel",
      "model_module": "@jupyter-widgets/base",
      "model_module_version": "1.2.0",
      "state": {}
     },
     "29e8c93610274b10977054e3c1b48ed3": {
      "model_name": "DescriptionStyleModel",
      "model_module": "@jupyter-widgets/controls",
      "model_module_version": "1.5.0",
      "state": {
       "description_width": ""
      }
     },
     "499217fe7d0b46169d0cdf5c4d3e48ec": {
      "model_name": "HTMLModel",
      "model_module": "@jupyter-widgets/controls",
      "model_module_version": "1.5.0",
      "state": {
       "layout": "IPY_MODEL_111066c78446438ea0a45b0d9c90f771",
       "style": "IPY_MODEL_29e8c93610274b10977054e3c1b48ed3",
       "value": "Downloading data: 100%"
      }
     },
     "a2284d51f5e6485f8b19e0f3f566e79a": {
      "model_name": "LayoutModel",
      "model_module": "@jupyter-widgets/base",
      "model_module_version": "1.2.0",
      "state": {}
     },
     "2106296ac18f4e88953c31af9794ea49": {
      "model_name": "ProgressStyleModel",
      "model_module": "@jupyter-widgets/controls",
      "model_module_version": "1.5.0",
      "state": {
       "description_width": ""
      }
     },
     "8fd78ed7acdf406da879ba4eb85988ca": {
      "model_name": "FloatProgressModel",
      "model_module": "@jupyter-widgets/controls",
      "model_module_version": "1.5.0",
      "state": {
       "bar_style": "success",
       "layout": "IPY_MODEL_a2284d51f5e6485f8b19e0f3f566e79a",
       "max": 1786887598,
       "style": "IPY_MODEL_2106296ac18f4e88953c31af9794ea49",
       "value": 1786887598
      }
     },
     "82cf3b8f09e448bcba108377ae072b69": {
      "model_name": "LayoutModel",
      "model_module": "@jupyter-widgets/base",
      "model_module_version": "1.2.0",
      "state": {}
     },
     "79a19a548fa345a08d0e07c71e47d6b1": {
      "model_name": "DescriptionStyleModel",
      "model_module": "@jupyter-widgets/controls",
      "model_module_version": "1.5.0",
      "state": {
       "description_width": ""
      }
     },
     "f03305d1b3b3430a9537e9911cbb509c": {
      "model_name": "HTMLModel",
      "model_module": "@jupyter-widgets/controls",
      "model_module_version": "1.5.0",
      "state": {
       "layout": "IPY_MODEL_82cf3b8f09e448bcba108377ae072b69",
       "style": "IPY_MODEL_79a19a548fa345a08d0e07c71e47d6b1",
       "value": " 1.79G/1.79G [00:23&lt;00:00, 77.6MB/s]"
      }
     },
     "332a37be3e1a437e92ca3df784914381": {
      "model_name": "LayoutModel",
      "model_module": "@jupyter-widgets/base",
      "model_module_version": "1.2.0",
      "state": {}
     },
     "99d33884c6754652820f4f0cd7124c2d": {
      "model_name": "HBoxModel",
      "model_module": "@jupyter-widgets/controls",
      "model_module_version": "1.5.0",
      "state": {
       "children": [
        "IPY_MODEL_499217fe7d0b46169d0cdf5c4d3e48ec",
        "IPY_MODEL_8fd78ed7acdf406da879ba4eb85988ca",
        "IPY_MODEL_f03305d1b3b3430a9537e9911cbb509c"
       ],
       "layout": "IPY_MODEL_332a37be3e1a437e92ca3df784914381"
      }
     },
     "7a51cc0484a442d59ef5b48b010ab210": {
      "model_name": "LayoutModel",
      "model_module": "@jupyter-widgets/base",
      "model_module_version": "1.2.0",
      "state": {}
     },
     "f4287f281d0941058ec683820b167e83": {
      "model_name": "DescriptionStyleModel",
      "model_module": "@jupyter-widgets/controls",
      "model_module_version": "1.5.0",
      "state": {
       "description_width": ""
      }
     },
     "7889289349c24b8f8868cfa3d5e8b28f": {
      "model_name": "HTMLModel",
      "model_module": "@jupyter-widgets/controls",
      "model_module_version": "1.5.0",
      "state": {
       "layout": "IPY_MODEL_7a51cc0484a442d59ef5b48b010ab210",
       "style": "IPY_MODEL_f4287f281d0941058ec683820b167e83",
       "value": "Extracting data files: 100%"
      }
     },
     "8f0786cb07bb4517b748f6f332a26cf4": {
      "model_name": "LayoutModel",
      "model_module": "@jupyter-widgets/base",
      "model_module_version": "1.2.0",
      "state": {}
     },
     "4d09d362e1f341c280dab775e044e95c": {
      "model_name": "ProgressStyleModel",
      "model_module": "@jupyter-widgets/controls",
      "model_module_version": "1.5.0",
      "state": {
       "description_width": ""
      }
     },
     "6a7bef7f6e8849b2b0ec133791d83152": {
      "model_name": "FloatProgressModel",
      "model_module": "@jupyter-widgets/controls",
      "model_module_version": "1.5.0",
      "state": {
       "bar_style": "success",
       "layout": "IPY_MODEL_8f0786cb07bb4517b748f6f332a26cf4",
       "max": 1,
       "style": "IPY_MODEL_4d09d362e1f341c280dab775e044e95c",
       "value": 1
      }
     },
     "22f44de9a314410d818aabc7388aa4e4": {
      "model_name": "LayoutModel",
      "model_module": "@jupyter-widgets/base",
      "model_module_version": "1.2.0",
      "state": {}
     },
     "ac22e8de4a8d4a32b10f5ec9f57aa291": {
      "model_name": "DescriptionStyleModel",
      "model_module": "@jupyter-widgets/controls",
      "model_module_version": "1.5.0",
      "state": {
       "description_width": ""
      }
     },
     "2bf206c18cdd42a6af6be377b625154c": {
      "model_name": "HTMLModel",
      "model_module": "@jupyter-widgets/controls",
      "model_module_version": "1.5.0",
      "state": {
       "layout": "IPY_MODEL_22f44de9a314410d818aabc7388aa4e4",
       "style": "IPY_MODEL_ac22e8de4a8d4a32b10f5ec9f57aa291",
       "value": " 1/1 [00:56&lt;00:00, 56.35s/it]"
      }
     },
     "629a54bf2b504c67819ccde2fdc7b59e": {
      "model_name": "LayoutModel",
      "model_module": "@jupyter-widgets/base",
      "model_module_version": "1.2.0",
      "state": {}
     },
     "f132909fcc8e426d86b537869a9408d3": {
      "model_name": "HBoxModel",
      "model_module": "@jupyter-widgets/controls",
      "model_module_version": "1.5.0",
      "state": {
       "children": [
        "IPY_MODEL_7889289349c24b8f8868cfa3d5e8b28f",
        "IPY_MODEL_6a7bef7f6e8849b2b0ec133791d83152",
        "IPY_MODEL_2bf206c18cdd42a6af6be377b625154c"
       ],
       "layout": "IPY_MODEL_629a54bf2b504c67819ccde2fdc7b59e"
      }
     },
     "566d0e3aeb5f4295a5de50a59fec7db2": {
      "model_name": "LayoutModel",
      "model_module": "@jupyter-widgets/base",
      "model_module_version": "1.2.0",
      "state": {}
     },
     "1c91f05629914a94b32ea7a3e9f1ab2d": {
      "model_name": "DescriptionStyleModel",
      "model_module": "@jupyter-widgets/controls",
      "model_module_version": "1.5.0",
      "state": {
       "description_width": ""
      }
     },
     "bb8191f080fc4fe38a5151fc86f45a4c": {
      "model_name": "HTMLModel",
      "model_module": "@jupyter-widgets/controls",
      "model_module_version": "1.5.0",
      "state": {
       "layout": "IPY_MODEL_566d0e3aeb5f4295a5de50a59fec7db2",
       "style": "IPY_MODEL_1c91f05629914a94b32ea7a3e9f1ab2d",
       "value": "Generating train split: "
      }
     },
     "34fa812022434e2ea8d86a7da44da99a": {
      "model_name": "LayoutModel",
      "model_module": "@jupyter-widgets/base",
      "model_module_version": "1.2.0",
      "state": {
       "width": "20px"
      }
     },
     "b8b0e907fa3146a3aa8002e1a48a26f6": {
      "model_name": "ProgressStyleModel",
      "model_module": "@jupyter-widgets/controls",
      "model_module_version": "1.5.0",
      "state": {
       "description_width": ""
      }
     },
     "007920544ee8415eae9a9e94bad2dbd0": {
      "model_name": "FloatProgressModel",
      "model_module": "@jupyter-widgets/controls",
      "model_module_version": "1.5.0",
      "state": {
       "bar_style": "info",
       "layout": "IPY_MODEL_34fa812022434e2ea8d86a7da44da99a",
       "max": 1,
       "style": "IPY_MODEL_b8b0e907fa3146a3aa8002e1a48a26f6",
       "value": 1
      }
     },
     "7d11384081a24b2b97144b88bb83e11c": {
      "model_name": "LayoutModel",
      "model_module": "@jupyter-widgets/base",
      "model_module_version": "1.2.0",
      "state": {}
     },
     "48548e65a3284a77aed914ecefeea260": {
      "model_name": "DescriptionStyleModel",
      "model_module": "@jupyter-widgets/controls",
      "model_module_version": "1.5.0",
      "state": {
       "description_width": ""
      }
     },
     "d537212fd1a242b8a413e5d38434fc37": {
      "model_name": "HTMLModel",
      "model_module": "@jupyter-widgets/controls",
      "model_module_version": "1.5.0",
      "state": {
       "layout": "IPY_MODEL_7d11384081a24b2b97144b88bb83e11c",
       "style": "IPY_MODEL_48548e65a3284a77aed914ecefeea260",
       "value": " 251038/0 [02:01&lt;00:00, 6841.51 examples/s]"
      }
     },
     "3b0d158256e74171b17744f9f74c622f": {
      "model_name": "LayoutModel",
      "model_module": "@jupyter-widgets/base",
      "model_module_version": "1.2.0",
      "state": {
       "visibility": "hidden"
      }
     },
     "3e904d8306f345bfb6548e306e11820c": {
      "model_name": "HBoxModel",
      "model_module": "@jupyter-widgets/controls",
      "model_module_version": "1.5.0",
      "state": {
       "children": [
        "IPY_MODEL_bb8191f080fc4fe38a5151fc86f45a4c",
        "IPY_MODEL_007920544ee8415eae9a9e94bad2dbd0",
        "IPY_MODEL_d537212fd1a242b8a413e5d38434fc37"
       ],
       "layout": "IPY_MODEL_3b0d158256e74171b17744f9f74c622f"
      }
     },
     "6b33264a84c342c9b7090f0e25e079d5": {
      "model_name": "LayoutModel",
      "model_module": "@jupyter-widgets/base",
      "model_module_version": "1.2.0",
      "state": {}
     },
     "3021d5c25315447a9f19272c6076e6a8": {
      "model_name": "DescriptionStyleModel",
      "model_module": "@jupyter-widgets/controls",
      "model_module_version": "1.5.0",
      "state": {
       "description_width": ""
      }
     },
     "5fd44285d89e496aa9e7703fae97a35e": {
      "model_name": "HTMLModel",
      "model_module": "@jupyter-widgets/controls",
      "model_module_version": "1.5.0",
      "state": {
       "layout": "IPY_MODEL_6b33264a84c342c9b7090f0e25e079d5",
       "style": "IPY_MODEL_3021d5c25315447a9f19272c6076e6a8",
       "value": "Map: 100%"
      }
     },
     "f65ec777bff249f3a364d109824e88fd": {
      "model_name": "LayoutModel",
      "model_module": "@jupyter-widgets/base",
      "model_module_version": "1.2.0",
      "state": {}
     },
     "c42a324b098a433d996d20be2861e2ed": {
      "model_name": "ProgressStyleModel",
      "model_module": "@jupyter-widgets/controls",
      "model_module_version": "1.5.0",
      "state": {
       "description_width": ""
      }
     },
     "162ca6632ff5448dbcaa14fdf8299acc": {
      "model_name": "FloatProgressModel",
      "model_module": "@jupyter-widgets/controls",
      "model_module_version": "1.5.0",
      "state": {
       "layout": "IPY_MODEL_f65ec777bff249f3a364d109824e88fd",
       "max": 251038,
       "style": "IPY_MODEL_c42a324b098a433d996d20be2861e2ed",
       "value": 251038
      }
     },
     "fb61b5776d2241529340a1285c206372": {
      "model_name": "LayoutModel",
      "model_module": "@jupyter-widgets/base",
      "model_module_version": "1.2.0",
      "state": {}
     },
     "1db9af14328a4839b999d9fd03caa3eb": {
      "model_name": "DescriptionStyleModel",
      "model_module": "@jupyter-widgets/controls",
      "model_module_version": "1.5.0",
      "state": {
       "description_width": ""
      }
     },
     "d29c98ecec314244af4e0cde1dd50fa8": {
      "model_name": "HTMLModel",
      "model_module": "@jupyter-widgets/controls",
      "model_module_version": "1.5.0",
      "state": {
       "layout": "IPY_MODEL_fb61b5776d2241529340a1285c206372",
       "style": "IPY_MODEL_1db9af14328a4839b999d9fd03caa3eb",
       "value": " 250640/251038 [01:46&lt;00:00, 4711.12 examples/s]"
      }
     },
     "95a7fec7971a4e5c80b237253206b7a2": {
      "model_name": "LayoutModel",
      "model_module": "@jupyter-widgets/base",
      "model_module_version": "1.2.0",
      "state": {
       "visibility": "hidden"
      }
     },
     "91828f46bd5f45d8b37652a9ad5be03f": {
      "model_name": "HBoxModel",
      "model_module": "@jupyter-widgets/controls",
      "model_module_version": "1.5.0",
      "state": {
       "children": [
        "IPY_MODEL_5fd44285d89e496aa9e7703fae97a35e",
        "IPY_MODEL_162ca6632ff5448dbcaa14fdf8299acc",
        "IPY_MODEL_d29c98ecec314244af4e0cde1dd50fa8"
       ],
       "layout": "IPY_MODEL_95a7fec7971a4e5c80b237253206b7a2"
      }
     },
     "7ede240b51e84ab58d903758fad8e8a6": {
      "model_name": "LayoutModel",
      "model_module": "@jupyter-widgets/base",
      "model_module_version": "1.2.0",
      "state": {}
     },
     "bd1484e44287455d847b0c9132431032": {
      "model_name": "DescriptionStyleModel",
      "model_module": "@jupyter-widgets/controls",
      "model_module_version": "1.5.0",
      "state": {
       "description_width": ""
      }
     },
     "1db5082a0dae452d9287e8a6596cfdf6": {
      "model_name": "HTMLModel",
      "model_module": "@jupyter-widgets/controls",
      "model_module_version": "1.5.0",
      "state": {
       "layout": "IPY_MODEL_7ede240b51e84ab58d903758fad8e8a6",
       "style": "IPY_MODEL_bd1484e44287455d847b0c9132431032",
       "value": "Map: 100%"
      }
     },
     "66302c3cffeb40cf8ee58ae7650ae87f": {
      "model_name": "LayoutModel",
      "model_module": "@jupyter-widgets/base",
      "model_module_version": "1.2.0",
      "state": {}
     },
     "ec5dbb76c425476db0313be462590d61": {
      "model_name": "ProgressStyleModel",
      "model_module": "@jupyter-widgets/controls",
      "model_module_version": "1.5.0",
      "state": {
       "description_width": ""
      }
     },
     "16f90d38baae4bc0a3ad0b902b366da3": {
      "model_name": "FloatProgressModel",
      "model_module": "@jupyter-widgets/controls",
      "model_module_version": "1.5.0",
      "state": {
       "layout": "IPY_MODEL_66302c3cffeb40cf8ee58ae7650ae87f",
       "max": 251038,
       "style": "IPY_MODEL_ec5dbb76c425476db0313be462590d61",
       "value": 251038
      }
     },
     "089dadb4e008471095d0dac1b98fe187": {
      "model_name": "LayoutModel",
      "model_module": "@jupyter-widgets/base",
      "model_module_version": "1.2.0",
      "state": {}
     },
     "4dd28d0a80c141d68c9b6c49c3dea6a9": {
      "model_name": "DescriptionStyleModel",
      "model_module": "@jupyter-widgets/controls",
      "model_module_version": "1.5.0",
      "state": {
       "description_width": ""
      }
     },
     "3fb0b28ecd0e4327bb67fce6672094c7": {
      "model_name": "HTMLModel",
      "model_module": "@jupyter-widgets/controls",
      "model_module_version": "1.5.0",
      "state": {
       "layout": "IPY_MODEL_089dadb4e008471095d0dac1b98fe187",
       "style": "IPY_MODEL_4dd28d0a80c141d68c9b6c49c3dea6a9",
       "value": " 250776/251038 [08:05&lt;00:00, 5962.50 examples/s]"
      }
     },
     "621fdb60578b4d72a6b315cc11c545ad": {
      "model_name": "LayoutModel",
      "model_module": "@jupyter-widgets/base",
      "model_module_version": "1.2.0",
      "state": {
       "visibility": "hidden"
      }
     },
     "2ebee70e55d04b10b01980ab27ee0e14": {
      "model_name": "HBoxModel",
      "model_module": "@jupyter-widgets/controls",
      "model_module_version": "1.5.0",
      "state": {
       "children": [
        "IPY_MODEL_1db5082a0dae452d9287e8a6596cfdf6",
        "IPY_MODEL_16f90d38baae4bc0a3ad0b902b366da3",
        "IPY_MODEL_3fb0b28ecd0e4327bb67fce6672094c7"
       ],
       "layout": "IPY_MODEL_621fdb60578b4d72a6b315cc11c545ad"
      }
     },
     "6e63874ed81644b1af62c86bba3a496c": {
      "model_name": "LayoutModel",
      "model_module": "@jupyter-widgets/base",
      "model_module_version": "1.2.0",
      "state": {}
     },
     "50105aee27164befa7c962bd58aa3666": {
      "model_name": "DescriptionStyleModel",
      "model_module": "@jupyter-widgets/controls",
      "model_module_version": "1.5.0",
      "state": {
       "description_width": ""
      }
     },
     "b8d482f8e6e24e73a49a64334b867b5f": {
      "model_name": "HTMLModel",
      "model_module": "@jupyter-widgets/controls",
      "model_module_version": "1.5.0",
      "state": {
       "layout": "IPY_MODEL_6e63874ed81644b1af62c86bba3a496c",
       "style": "IPY_MODEL_50105aee27164befa7c962bd58aa3666",
       "value": "Filter:  99%"
      }
     },
     "bb4f6fb3d19e4dfe8177d465d8c53755": {
      "model_name": "LayoutModel",
      "model_module": "@jupyter-widgets/base",
      "model_module_version": "1.2.0",
      "state": {}
     },
     "8a4e0bf7d5b74875a858f0a4d24a59ea": {
      "model_name": "ProgressStyleModel",
      "model_module": "@jupyter-widgets/controls",
      "model_module_version": "1.5.0",
      "state": {
       "description_width": ""
      }
     },
     "3026bd81e2384530ba022e902e699f34": {
      "model_name": "FloatProgressModel",
      "model_module": "@jupyter-widgets/controls",
      "model_module_version": "1.5.0",
      "state": {
       "layout": "IPY_MODEL_bb4f6fb3d19e4dfe8177d465d8c53755",
       "max": 251038,
       "style": "IPY_MODEL_8a4e0bf7d5b74875a858f0a4d24a59ea",
       "value": 251038
      }
     },
     "573ffe23590845bda41900b1344aaae1": {
      "model_name": "LayoutModel",
      "model_module": "@jupyter-widgets/base",
      "model_module_version": "1.2.0",
      "state": {}
     },
     "60918e556cdf4b0ebb7b07854aab1f3f": {
      "model_name": "DescriptionStyleModel",
      "model_module": "@jupyter-widgets/controls",
      "model_module_version": "1.5.0",
      "state": {
       "description_width": ""
      }
     },
     "ebda4de3e183489ca5ea5ed3912ad362": {
      "model_name": "HTMLModel",
      "model_module": "@jupyter-widgets/controls",
      "model_module_version": "1.5.0",
      "state": {
       "layout": "IPY_MODEL_573ffe23590845bda41900b1344aaae1",
       "style": "IPY_MODEL_60918e556cdf4b0ebb7b07854aab1f3f",
       "value": " 248000/251038 [00:59&lt;00:00, 45521.45 examples/s]"
      }
     },
     "61e12c728dc14dd694c57053aaa58b61": {
      "model_name": "LayoutModel",
      "model_module": "@jupyter-widgets/base",
      "model_module_version": "1.2.0",
      "state": {
       "visibility": "hidden"
      }
     },
     "ddc7785356ea4679a5b616ad32214a5f": {
      "model_name": "HBoxModel",
      "model_module": "@jupyter-widgets/controls",
      "model_module_version": "1.5.0",
      "state": {
       "children": [
        "IPY_MODEL_b8d482f8e6e24e73a49a64334b867b5f",
        "IPY_MODEL_3026bd81e2384530ba022e902e699f34",
        "IPY_MODEL_ebda4de3e183489ca5ea5ed3912ad362"
       ],
       "layout": "IPY_MODEL_61e12c728dc14dd694c57053aaa58b61"
      }
     },
     "0efa80d7246f44878d04cb993d3ccf14": {
      "model_name": "LayoutModel",
      "model_module": "@jupyter-widgets/base",
      "model_module_version": "1.2.0",
      "state": {}
     },
     "3911564868304794985914d3b1cd34a5": {
      "model_name": "DescriptionStyleModel",
      "model_module": "@jupyter-widgets/controls",
      "model_module_version": "1.5.0",
      "state": {
       "description_width": ""
      }
     },
     "f85c5b96658d4baebbc3fbd6f2640606": {
      "model_name": "HTMLModel",
      "model_module": "@jupyter-widgets/controls",
      "model_module_version": "1.5.0",
      "state": {
       "layout": "IPY_MODEL_0efa80d7246f44878d04cb993d3ccf14",
       "style": "IPY_MODEL_3911564868304794985914d3b1cd34a5",
       "value": "Pushing dataset shards to the dataset hub: 100%"
      }
     },
     "db03ea8866c849ff9a70a9347a82e048": {
      "model_name": "LayoutModel",
      "model_module": "@jupyter-widgets/base",
      "model_module_version": "1.2.0",
      "state": {}
     },
     "025a598a3fa14dc6944a1349f60dc471": {
      "model_name": "ProgressStyleModel",
      "model_module": "@jupyter-widgets/controls",
      "model_module_version": "1.5.0",
      "state": {
       "description_width": ""
      }
     },
     "149c8a9376ab439e86ec6cf6421bf8c2": {
      "model_name": "FloatProgressModel",
      "model_module": "@jupyter-widgets/controls",
      "model_module_version": "1.5.0",
      "state": {
       "bar_style": "success",
       "layout": "IPY_MODEL_db03ea8866c849ff9a70a9347a82e048",
       "max": 3,
       "style": "IPY_MODEL_025a598a3fa14dc6944a1349f60dc471",
       "value": 3
      }
     },
     "c53fbab15c3b4babb84d2f06afc81924": {
      "model_name": "LayoutModel",
      "model_module": "@jupyter-widgets/base",
      "model_module_version": "1.2.0",
      "state": {}
     },
     "a54e8cd1256a4eabae36ec8f5e0c37aa": {
      "model_name": "DescriptionStyleModel",
      "model_module": "@jupyter-widgets/controls",
      "model_module_version": "1.5.0",
      "state": {
       "description_width": ""
      }
     },
     "edb4fd06ba6a446c868cabb0f8df64dc": {
      "model_name": "HTMLModel",
      "model_module": "@jupyter-widgets/controls",
      "model_module_version": "1.5.0",
      "state": {
       "layout": "IPY_MODEL_c53fbab15c3b4babb84d2f06afc81924",
       "style": "IPY_MODEL_a54e8cd1256a4eabae36ec8f5e0c37aa",
       "value": " 3/3 [09:09&lt;00:00, 183.33s/it]"
      }
     },
     "25d250361c2a4c5c80d8a988874faa1f": {
      "model_name": "LayoutModel",
      "model_module": "@jupyter-widgets/base",
      "model_module_version": "1.2.0",
      "state": {}
     },
     "9ea915a74e074dc1a91c36fe37476002": {
      "model_name": "HBoxModel",
      "model_module": "@jupyter-widgets/controls",
      "model_module_version": "1.5.0",
      "state": {
       "children": [
        "IPY_MODEL_f85c5b96658d4baebbc3fbd6f2640606",
        "IPY_MODEL_149c8a9376ab439e86ec6cf6421bf8c2",
        "IPY_MODEL_edb4fd06ba6a446c868cabb0f8df64dc"
       ],
       "layout": "IPY_MODEL_25d250361c2a4c5c80d8a988874faa1f"
      }
     },
     "015027dfcd174bd585b8f554cca18390": {
      "model_name": "LayoutModel",
      "model_module": "@jupyter-widgets/base",
      "model_module_version": "1.2.0",
      "state": {}
     },
     "56fd40c33024441da42727940113a305": {
      "model_name": "DescriptionStyleModel",
      "model_module": "@jupyter-widgets/controls",
      "model_module_version": "1.5.0",
      "state": {
       "description_width": ""
      }
     },
     "45b112773c6a4d3c82ec660dbd4fec0b": {
      "model_name": "HTMLModel",
      "model_module": "@jupyter-widgets/controls",
      "model_module_version": "1.5.0",
      "state": {
       "layout": "IPY_MODEL_015027dfcd174bd585b8f554cca18390",
       "style": "IPY_MODEL_56fd40c33024441da42727940113a305",
       "value": "Creating parquet from Arrow format: 100%"
      }
     },
     "6dd85e7d0abb46eabe5ff924ba86c568": {
      "model_name": "LayoutModel",
      "model_module": "@jupyter-widgets/base",
      "model_module_version": "1.2.0",
      "state": {}
     },
     "d5e96a743a4f4a13a990c617d4379b19": {
      "model_name": "ProgressStyleModel",
      "model_module": "@jupyter-widgets/controls",
      "model_module_version": "1.5.0",
      "state": {
       "description_width": ""
      }
     },
     "56c611159e044b72a99194c417c80fb5": {
      "model_name": "FloatProgressModel",
      "model_module": "@jupyter-widgets/controls",
      "model_module_version": "1.5.0",
      "state": {
       "bar_style": "success",
       "layout": "IPY_MODEL_6dd85e7d0abb46eabe5ff924ba86c568",
       "max": 14,
       "style": "IPY_MODEL_d5e96a743a4f4a13a990c617d4379b19",
       "value": 14
      }
     },
     "ce6592d5a72449e5a86e32de90029bbf": {
      "model_name": "LayoutModel",
      "model_module": "@jupyter-widgets/base",
      "model_module_version": "1.2.0",
      "state": {}
     },
     "06a05ab3b7c84dd1a6c4ce3121059b9f": {
      "model_name": "DescriptionStyleModel",
      "model_module": "@jupyter-widgets/controls",
      "model_module_version": "1.5.0",
      "state": {
       "description_width": ""
      }
     },
     "be30997f9c704185a5afd033e238f247": {
      "model_name": "HTMLModel",
      "model_module": "@jupyter-widgets/controls",
      "model_module_version": "1.5.0",
      "state": {
       "layout": "IPY_MODEL_ce6592d5a72449e5a86e32de90029bbf",
       "style": "IPY_MODEL_06a05ab3b7c84dd1a6c4ce3121059b9f",
       "value": " 14/14 [00:02&lt;00:00,  6.07ba/s]"
      }
     },
     "3f05823a9a2042559f1b9ae7c38f87d7": {
      "model_name": "LayoutModel",
      "model_module": "@jupyter-widgets/base",
      "model_module_version": "1.2.0",
      "state": {}
     },
     "65637cdacec5453a9d16e6e880f21b28": {
      "model_name": "HBoxModel",
      "model_module": "@jupyter-widgets/controls",
      "model_module_version": "1.5.0",
      "state": {
       "children": [
        "IPY_MODEL_45b112773c6a4d3c82ec660dbd4fec0b",
        "IPY_MODEL_56c611159e044b72a99194c417c80fb5",
        "IPY_MODEL_be30997f9c704185a5afd033e238f247"
       ],
       "layout": "IPY_MODEL_3f05823a9a2042559f1b9ae7c38f87d7"
      }
     },
     "74cb2eb1d3de42da92e47f9a82884adb": {
      "model_name": "LayoutModel",
      "model_module": "@jupyter-widgets/base",
      "model_module_version": "1.2.0",
      "state": {}
     },
     "410d8905c33b4593b69576831fb3c090": {
      "model_name": "DescriptionStyleModel",
      "model_module": "@jupyter-widgets/controls",
      "model_module_version": "1.5.0",
      "state": {
       "description_width": ""
      }
     },
     "fb5bd49b69ae4f98bff812ebc626436b": {
      "model_name": "HTMLModel",
      "model_module": "@jupyter-widgets/controls",
      "model_module_version": "1.5.0",
      "state": {
       "layout": "IPY_MODEL_74cb2eb1d3de42da92e47f9a82884adb",
       "style": "IPY_MODEL_410d8905c33b4593b69576831fb3c090",
       "value": "Upload 1 LFS files: 100%"
      }
     },
     "ef206c3b5eeb4448823c18b1e7339aec": {
      "model_name": "LayoutModel",
      "model_module": "@jupyter-widgets/base",
      "model_module_version": "1.2.0",
      "state": {}
     },
     "11fa4e7249e343fd86810a42ba90c236": {
      "model_name": "ProgressStyleModel",
      "model_module": "@jupyter-widgets/controls",
      "model_module_version": "1.5.0",
      "state": {
       "description_width": ""
      }
     },
     "26f69602b18e4c9382fe8587655a0d8e": {
      "model_name": "FloatProgressModel",
      "model_module": "@jupyter-widgets/controls",
      "model_module_version": "1.5.0",
      "state": {
       "bar_style": "success",
       "layout": "IPY_MODEL_ef206c3b5eeb4448823c18b1e7339aec",
       "max": 1,
       "style": "IPY_MODEL_11fa4e7249e343fd86810a42ba90c236",
       "value": 1
      }
     },
     "73ead44641ae4568a8c6de2c5b13dd23": {
      "model_name": "LayoutModel",
      "model_module": "@jupyter-widgets/base",
      "model_module_version": "1.2.0",
      "state": {}
     },
     "114b5d6f26d94499bcb4c8f4af16bb00": {
      "model_name": "DescriptionStyleModel",
      "model_module": "@jupyter-widgets/controls",
      "model_module_version": "1.5.0",
      "state": {
       "description_width": ""
      }
     },
     "1462caa260f84d44abed660e0e7c7052": {
      "model_name": "HTMLModel",
      "model_module": "@jupyter-widgets/controls",
      "model_module_version": "1.5.0",
      "state": {
       "layout": "IPY_MODEL_73ead44641ae4568a8c6de2c5b13dd23",
       "style": "IPY_MODEL_114b5d6f26d94499bcb4c8f4af16bb00",
       "value": " 1/1 [03:00&lt;00:00, 180.37s/it]"
      }
     },
     "99ed03f3adc24e3eb290fd4d15ed6a02": {
      "model_name": "LayoutModel",
      "model_module": "@jupyter-widgets/base",
      "model_module_version": "1.2.0",
      "state": {}
     },
     "7baf6fcc07c64f18995af02148e4a4f5": {
      "model_name": "HBoxModel",
      "model_module": "@jupyter-widgets/controls",
      "model_module_version": "1.5.0",
      "state": {
       "children": [
        "IPY_MODEL_fb5bd49b69ae4f98bff812ebc626436b",
        "IPY_MODEL_26f69602b18e4c9382fe8587655a0d8e",
        "IPY_MODEL_1462caa260f84d44abed660e0e7c7052"
       ],
       "layout": "IPY_MODEL_99ed03f3adc24e3eb290fd4d15ed6a02"
      }
     },
     "127a0835f1e447ef9382793a916737c2": {
      "model_name": "LayoutModel",
      "model_module": "@jupyter-widgets/base",
      "model_module_version": "1.2.0",
      "state": {}
     },
     "f48987a3c96447c1bdb04faa62176e10": {
      "model_name": "DescriptionStyleModel",
      "model_module": "@jupyter-widgets/controls",
      "model_module_version": "1.5.0",
      "state": {
       "description_width": ""
      }
     },
     "1590b422da3f4c2489369e07a878ab5f": {
      "model_name": "HTMLModel",
      "model_module": "@jupyter-widgets/controls",
      "model_module_version": "1.5.0",
      "state": {
       "layout": "IPY_MODEL_127a0835f1e447ef9382793a916737c2",
       "style": "IPY_MODEL_f48987a3c96447c1bdb04faa62176e10",
       "value": "Creating parquet from Arrow format: 100%"
      }
     },
     "01203c8e88574b7cb858cea60e3ab652": {
      "model_name": "LayoutModel",
      "model_module": "@jupyter-widgets/base",
      "model_module_version": "1.2.0",
      "state": {}
     },
     "9c0ec9efed8d404aad2d1177be06b62f": {
      "model_name": "ProgressStyleModel",
      "model_module": "@jupyter-widgets/controls",
      "model_module_version": "1.5.0",
      "state": {
       "description_width": ""
      }
     },
     "b2331cab34f14ca5b21dc6c4bbea139b": {
      "model_name": "FloatProgressModel",
      "model_module": "@jupyter-widgets/controls",
      "model_module_version": "1.5.0",
      "state": {
       "bar_style": "success",
       "layout": "IPY_MODEL_01203c8e88574b7cb858cea60e3ab652",
       "max": 14,
       "style": "IPY_MODEL_9c0ec9efed8d404aad2d1177be06b62f",
       "value": 14
      }
     },
     "85fbefe188b54a88b76a0f70de24da41": {
      "model_name": "LayoutModel",
      "model_module": "@jupyter-widgets/base",
      "model_module_version": "1.2.0",
      "state": {}
     },
     "a95cb3c65683406cbbab59ea33f92d4a": {
      "model_name": "DescriptionStyleModel",
      "model_module": "@jupyter-widgets/controls",
      "model_module_version": "1.5.0",
      "state": {
       "description_width": ""
      }
     },
     "ef66541133394226a9d4287c4ee2cbd6": {
      "model_name": "HTMLModel",
      "model_module": "@jupyter-widgets/controls",
      "model_module_version": "1.5.0",
      "state": {
       "layout": "IPY_MODEL_85fbefe188b54a88b76a0f70de24da41",
       "style": "IPY_MODEL_a95cb3c65683406cbbab59ea33f92d4a",
       "value": " 14/14 [00:02&lt;00:00,  6.10ba/s]"
      }
     },
     "4fd15c4380c64edcb1f7e8d9bdeff250": {
      "model_name": "LayoutModel",
      "model_module": "@jupyter-widgets/base",
      "model_module_version": "1.2.0",
      "state": {}
     },
     "130f7ed2d9f54737a6ff260538dfeb70": {
      "model_name": "HBoxModel",
      "model_module": "@jupyter-widgets/controls",
      "model_module_version": "1.5.0",
      "state": {
       "children": [
        "IPY_MODEL_1590b422da3f4c2489369e07a878ab5f",
        "IPY_MODEL_b2331cab34f14ca5b21dc6c4bbea139b",
        "IPY_MODEL_ef66541133394226a9d4287c4ee2cbd6"
       ],
       "layout": "IPY_MODEL_4fd15c4380c64edcb1f7e8d9bdeff250"
      }
     },
     "54d338ffdf70482fa6e23efd124a84a7": {
      "model_name": "LayoutModel",
      "model_module": "@jupyter-widgets/base",
      "model_module_version": "1.2.0",
      "state": {}
     },
     "a8a461a085fc4a22b4e1b6cef1d588d2": {
      "model_name": "DescriptionStyleModel",
      "model_module": "@jupyter-widgets/controls",
      "model_module_version": "1.5.0",
      "state": {
       "description_width": ""
      }
     },
     "fe48a73e048b48d199a6da2feb96856a": {
      "model_name": "HTMLModel",
      "model_module": "@jupyter-widgets/controls",
      "model_module_version": "1.5.0",
      "state": {
       "layout": "IPY_MODEL_54d338ffdf70482fa6e23efd124a84a7",
       "style": "IPY_MODEL_a8a461a085fc4a22b4e1b6cef1d588d2",
       "value": "Upload 1 LFS files: 100%"
      }
     },
     "a4e6582958844df6be5e99cf80197ba8": {
      "model_name": "LayoutModel",
      "model_module": "@jupyter-widgets/base",
      "model_module_version": "1.2.0",
      "state": {}
     },
     "032fa76fb696454b8a8fd5784e31e9c7": {
      "model_name": "ProgressStyleModel",
      "model_module": "@jupyter-widgets/controls",
      "model_module_version": "1.5.0",
      "state": {
       "description_width": ""
      }
     },
     "12fcfef350d64567ac07b2b4f6bb674c": {
      "model_name": "FloatProgressModel",
      "model_module": "@jupyter-widgets/controls",
      "model_module_version": "1.5.0",
      "state": {
       "bar_style": "success",
       "layout": "IPY_MODEL_a4e6582958844df6be5e99cf80197ba8",
       "max": 1,
       "style": "IPY_MODEL_032fa76fb696454b8a8fd5784e31e9c7",
       "value": 1
      }
     },
     "9f9d1ab11961459c8778590262c8fa82": {
      "model_name": "LayoutModel",
      "model_module": "@jupyter-widgets/base",
      "model_module_version": "1.2.0",
      "state": {}
     },
     "4f9e4876d4cf4ecba3ec7b01a37376c0": {
      "model_name": "DescriptionStyleModel",
      "model_module": "@jupyter-widgets/controls",
      "model_module_version": "1.5.0",
      "state": {
       "description_width": ""
      }
     },
     "cdb41e5c839b40f99f44fc7e7211a2a1": {
      "model_name": "HTMLModel",
      "model_module": "@jupyter-widgets/controls",
      "model_module_version": "1.5.0",
      "state": {
       "layout": "IPY_MODEL_9f9d1ab11961459c8778590262c8fa82",
       "style": "IPY_MODEL_4f9e4876d4cf4ecba3ec7b01a37376c0",
       "value": " 1/1 [02:59&lt;00:00, 179.06s/it]"
      }
     },
     "1d21e0c0b9644f3ca64cfaa4823b689a": {
      "model_name": "LayoutModel",
      "model_module": "@jupyter-widgets/base",
      "model_module_version": "1.2.0",
      "state": {}
     },
     "f411fdd4c4a54579a96accc88fd161b7": {
      "model_name": "HBoxModel",
      "model_module": "@jupyter-widgets/controls",
      "model_module_version": "1.5.0",
      "state": {
       "children": [
        "IPY_MODEL_fe48a73e048b48d199a6da2feb96856a",
        "IPY_MODEL_12fcfef350d64567ac07b2b4f6bb674c",
        "IPY_MODEL_cdb41e5c839b40f99f44fc7e7211a2a1"
       ],
       "layout": "IPY_MODEL_1d21e0c0b9644f3ca64cfaa4823b689a"
      }
     },
     "27e101314f534e48a91610eb4e88b99f": {
      "model_name": "LayoutModel",
      "model_module": "@jupyter-widgets/base",
      "model_module_version": "1.2.0",
      "state": {}
     },
     "007205afef724dd6bb6969ae6c3cb766": {
      "model_name": "DescriptionStyleModel",
      "model_module": "@jupyter-widgets/controls",
      "model_module_version": "1.5.0",
      "state": {
       "description_width": ""
      }
     },
     "5361c7c7bd9546c0866fc7ad3e1739fc": {
      "model_name": "HTMLModel",
      "model_module": "@jupyter-widgets/controls",
      "model_module_version": "1.5.0",
      "state": {
       "layout": "IPY_MODEL_27e101314f534e48a91610eb4e88b99f",
       "style": "IPY_MODEL_007205afef724dd6bb6969ae6c3cb766",
       "value": "Creating parquet from Arrow format: 100%"
      }
     },
     "681eccf1f7e64803a3b76e9b73c37011": {
      "model_name": "LayoutModel",
      "model_module": "@jupyter-widgets/base",
      "model_module_version": "1.2.0",
      "state": {}
     },
     "ec30a6a3bec74f2891433c77f1628e8e": {
      "model_name": "ProgressStyleModel",
      "model_module": "@jupyter-widgets/controls",
      "model_module_version": "1.5.0",
      "state": {
       "description_width": ""
      }
     },
     "7aa295d857d04d17ab228ee88a2f6919": {
      "model_name": "FloatProgressModel",
      "model_module": "@jupyter-widgets/controls",
      "model_module_version": "1.5.0",
      "state": {
       "bar_style": "success",
       "layout": "IPY_MODEL_681eccf1f7e64803a3b76e9b73c37011",
       "max": 14,
       "style": "IPY_MODEL_ec30a6a3bec74f2891433c77f1628e8e",
       "value": 14
      }
     },
     "85f4d2436fba4e1d9ebc0066187054b3": {
      "model_name": "LayoutModel",
      "model_module": "@jupyter-widgets/base",
      "model_module_version": "1.2.0",
      "state": {}
     },
     "4dc60d358b914671999ede66b6080583": {
      "model_name": "DescriptionStyleModel",
      "model_module": "@jupyter-widgets/controls",
      "model_module_version": "1.5.0",
      "state": {
       "description_width": ""
      }
     },
     "6011dffa3fe74da7b82c1936716b5ee7": {
      "model_name": "HTMLModel",
      "model_module": "@jupyter-widgets/controls",
      "model_module_version": "1.5.0",
      "state": {
       "layout": "IPY_MODEL_85f4d2436fba4e1d9ebc0066187054b3",
       "style": "IPY_MODEL_4dc60d358b914671999ede66b6080583",
       "value": " 14/14 [00:02&lt;00:00,  6.05ba/s]"
      }
     },
     "55e2ff1efb234d4594ac7c01d3875df7": {
      "model_name": "LayoutModel",
      "model_module": "@jupyter-widgets/base",
      "model_module_version": "1.2.0",
      "state": {}
     },
     "1bbd8efcdcd44ecd86634d74f5db3669": {
      "model_name": "HBoxModel",
      "model_module": "@jupyter-widgets/controls",
      "model_module_version": "1.5.0",
      "state": {
       "children": [
        "IPY_MODEL_5361c7c7bd9546c0866fc7ad3e1739fc",
        "IPY_MODEL_7aa295d857d04d17ab228ee88a2f6919",
        "IPY_MODEL_6011dffa3fe74da7b82c1936716b5ee7"
       ],
       "layout": "IPY_MODEL_55e2ff1efb234d4594ac7c01d3875df7"
      }
     },
     "4013c78557da4a018d42c688dffcb32b": {
      "model_name": "LayoutModel",
      "model_module": "@jupyter-widgets/base",
      "model_module_version": "1.2.0",
      "state": {}
     },
     "4e4177076abc4c599ccc4f7e3817426d": {
      "model_name": "DescriptionStyleModel",
      "model_module": "@jupyter-widgets/controls",
      "model_module_version": "1.5.0",
      "state": {
       "description_width": ""
      }
     },
     "04387ffffc2b4826bfafee5e510f6e6f": {
      "model_name": "HTMLModel",
      "model_module": "@jupyter-widgets/controls",
      "model_module_version": "1.5.0",
      "state": {
       "layout": "IPY_MODEL_4013c78557da4a018d42c688dffcb32b",
       "style": "IPY_MODEL_4e4177076abc4c599ccc4f7e3817426d",
       "value": "Upload 1 LFS files: 100%"
      }
     },
     "6dc773b105eb4d79b6abd32bf5a6f6c5": {
      "model_name": "LayoutModel",
      "model_module": "@jupyter-widgets/base",
      "model_module_version": "1.2.0",
      "state": {}
     },
     "ecc8d007ebaf4961a0d429b45fad14ea": {
      "model_name": "ProgressStyleModel",
      "model_module": "@jupyter-widgets/controls",
      "model_module_version": "1.5.0",
      "state": {
       "description_width": ""
      }
     },
     "84e24f66906b4efdae9e93ae419dd22f": {
      "model_name": "FloatProgressModel",
      "model_module": "@jupyter-widgets/controls",
      "model_module_version": "1.5.0",
      "state": {
       "bar_style": "success",
       "layout": "IPY_MODEL_6dc773b105eb4d79b6abd32bf5a6f6c5",
       "max": 1,
       "style": "IPY_MODEL_ecc8d007ebaf4961a0d429b45fad14ea",
       "value": 1
      }
     },
     "0c9080d6851a42138da3a9fab0fe8359": {
      "model_name": "LayoutModel",
      "model_module": "@jupyter-widgets/base",
      "model_module_version": "1.2.0",
      "state": {}
     },
     "2f45a22b13d44b248b3cce5113ca8a0e": {
      "model_name": "DescriptionStyleModel",
      "model_module": "@jupyter-widgets/controls",
      "model_module_version": "1.5.0",
      "state": {
       "description_width": ""
      }
     },
     "800ba2fcd9804f389848b1f71d80c9fd": {
      "model_name": "HTMLModel",
      "model_module": "@jupyter-widgets/controls",
      "model_module_version": "1.5.0",
      "state": {
       "layout": "IPY_MODEL_0c9080d6851a42138da3a9fab0fe8359",
       "style": "IPY_MODEL_2f45a22b13d44b248b3cce5113ca8a0e",
       "value": " 1/1 [03:00&lt;00:00, 180.81s/it]"
      }
     },
     "7fcb6e539b3d45858a62714b9e5e173f": {
      "model_name": "LayoutModel",
      "model_module": "@jupyter-widgets/base",
      "model_module_version": "1.2.0",
      "state": {}
     },
     "b1479867dcda4df2b17561d4c543d6d6": {
      "model_name": "HBoxModel",
      "model_module": "@jupyter-widgets/controls",
      "model_module_version": "1.5.0",
      "state": {
       "children": [
        "IPY_MODEL_04387ffffc2b4826bfafee5e510f6e6f",
        "IPY_MODEL_84e24f66906b4efdae9e93ae419dd22f",
        "IPY_MODEL_800ba2fcd9804f389848b1f71d80c9fd"
       ],
       "layout": "IPY_MODEL_7fcb6e539b3d45858a62714b9e5e173f"
      }
     },
     "a0f2d91a08134c3f90c98d23bb9135f6": {
      "model_name": "LayoutModel",
      "model_module": "@jupyter-widgets/base",
      "model_module_version": "1.2.0",
      "state": {}
     },
     "de05634d42e14443b60acaeb970b12b9": {
      "model_name": "DescriptionStyleModel",
      "model_module": "@jupyter-widgets/controls",
      "model_module_version": "1.5.0",
      "state": {
       "description_width": ""
      }
     },
     "4818a2b967204c54b08854a6a7f67625": {
      "model_name": "HTMLModel",
      "model_module": "@jupyter-widgets/controls",
      "model_module_version": "1.5.0",
      "state": {
       "layout": "IPY_MODEL_a0f2d91a08134c3f90c98d23bb9135f6",
       "style": "IPY_MODEL_de05634d42e14443b60acaeb970b12b9",
       "value": "Deleting unused files from dataset repository: 100%"
      }
     },
     "dd3e20d191aa4b758d94e6e2929a49b5": {
      "model_name": "LayoutModel",
      "model_module": "@jupyter-widgets/base",
      "model_module_version": "1.2.0",
      "state": {}
     },
     "25c57cb52cc5433db4295e9e9a384199": {
      "model_name": "ProgressStyleModel",
      "model_module": "@jupyter-widgets/controls",
      "model_module_version": "1.5.0",
      "state": {
       "description_width": ""
      }
     },
     "8c94a6aea6604f47852e9883cbca3187": {
      "model_name": "FloatProgressModel",
      "model_module": "@jupyter-widgets/controls",
      "model_module_version": "1.5.0",
      "state": {
       "bar_style": "success",
       "layout": "IPY_MODEL_dd3e20d191aa4b758d94e6e2929a49b5",
       "max": 1,
       "style": "IPY_MODEL_25c57cb52cc5433db4295e9e9a384199",
       "value": 1
      }
     },
     "354113b719a8408791b2a18f0c204681": {
      "model_name": "LayoutModel",
      "model_module": "@jupyter-widgets/base",
      "model_module_version": "1.2.0",
      "state": {}
     },
     "b011d5304fad4400aad77793ef4fd8d7": {
      "model_name": "DescriptionStyleModel",
      "model_module": "@jupyter-widgets/controls",
      "model_module_version": "1.5.0",
      "state": {
       "description_width": ""
      }
     },
     "fcb7265230e548cdba9821e4d2486f35": {
      "model_name": "HTMLModel",
      "model_module": "@jupyter-widgets/controls",
      "model_module_version": "1.5.0",
      "state": {
       "layout": "IPY_MODEL_354113b719a8408791b2a18f0c204681",
       "style": "IPY_MODEL_b011d5304fad4400aad77793ef4fd8d7",
       "value": " 1/1 [00:00&lt;00:00,  2.38it/s]"
      }
     },
     "ea41c20fb4dc450593e49b66947b0226": {
      "model_name": "LayoutModel",
      "model_module": "@jupyter-widgets/base",
      "model_module_version": "1.2.0",
      "state": {}
     },
     "7fdfe0a2ed9548cba7ed77643a893cfd": {
      "model_name": "HBoxModel",
      "model_module": "@jupyter-widgets/controls",
      "model_module_version": "1.5.0",
      "state": {
       "children": [
        "IPY_MODEL_4818a2b967204c54b08854a6a7f67625",
        "IPY_MODEL_8c94a6aea6604f47852e9883cbca3187",
        "IPY_MODEL_fcb7265230e548cdba9821e4d2486f35"
       ],
       "layout": "IPY_MODEL_ea41c20fb4dc450593e49b66947b0226"
      }
     },
     "d635578fbd9e4e49a2a7db2d769302da": {
      "model_name": "LayoutModel",
      "model_module": "@jupyter-widgets/base",
      "model_module_version": "1.2.0",
      "state": {}
     },
     "6e9e3881f30846b29b8cfa9292ab5037": {
      "model_name": "DescriptionStyleModel",
      "model_module": "@jupyter-widgets/controls",
      "model_module_version": "1.5.0",
      "state": {
       "description_width": ""
      }
     },
     "600aa592f04b4eeabbaeb4fc8ebe5dbe": {
      "model_name": "HTMLModel",
      "model_module": "@jupyter-widgets/controls",
      "model_module_version": "1.5.0",
      "state": {
       "layout": "IPY_MODEL_d635578fbd9e4e49a2a7db2d769302da",
       "style": "IPY_MODEL_6e9e3881f30846b29b8cfa9292ab5037",
       "value": "Pushing dataset shards to the dataset hub: 100%"
      }
     },
     "11c3a5c49e4f4d38b7e4c4840a4fa66c": {
      "model_name": "LayoutModel",
      "model_module": "@jupyter-widgets/base",
      "model_module_version": "1.2.0",
      "state": {}
     },
     "70fe321c919b403eafbc89125556c256": {
      "model_name": "ProgressStyleModel",
      "model_module": "@jupyter-widgets/controls",
      "model_module_version": "1.5.0",
      "state": {
       "description_width": ""
      }
     },
     "64af21cf1f844ec69f31452c3ef7678d": {
      "model_name": "FloatProgressModel",
      "model_module": "@jupyter-widgets/controls",
      "model_module_version": "1.5.0",
      "state": {
       "bar_style": "success",
       "layout": "IPY_MODEL_11c3a5c49e4f4d38b7e4c4840a4fa66c",
       "max": 1,
       "style": "IPY_MODEL_70fe321c919b403eafbc89125556c256",
       "value": 1
      }
     },
     "6b35f61f5a5e47fe9efc5191921eeb5a": {
      "model_name": "LayoutModel",
      "model_module": "@jupyter-widgets/base",
      "model_module_version": "1.2.0",
      "state": {}
     },
     "9ae39c174fd144ef9d11f76e5881d8b4": {
      "model_name": "DescriptionStyleModel",
      "model_module": "@jupyter-widgets/controls",
      "model_module_version": "1.5.0",
      "state": {
       "description_width": ""
      }
     },
     "664727190b6f43839d7434841160d45f": {
      "model_name": "HTMLModel",
      "model_module": "@jupyter-widgets/controls",
      "model_module_version": "1.5.0",
      "state": {
       "layout": "IPY_MODEL_6b35f61f5a5e47fe9efc5191921eeb5a",
       "style": "IPY_MODEL_9ae39c174fd144ef9d11f76e5881d8b4",
       "value": " 1/1 [01:04&lt;00:00, 64.29s/it]"
      }
     },
     "94ad2bbd48bf45c7aa9629394169ba52": {
      "model_name": "LayoutModel",
      "model_module": "@jupyter-widgets/base",
      "model_module_version": "1.2.0",
      "state": {}
     },
     "7de4ceba071e4f66a646ac758e924e8f": {
      "model_name": "HBoxModel",
      "model_module": "@jupyter-widgets/controls",
      "model_module_version": "1.5.0",
      "state": {
       "children": [
        "IPY_MODEL_600aa592f04b4eeabbaeb4fc8ebe5dbe",
        "IPY_MODEL_64af21cf1f844ec69f31452c3ef7678d",
        "IPY_MODEL_664727190b6f43839d7434841160d45f"
       ],
       "layout": "IPY_MODEL_94ad2bbd48bf45c7aa9629394169ba52"
      }
     },
     "d032430607074d169d6d934ca30d4e2c": {
      "model_name": "LayoutModel",
      "model_module": "@jupyter-widgets/base",
      "model_module_version": "1.2.0",
      "state": {}
     },
     "561c5e6bc3d24cfdb497ca928a017b9b": {
      "model_name": "DescriptionStyleModel",
      "model_module": "@jupyter-widgets/controls",
      "model_module_version": "1.5.0",
      "state": {
       "description_width": ""
      }
     },
     "c85315e6753e45238b77d41dbef1893a": {
      "model_name": "HTMLModel",
      "model_module": "@jupyter-widgets/controls",
      "model_module_version": "1.5.0",
      "state": {
       "layout": "IPY_MODEL_d032430607074d169d6d934ca30d4e2c",
       "style": "IPY_MODEL_561c5e6bc3d24cfdb497ca928a017b9b",
       "value": "Creating parquet from Arrow format: 100%"
      }
     },
     "5afc09e16899408b89fb1fb21c94d216": {
      "model_name": "LayoutModel",
      "model_module": "@jupyter-widgets/base",
      "model_module_version": "1.2.0",
      "state": {}
     },
     "1235ac0cfa244ed5a79a82a54019911b": {
      "model_name": "ProgressStyleModel",
      "model_module": "@jupyter-widgets/controls",
      "model_module_version": "1.5.0",
      "state": {
       "description_width": ""
      }
     },
     "d1327a3473e64100af0af56f6588432c": {
      "model_name": "FloatProgressModel",
      "model_module": "@jupyter-widgets/controls",
      "model_module_version": "1.5.0",
      "state": {
       "bar_style": "success",
       "layout": "IPY_MODEL_5afc09e16899408b89fb1fb21c94d216",
       "max": 5,
       "style": "IPY_MODEL_1235ac0cfa244ed5a79a82a54019911b",
       "value": 5
      }
     },
     "9c100c35b0ff4f9cb09378fe2fd2295f": {
      "model_name": "LayoutModel",
      "model_module": "@jupyter-widgets/base",
      "model_module_version": "1.2.0",
      "state": {}
     },
     "a21ea42ce0834d1bb3ab017e4150f125": {
      "model_name": "DescriptionStyleModel",
      "model_module": "@jupyter-widgets/controls",
      "model_module_version": "1.5.0",
      "state": {
       "description_width": ""
      }
     },
     "3e62dc8d2cb343339ffb62f7f7e613d9": {
      "model_name": "HTMLModel",
      "model_module": "@jupyter-widgets/controls",
      "model_module_version": "1.5.0",
      "state": {
       "layout": "IPY_MODEL_9c100c35b0ff4f9cb09378fe2fd2295f",
       "style": "IPY_MODEL_a21ea42ce0834d1bb3ab017e4150f125",
       "value": " 5/5 [00:00&lt;00:00,  6.54ba/s]"
      }
     },
     "eb40cb5a64234a928ee7f62f33782c46": {
      "model_name": "LayoutModel",
      "model_module": "@jupyter-widgets/base",
      "model_module_version": "1.2.0",
      "state": {}
     },
     "bd65e1902f51428cbeef176e3dd6a98a": {
      "model_name": "HBoxModel",
      "model_module": "@jupyter-widgets/controls",
      "model_module_version": "1.5.0",
      "state": {
       "children": [
        "IPY_MODEL_c85315e6753e45238b77d41dbef1893a",
        "IPY_MODEL_d1327a3473e64100af0af56f6588432c",
        "IPY_MODEL_3e62dc8d2cb343339ffb62f7f7e613d9"
       ],
       "layout": "IPY_MODEL_eb40cb5a64234a928ee7f62f33782c46"
      }
     },
     "47d4da71747e489b8cabedb2b052d1a2": {
      "model_name": "LayoutModel",
      "model_module": "@jupyter-widgets/base",
      "model_module_version": "1.2.0",
      "state": {}
     },
     "7ea8bea8c8fc4e97910f4c3170802af0": {
      "model_name": "DescriptionStyleModel",
      "model_module": "@jupyter-widgets/controls",
      "model_module_version": "1.5.0",
      "state": {
       "description_width": ""
      }
     },
     "072aee4eb9ee4b16b100591654d411e5": {
      "model_name": "HTMLModel",
      "model_module": "@jupyter-widgets/controls",
      "model_module_version": "1.5.0",
      "state": {
       "layout": "IPY_MODEL_47d4da71747e489b8cabedb2b052d1a2",
       "style": "IPY_MODEL_7ea8bea8c8fc4e97910f4c3170802af0",
       "value": "Upload 1 LFS files: 100%"
      }
     },
     "4a6bc8d290ce447099d98fe2dfddbb61": {
      "model_name": "LayoutModel",
      "model_module": "@jupyter-widgets/base",
      "model_module_version": "1.2.0",
      "state": {}
     },
     "86ed57c9aab9424abc38aaa24ab3b128": {
      "model_name": "ProgressStyleModel",
      "model_module": "@jupyter-widgets/controls",
      "model_module_version": "1.5.0",
      "state": {
       "description_width": ""
      }
     },
     "a8031cab2b47428ab88027103d0156aa": {
      "model_name": "FloatProgressModel",
      "model_module": "@jupyter-widgets/controls",
      "model_module_version": "1.5.0",
      "state": {
       "bar_style": "success",
       "layout": "IPY_MODEL_4a6bc8d290ce447099d98fe2dfddbb61",
       "max": 1,
       "style": "IPY_MODEL_86ed57c9aab9424abc38aaa24ab3b128",
       "value": 1
      }
     },
     "469e366fd7784e3c9d68f48e0040c648": {
      "model_name": "LayoutModel",
      "model_module": "@jupyter-widgets/base",
      "model_module_version": "1.2.0",
      "state": {}
     },
     "39779a8692e449d6a61e5ceed95feb79": {
      "model_name": "DescriptionStyleModel",
      "model_module": "@jupyter-widgets/controls",
      "model_module_version": "1.5.0",
      "state": {
       "description_width": ""
      }
     },
     "435ece566bfc41e58e21762d09f353e8": {
      "model_name": "HTMLModel",
      "model_module": "@jupyter-widgets/controls",
      "model_module_version": "1.5.0",
      "state": {
       "layout": "IPY_MODEL_469e366fd7784e3c9d68f48e0040c648",
       "style": "IPY_MODEL_39779a8692e449d6a61e5ceed95feb79",
       "value": " 1/1 [01:02&lt;00:00, 62.87s/it]"
      }
     },
     "278c8561caa747f4a73a9d1fe3256bed": {
      "model_name": "LayoutModel",
      "model_module": "@jupyter-widgets/base",
      "model_module_version": "1.2.0",
      "state": {}
     },
     "54b6ba41ef0e449193e8c9f11dac620e": {
      "model_name": "HBoxModel",
      "model_module": "@jupyter-widgets/controls",
      "model_module_version": "1.5.0",
      "state": {
       "children": [
        "IPY_MODEL_072aee4eb9ee4b16b100591654d411e5",
        "IPY_MODEL_a8031cab2b47428ab88027103d0156aa",
        "IPY_MODEL_435ece566bfc41e58e21762d09f353e8"
       ],
       "layout": "IPY_MODEL_278c8561caa747f4a73a9d1fe3256bed"
      }
     },
     "32cf4d2d21794100ad0fe49bcef2a462": {
      "model_name": "LayoutModel",
      "model_module": "@jupyter-widgets/base",
      "model_module_version": "1.2.0",
      "state": {}
     },
     "059c325d877245b1a25931c8342dbe0b": {
      "model_name": "DescriptionStyleModel",
      "model_module": "@jupyter-widgets/controls",
      "model_module_version": "1.5.0",
      "state": {
       "description_width": ""
      }
     },
     "aadd34ec923745bc9b649c2b8fa6208e": {
      "model_name": "HTMLModel",
      "model_module": "@jupyter-widgets/controls",
      "model_module_version": "1.5.0",
      "state": {
       "layout": "IPY_MODEL_32cf4d2d21794100ad0fe49bcef2a462",
       "style": "IPY_MODEL_059c325d877245b1a25931c8342dbe0b",
       "value": "Deleting unused files from dataset repository: 100%"
      }
     },
     "099c6b7ba5f04bd78bd439096acbf8f3": {
      "model_name": "LayoutModel",
      "model_module": "@jupyter-widgets/base",
      "model_module_version": "1.2.0",
      "state": {}
     },
     "803c7d0a6a384ae7bbdf6b30e6e3869c": {
      "model_name": "ProgressStyleModel",
      "model_module": "@jupyter-widgets/controls",
      "model_module_version": "1.5.0",
      "state": {
       "description_width": ""
      }
     },
     "38f12ce1405543cb8f41bf7b4b5e0c90": {
      "model_name": "FloatProgressModel",
      "model_module": "@jupyter-widgets/controls",
      "model_module_version": "1.5.0",
      "state": {
       "bar_style": "success",
       "layout": "IPY_MODEL_099c6b7ba5f04bd78bd439096acbf8f3",
       "max": 1,
       "style": "IPY_MODEL_803c7d0a6a384ae7bbdf6b30e6e3869c",
       "value": 1
      }
     },
     "a5d81fa189584c8da8c648a035afcda0": {
      "model_name": "LayoutModel",
      "model_module": "@jupyter-widgets/base",
      "model_module_version": "1.2.0",
      "state": {}
     },
     "9d1d70270f684ceb9d9d202e7edba3ea": {
      "model_name": "DescriptionStyleModel",
      "model_module": "@jupyter-widgets/controls",
      "model_module_version": "1.5.0",
      "state": {
       "description_width": ""
      }
     },
     "e006f641a4dc48bfa74f40107d32e033": {
      "model_name": "HTMLModel",
      "model_module": "@jupyter-widgets/controls",
      "model_module_version": "1.5.0",
      "state": {
       "layout": "IPY_MODEL_a5d81fa189584c8da8c648a035afcda0",
       "style": "IPY_MODEL_9d1d70270f684ceb9d9d202e7edba3ea",
       "value": " 1/1 [00:00&lt;00:00,  4.03it/s]"
      }
     },
     "d760abd90a354ffea965fb81fcd23a21": {
      "model_name": "LayoutModel",
      "model_module": "@jupyter-widgets/base",
      "model_module_version": "1.2.0",
      "state": {}
     },
     "8989f12f8a6341998de84133a2dbf558": {
      "model_name": "HBoxModel",
      "model_module": "@jupyter-widgets/controls",
      "model_module_version": "1.5.0",
      "state": {
       "children": [
        "IPY_MODEL_aadd34ec923745bc9b649c2b8fa6208e",
        "IPY_MODEL_38f12ce1405543cb8f41bf7b4b5e0c90",
        "IPY_MODEL_e006f641a4dc48bfa74f40107d32e033"
       ],
       "layout": "IPY_MODEL_d760abd90a354ffea965fb81fcd23a21"
      }
     },
     "8df4fcd141b44a1e9588f448b9855a98": {
      "model_name": "LayoutModel",
      "model_module": "@jupyter-widgets/base",
      "model_module_version": "1.2.0",
      "state": {}
     },
     "477ea376fafb408c88207e4afbafcabc": {
      "model_name": "DescriptionStyleModel",
      "model_module": "@jupyter-widgets/controls",
      "model_module_version": "1.5.0",
      "state": {
       "description_width": ""
      }
     },
     "648879dc98204d30bdb579cc25c03226": {
      "model_name": "HTMLModel",
      "model_module": "@jupyter-widgets/controls",
      "model_module_version": "1.5.0",
      "state": {
       "layout": "IPY_MODEL_8df4fcd141b44a1e9588f448b9855a98",
       "style": "IPY_MODEL_477ea376fafb408c88207e4afbafcabc",
       "value": "Downloading metadata: 100%"
      }
     },
     "c6059125a35f41c78786c567f1d9702c": {
      "model_name": "LayoutModel",
      "model_module": "@jupyter-widgets/base",
      "model_module_version": "1.2.0",
      "state": {}
     },
     "fffe0ce04b5342a9ba7bd4949a4b611c": {
      "model_name": "ProgressStyleModel",
      "model_module": "@jupyter-widgets/controls",
      "model_module_version": "1.5.0",
      "state": {
       "description_width": ""
      }
     },
     "2504cc3326cc4f42832c01c9c189e161": {
      "model_name": "FloatProgressModel",
      "model_module": "@jupyter-widgets/controls",
      "model_module_version": "1.5.0",
      "state": {
       "bar_style": "success",
       "layout": "IPY_MODEL_c6059125a35f41c78786c567f1d9702c",
       "max": 2276,
       "style": "IPY_MODEL_fffe0ce04b5342a9ba7bd4949a4b611c",
       "value": 2276
      }
     },
     "f0f3e9f6260545c288eb43de65d0ee36": {
      "model_name": "LayoutModel",
      "model_module": "@jupyter-widgets/base",
      "model_module_version": "1.2.0",
      "state": {}
     },
     "2361e0042eac44f58511153d0fa0b65b": {
      "model_name": "DescriptionStyleModel",
      "model_module": "@jupyter-widgets/controls",
      "model_module_version": "1.5.0",
      "state": {
       "description_width": ""
      }
     },
     "40071f98d11f4031980a88e9a269f431": {
      "model_name": "HTMLModel",
      "model_module": "@jupyter-widgets/controls",
      "model_module_version": "1.5.0",
      "state": {
       "layout": "IPY_MODEL_f0f3e9f6260545c288eb43de65d0ee36",
       "style": "IPY_MODEL_2361e0042eac44f58511153d0fa0b65b",
       "value": " 2.28k/2.28k [00:00&lt;00:00, 279kB/s]"
      }
     },
     "ba79099e36f04decafc5df06296146e2": {
      "model_name": "LayoutModel",
      "model_module": "@jupyter-widgets/base",
      "model_module_version": "1.2.0",
      "state": {}
     },
     "90915b62d195426fab7ba442b293466c": {
      "model_name": "HBoxModel",
      "model_module": "@jupyter-widgets/controls",
      "model_module_version": "1.5.0",
      "state": {
       "children": [
        "IPY_MODEL_648879dc98204d30bdb579cc25c03226",
        "IPY_MODEL_2504cc3326cc4f42832c01c9c189e161",
        "IPY_MODEL_40071f98d11f4031980a88e9a269f431"
       ],
       "layout": "IPY_MODEL_ba79099e36f04decafc5df06296146e2"
      }
     }
    }
   }
  },
  "kernelspec": {
   "display_name": "Python",
   "language": "python",
   "name": "python"
  },
  "datalore": {
   "computation_mode": "JUPYTER",
   "package_manager": "pip",
   "base_environment": "default",
   "packages": [
    {
     "name": "datasets",
     "version": "2.12.0",
     "source": "PIP"
    }
   ],
   "report_row_ids": [],
   "version": 3
  }
 },
 "nbformat": 4,
 "nbformat_minor": 4
}
