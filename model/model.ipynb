{
 "cells": [
  {
   "cell_type": "markdown",
   "source": [
    "# Legalis Model - Prediction and Datascience around German Court cases"
   ],
   "metadata": {
    "collapsed": false
   }
  },
  {
   "cell_type": "markdown",
   "source": [
    "## Importing Libraries and Dataset from Huggingface"
   ],
   "metadata": {
    "collapsed": false
   }
  },
  {
   "cell_type": "code",
   "source": [
    "from datasets import load_dataset\n",
    "import re\n",
    "import locale\n",
    "\n",
    "dataset=load_dataset(\"LennardZuendorf/legalis\")\n",
    "\n",
    "dataset['train'].features"
   ],
   "execution_count": 1,
   "outputs": [
    {
     "data": {
      "text/plain": "Downloading readme:   0%|          | 0.00/2.41k [00:00<?, ?B/s]",
      "application/vnd.jupyter.widget-view+json": {
       "version_major": 2,
       "version_minor": 0,
       "model_id": "0b9d11819f13417bbc8c9d3fefa903bf"
      }
     },
     "metadata": {},
     "output_type": "display_data"
    },
    {
     "name": "stdout",
     "output_type": "stream",
     "text": [
      "Downloading and preparing dataset None/None to C:/Users/lenna/.cache/huggingface/datasets/LennardZuendorf___parquet/LennardZuendorf--legalis-0a81af9488284743/0.0.0/2a3b91fbd88a2c90d1dbbb32b460cf621d31bd5b05b934492fdef7d8d6f236ec...\n"
     ]
    },
    {
     "data": {
      "text/plain": "Downloading data files:   0%|          | 0/2 [00:00<?, ?it/s]",
      "application/vnd.jupyter.widget-view+json": {
       "version_major": 2,
       "version_minor": 0,
       "model_id": "f422c7d54e22406087d35ffba1489248"
      }
     },
     "metadata": {},
     "output_type": "display_data"
    },
    {
     "data": {
      "text/plain": "Downloading data:   0%|          | 0.00/339M [00:00<?, ?B/s]",
      "application/vnd.jupyter.widget-view+json": {
       "version_major": 2,
       "version_minor": 0,
       "model_id": "7f9c0e9d6216497889aef0f73459fa9b"
      }
     },
     "metadata": {},
     "output_type": "display_data"
    },
    {
     "data": {
      "text/plain": "Downloading data:   0%|          | 0.00/337M [00:00<?, ?B/s]",
      "application/vnd.jupyter.widget-view+json": {
       "version_major": 2,
       "version_minor": 0,
       "model_id": "e179d05bf6d3476eb02be53bac6a123a"
      }
     },
     "metadata": {},
     "output_type": "display_data"
    },
    {
     "data": {
      "text/plain": "Downloading data:   0%|          | 0.00/340M [00:00<?, ?B/s]",
      "application/vnd.jupyter.widget-view+json": {
       "version_major": 2,
       "version_minor": 0,
       "model_id": "b752d14cf60f41c397fdbdd8fdd6baba"
      }
     },
     "metadata": {},
     "output_type": "display_data"
    },
    {
     "data": {
      "text/plain": "Downloading data:   0%|          | 0.00/116M [00:00<?, ?B/s]",
      "application/vnd.jupyter.widget-view+json": {
       "version_major": 2,
       "version_minor": 0,
       "model_id": "40671ac5318f429fa88dd8a1207f72d7"
      }
     },
     "metadata": {},
     "output_type": "display_data"
    },
    {
     "data": {
      "text/plain": "Extracting data files:   0%|          | 0/2 [00:00<?, ?it/s]",
      "application/vnd.jupyter.widget-view+json": {
       "version_major": 2,
       "version_minor": 0,
       "model_id": "9fc2e9b59c4c4ebe8c298d9746c3bbd3"
      }
     },
     "metadata": {},
     "output_type": "display_data"
    },
    {
     "data": {
      "text/plain": "Generating train split:   0%|          | 0/41791 [00:00<?, ? examples/s]",
      "application/vnd.jupyter.widget-view+json": {
       "version_major": 2,
       "version_minor": 0,
       "model_id": "276ef3dd52c2431c82637dab44efe481"
      }
     },
     "metadata": {},
     "output_type": "display_data"
    },
    {
     "data": {
      "text/plain": "Generating test split:   0%|          | 0/4644 [00:00<?, ? examples/s]",
      "application/vnd.jupyter.widget-view+json": {
       "version_major": 2,
       "version_minor": 0,
       "model_id": "842ef5621c2d4d06b182cfb46c967071"
      }
     },
     "metadata": {},
     "output_type": "display_data"
    },
    {
     "name": "stdout",
     "output_type": "stream",
     "text": [
      "Dataset parquet downloaded and prepared to C:/Users/lenna/.cache/huggingface/datasets/LennardZuendorf___parquet/LennardZuendorf--legalis-0a81af9488284743/0.0.0/2a3b91fbd88a2c90d1dbbb32b460cf621d31bd5b05b934492fdef7d8d6f236ec. Subsequent calls will reuse this data.\n"
     ]
    },
    {
     "data": {
      "text/plain": "  0%|          | 0/2 [00:00<?, ?it/s]",
      "application/vnd.jupyter.widget-view+json": {
       "version_major": 2,
       "version_minor": 0,
       "model_id": "689727d6f7d74c099ef6173bb70d4667"
      }
     },
     "metadata": {},
     "output_type": "display_data"
    },
    {
     "data": {
      "text/plain": "{'id': Value(dtype='int64', id=None),\n 'court': {'id': Value(dtype='int64', id=None),\n  'jurisdiction': Value(dtype='string', id=None),\n  'level_of_appeal': Value(dtype='string', id=None),\n  'name': Value(dtype='string', id=None),\n  'state': Value(dtype='int64', id=None)},\n 'file_number': Value(dtype='string', id=None),\n 'date': Value(dtype='timestamp[s]', id=None),\n 'type': Value(dtype='string', id=None),\n 'content': Value(dtype='string', id=None),\n 'tenor': Value(dtype='string', id=None),\n 'reasoning': Value(dtype='string', id=None)}"
     },
     "execution_count": 1,
     "metadata": {},
     "output_type": "execute_result"
    }
   ],
   "metadata": {
    "datalore": {
     "node_id": "2MbR9wKzq3jZhurHxGyFH2",
     "type": "CODE",
     "hide_input_from_viewers": false,
     "hide_output_from_viewers": false,
     "report_properties": {
      "rowId": "61sYDC48nNFceC3FsfTDhZ"
     }
    },
    "ExecuteTime": {
     "end_time": "2023-06-04T21:27:39.782493600Z",
     "start_time": "2023-06-04T21:23:48.551716800Z"
    }
   }
  },
  {
   "cell_type": "markdown",
   "source": [
    "## filtered data for cases with a disputed amount, extracting value from dataset"
   ],
   "attachments": {},
   "metadata": {
    "datalore": {
     "node_id": "EnuR6TTfU7AuYMgOzWNLU4",
     "type": "MD",
     "hide_input_from_viewers": true,
     "hide_output_from_viewers": true
    }
   }
  },
  {
   "cell_type": "code",
   "source": [
    "def streitwert_filter(case):\n",
    "    return 'streitwert' in case['content'].lower()\n",
    "\n",
    "streitwert_dataset = dataset.filter(streitwert_filter)\n",
    "\n",
    "print(streitwert_dataset)"
   ],
   "execution_count": 2,
   "outputs": [
    {
     "data": {
      "text/plain": "Filter:   0%|          | 0/41791 [00:00<?, ? examples/s]",
      "application/vnd.jupyter.widget-view+json": {
       "version_major": 2,
       "version_minor": 0,
       "model_id": "4b9427fbddd64324968cf7dafd9ffa07"
      }
     },
     "metadata": {},
     "output_type": "display_data"
    },
    {
     "data": {
      "text/plain": "Filter:   0%|          | 0/4644 [00:00<?, ? examples/s]",
      "application/vnd.jupyter.widget-view+json": {
       "version_major": 2,
       "version_minor": 0,
       "model_id": "bf3834ea57164af9a18ea5a621c3a01e"
      }
     },
     "metadata": {},
     "output_type": "display_data"
    },
    {
     "name": "stdout",
     "output_type": "stream",
     "text": [
      "DatasetDict({\n",
      "    train: Dataset({\n",
      "        features: ['id', 'court', 'file_number', 'date', 'type', 'content', 'tenor', 'reasoning'],\n",
      "        num_rows: 14586\n",
      "    })\n",
      "    test: Dataset({\n",
      "        features: ['id', 'court', 'file_number', 'date', 'type', 'content', 'tenor', 'reasoning'],\n",
      "        num_rows: 1594\n",
      "    })\n",
      "})\n"
     ]
    }
   ],
   "metadata": {
    "datalore": {
     "node_id": "jyUSkkukcDiuOcISQcmce1",
     "type": "CODE",
     "hide_input_from_viewers": true,
     "hide_output_from_viewers": true
    },
    "ExecuteTime": {
     "end_time": "2023-06-04T21:32:44.390474800Z",
     "start_time": "2023-06-04T21:32:20.970574200Z"
    }
   }
  },
  {
   "cell_type": "code",
   "source": [
    "# Extract `Streitwert` from case content\n",
    "clean_html_pattern = re.compile('<.*?>')\n",
    "locale.setlocale(locale.LC_ALL , 'de_DE.UTF-8')\n",
    "\n",
    "#c = cases[4]\n",
    "def extract_streitwert(case):\n",
    "\n",
    "    case_content = case['content']\n",
    "    case_content = re.sub(clean_html_pattern, '', case_content)\n",
    "    pattern = re.compile('der streitwert wird auf ([\\s0-9-\\.,]*?) (eur|euro|€) festgesetzt')\n",
    "\n",
    "    value = None\n",
    "    for m in pattern.finditer(case_content.lower()):\n",
    "        value = m.group(1).rstrip('-')\n",
    "\n",
    "        try :\n",
    "            value = locale.atof(value)\n",
    "        except ValueError:\n",
    "            value = None\n",
    "\n",
    "    case['disputed_amount']=value\n",
    "    return case\n",
    "            \n",
    "streitwert_dataset = streitwert_dataset.map(extract_streitwert)\n",
    "streitwert_dataset = streitwert_dataset.filter(lambda data: data['disputed_amount'] is not None)\n",
    "\n",
    "print(streitwert_dataset)"
   ],
   "execution_count": 9,
   "outputs": [
    {
     "data": {
      "text/plain": "Map:   0%|          | 0/2307 [00:00<?, ? examples/s]",
      "application/vnd.jupyter.widget-view+json": {
       "version_major": 2,
       "version_minor": 0,
       "model_id": "b0980fd9b8bc4fe2b9e755521c5ef790"
      }
     },
     "metadata": {},
     "output_type": "display_data"
    },
    {
     "data": {
      "text/plain": "Map:   0%|          | 0/241 [00:00<?, ? examples/s]",
      "application/vnd.jupyter.widget-view+json": {
       "version_major": 2,
       "version_minor": 0,
       "model_id": "fc2deb00bf804256929eb99f143cb31a"
      }
     },
     "metadata": {},
     "output_type": "display_data"
    },
    {
     "data": {
      "text/plain": "Filter:   0%|          | 0/2307 [00:00<?, ? examples/s]",
      "application/vnd.jupyter.widget-view+json": {
       "version_major": 2,
       "version_minor": 0,
       "model_id": "dc76f01418e34e51a76e07bb4a5e4b0e"
      }
     },
     "metadata": {},
     "output_type": "display_data"
    },
    {
     "data": {
      "text/plain": "Filter:   0%|          | 0/241 [00:00<?, ? examples/s]",
      "application/vnd.jupyter.widget-view+json": {
       "version_major": 2,
       "version_minor": 0,
       "model_id": "6cdd9ac14d264413bd348a0ac65387af"
      }
     },
     "metadata": {},
     "output_type": "display_data"
    },
    {
     "name": "stdout",
     "output_type": "stream",
     "text": [
      "DatasetDict({\n",
      "    train: Dataset({\n",
      "        features: ['id', 'court', 'file_number', 'date', 'type', 'content', 'tenor', 'reasoning', 'disputed_amount'],\n",
      "        num_rows: 2307\n",
      "    })\n",
      "    test: Dataset({\n",
      "        features: ['id', 'court', 'file_number', 'date', 'type', 'content', 'tenor', 'reasoning', 'disputed_amount'],\n",
      "        num_rows: 241\n",
      "    })\n",
      "})\n"
     ]
    }
   ],
   "metadata": {
    "datalore": {
     "node_id": "8knZoxWLNlEyE4VLtFpPTR",
     "type": "CODE",
     "hide_input_from_viewers": true,
     "hide_output_from_viewers": true
    },
    "ExecuteTime": {
     "end_time": "2023-06-04T21:36:26.461270400Z",
     "start_time": "2023-06-04T21:36:21.906538800Z"
    }
   }
  },
  {
   "cell_type": "markdown",
   "source": [],
   "metadata": {
    "collapsed": false
   }
  }
 ],
 "metadata": {
  "widgets": {
   "application/vnd.jupyter.widget-state+json": {
    "version_major": 2,
    "version_minor": 0,
    "state": {
     "679fbb024a9f456fb27289ee828a57d1": {
      "model_name": "LayoutModel",
      "model_module": "@jupyter-widgets/base",
      "model_module_version": "1.2.0",
      "state": {}
     },
     "5216f92f7cb441bcbb65dae7fe8749b5": {
      "model_name": "DescriptionStyleModel",
      "model_module": "@jupyter-widgets/controls",
      "model_module_version": "1.5.0",
      "state": {
       "description_width": ""
      }
     },
     "7d0f28972d334f03b21ac90c8a2823a8": {
      "model_name": "HTMLModel",
      "model_module": "@jupyter-widgets/controls",
      "model_module_version": "1.5.0",
      "state": {
       "layout": "IPY_MODEL_679fbb024a9f456fb27289ee828a57d1",
       "style": "IPY_MODEL_5216f92f7cb441bcbb65dae7fe8749b5",
       "value": "100%"
      }
     },
     "2ca80b294d114f91baa883aea212a8ae": {
      "model_name": "LayoutModel",
      "model_module": "@jupyter-widgets/base",
      "model_module_version": "1.2.0",
      "state": {}
     },
     "73c7ea94649d43f3815d48f215f8863e": {
      "model_name": "ProgressStyleModel",
      "model_module": "@jupyter-widgets/controls",
      "model_module_version": "1.5.0",
      "state": {
       "description_width": ""
      }
     },
     "9a7b401ace0e4883b3b31e210dd16e2c": {
      "model_name": "FloatProgressModel",
      "model_module": "@jupyter-widgets/controls",
      "model_module_version": "1.5.0",
      "state": {
       "bar_style": "success",
       "layout": "IPY_MODEL_2ca80b294d114f91baa883aea212a8ae",
       "max": 2,
       "style": "IPY_MODEL_73c7ea94649d43f3815d48f215f8863e",
       "value": 2
      }
     },
     "057f7b3cb63640aeb68b5f274dd1f425": {
      "model_name": "LayoutModel",
      "model_module": "@jupyter-widgets/base",
      "model_module_version": "1.2.0",
      "state": {}
     },
     "a7deb011b30a4781baae33329d25cd5e": {
      "model_name": "DescriptionStyleModel",
      "model_module": "@jupyter-widgets/controls",
      "model_module_version": "1.5.0",
      "state": {
       "description_width": ""
      }
     },
     "f5a4f6f35bf94670aebb999b87b3e664": {
      "model_name": "HTMLModel",
      "model_module": "@jupyter-widgets/controls",
      "model_module_version": "1.5.0",
      "state": {
       "layout": "IPY_MODEL_057f7b3cb63640aeb68b5f274dd1f425",
       "style": "IPY_MODEL_a7deb011b30a4781baae33329d25cd5e",
       "value": " 2/2 [00:00&lt;00:00, 23.82it/s]"
      }
     },
     "1bf8a689ce5140c2ad40de80b1616120": {
      "model_name": "LayoutModel",
      "model_module": "@jupyter-widgets/base",
      "model_module_version": "1.2.0",
      "state": {}
     },
     "62061eb271d441ffbca1beaabba69acc": {
      "model_name": "HBoxModel",
      "model_module": "@jupyter-widgets/controls",
      "model_module_version": "1.5.0",
      "state": {
       "children": [
        "IPY_MODEL_7d0f28972d334f03b21ac90c8a2823a8",
        "IPY_MODEL_9a7b401ace0e4883b3b31e210dd16e2c",
        "IPY_MODEL_f5a4f6f35bf94670aebb999b87b3e664"
       ],
       "layout": "IPY_MODEL_1bf8a689ce5140c2ad40de80b1616120"
      }
     }
    }
   }
  },
  "kernelspec": {
   "name": "python3",
   "language": "python",
   "display_name": "Python 3 (ipykernel)"
  },
  "datalore": {
   "computation_mode": "JUPYTER",
   "package_manager": "pip",
   "base_environment": "default",
   "packages": [
    {
     "name": "wordcloud",
     "version": "1.9.1.1",
     "source": "PIP"
    },
    {
     "name": "datasets",
     "version": "2.12.0",
     "source": "PIP"
    },
    {
     "name": "oldp-sdk-python",
     "version": "master",
     "url": "https://github.com/openlegaldata/oldp-sdk-python.git@master#egg=oldp-api",
     "source": "GIT"
    }
   ],
   "report_row_ids": [
    "uQKE7oBNF61P26wPDOHsNL",
    "61sYDC48nNFceC3FsfTDhZ",
    "lIrcceq0txtMnicnKDbCUF"
   ],
   "version": 3
  }
 },
 "nbformat": 4,
 "nbformat_minor": 4
}
