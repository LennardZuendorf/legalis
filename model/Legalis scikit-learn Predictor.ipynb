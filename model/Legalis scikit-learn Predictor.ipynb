{
 "cells": [
  {
   "cell_type": "markdown",
   "source": [
    "# Legalis SKOPS Predictor\n",
    "#### Notebook used to create and publish an sckit-learn text classification modek for outcome prediction"
   ],
   "attachments": {},
   "metadata": {
    "datalore": {
     "node_id": "nF2mGuJOMONr7IOOnJaqgK",
     "type": "MD",
     "hide_input_from_viewers": true,
     "hide_output_from_viewers": true
    }
   }
  },
  {
   "cell_type": "markdown",
   "source": [
    "## Libary and Dataset Import"
   ],
   "attachments": {},
   "metadata": {
    "datalore": {
     "node_id": "VnMhcEega3QtGpRfaBhXc0",
     "type": "MD",
     "hide_input_from_viewers": true,
     "hide_output_from_viewers": true
    }
   }
  },
  {
   "cell_type": "code",
   "source": [
    "# imports for utility\n",
    "import pandas as pd\n",
    "import matplotlib\n",
    "import pickle\n",
    "from pathlib import Path\n",
    "from tempfile import mkdtemp, mkstemp\n",
    "import os\n",
    "\n",
    "#nltk imports for stop words\n",
    "import nltk\n",
    "nltk.download('stopwords')\n",
    "\n",
    "#sklearn import for model creation\n",
    "import sklearn\n",
    "from sklearn.feature_extraction.text import CountVectorizer\n",
    "from sklearn.metrics import (\n",
    "    ConfusionMatrixDisplay,\n",
    "    accuracy_score,\n",
    "    classification_report,\n",
    "    confusion_matrix,\n",
    "    f1_score,\n",
    ")\n",
    "from sklearn.model_selection import StratifiedKFold, train_test_split\n",
    "from sklearn.naive_bayes import MultinomialNB\n",
    "from sklearn.ensemble import RandomForestClassifier\n",
    "\n",
    "#imports to pull/push to/from huggingface hub and create an interactive pipeline\n",
    "from sklearn.pipeline import Pipeline\n",
    "import datasets as ds\n",
    "from skops import card, hub_utils\n"
   ],
   "execution_count": 27,
   "outputs": [
    {
     "name": "stderr",
     "output_type": "stream",
     "text": [
      "[nltk_data] Downloading package stopwords to\n",
      "[nltk_data]     C:\\Users\\lenna\\AppData\\Roaming\\nltk_data...\n",
      "[nltk_data]   Package stopwords is already up-to-date!\n"
     ]
    }
   ],
   "metadata": {
    "datalore": {
     "node_id": "up9pfJwvUcKR9Dl437lzDH",
     "type": "CODE",
     "hide_input_from_viewers": true,
     "hide_output_from_viewers": true
    },
    "ExecuteTime": {
     "end_time": "2023-06-25T19:51:38.866619400Z",
     "start_time": "2023-06-25T19:51:38.835406300Z"
    }
   }
  },
  {
   "cell_type": "markdown",
   "source": [
    "#### preprocessing dataset again (stripping down and changing names)"
   ],
   "attachments": {},
   "metadata": {
    "datalore": {
     "node_id": "Zxl7hLzKOu1K5c8MNMWOGY",
     "type": "MD",
     "hide_input_from_viewers": true,
     "hide_output_from_viewers": true
    }
   }
  },
  {
   "cell_type": "code",
   "source": [
    "dataset=ds.load_dataset(\"lennardzuendorf/legalis\")\n",
    "dataset=ds.concatenate_datasets([dataset['train'], dataset['test']])\n",
    "dataset=dataset.remove_columns(['id', 'file_number', 'date', 'type', 'content', 'tenor','reasoning'])\n",
    "dataset=dataset.rename_column('facts', 'text')\n",
    "dataset=dataset.rename_column('winner', 'target')\n",
    "\n",
    "print(dataset)"
   ],
   "execution_count": 2,
   "outputs": [
    {
     "data": {
      "text/plain": "Downloading readme:   0%|          | 0.00/614 [00:00<?, ?B/s]",
      "application/vnd.jupyter.widget-view+json": {
       "version_major": 2,
       "version_minor": 0,
       "model_id": "2e267b25c1a64691bdf351ed6ce535ee"
      }
     },
     "metadata": {},
     "output_type": "display_data"
    },
    {
     "name": "stdout",
     "output_type": "stream",
     "text": [
      "Downloading and preparing dataset None/None to C:/Users/lenna/.cache/huggingface/datasets/lennardzuendorf___parquet/lennardzuendorf--legalis-a2e01f8f34ef8796/0.0.0/2a3b91fbd88a2c90d1dbbb32b460cf621d31bd5b05b934492fdef7d8d6f236ec...\n"
     ]
    },
    {
     "data": {
      "text/plain": "Downloading data files:   0%|          | 0/2 [00:00<?, ?it/s]",
      "application/vnd.jupyter.widget-view+json": {
       "version_major": 2,
       "version_minor": 0,
       "model_id": "0398adfb1c364793874236debea1ea8d"
      }
     },
     "metadata": {},
     "output_type": "display_data"
    },
    {
     "data": {
      "text/plain": "Downloading data:   0%|          | 0.00/79.7M [00:00<?, ?B/s]",
      "application/vnd.jupyter.widget-view+json": {
       "version_major": 2,
       "version_minor": 0,
       "model_id": "2ee9202772664339ab41a5adae00d383"
      }
     },
     "metadata": {},
     "output_type": "display_data"
    },
    {
     "data": {
      "text/plain": "Downloading data:   0%|          | 0.00/4.24M [00:00<?, ?B/s]",
      "application/vnd.jupyter.widget-view+json": {
       "version_major": 2,
       "version_minor": 0,
       "model_id": "6c20d58a5fd849d3b401c73b7cc0e2bf"
      }
     },
     "metadata": {},
     "output_type": "display_data"
    },
    {
     "data": {
      "text/plain": "Extracting data files:   0%|          | 0/2 [00:00<?, ?it/s]",
      "application/vnd.jupyter.widget-view+json": {
       "version_major": 2,
       "version_minor": 0,
       "model_id": "cae4e155f9ab4cf79f346840169d3647"
      }
     },
     "metadata": {},
     "output_type": "display_data"
    },
    {
     "data": {
      "text/plain": "Generating train split:   0%|          | 0/2660 [00:00<?, ? examples/s]",
      "application/vnd.jupyter.widget-view+json": {
       "version_major": 2,
       "version_minor": 0,
       "model_id": "f4cf198cdfbe4ad6803f096947322522"
      }
     },
     "metadata": {},
     "output_type": "display_data"
    },
    {
     "data": {
      "text/plain": "Generating test split:   0%|          | 0/141 [00:00<?, ? examples/s]",
      "application/vnd.jupyter.widget-view+json": {
       "version_major": 2,
       "version_minor": 0,
       "model_id": "434424617c504212acafeca0078d2190"
      }
     },
     "metadata": {},
     "output_type": "display_data"
    },
    {
     "name": "stdout",
     "output_type": "stream",
     "text": [
      "Dataset parquet downloaded and prepared to C:/Users/lenna/.cache/huggingface/datasets/lennardzuendorf___parquet/lennardzuendorf--legalis-a2e01f8f34ef8796/0.0.0/2a3b91fbd88a2c90d1dbbb32b460cf621d31bd5b05b934492fdef7d8d6f236ec. Subsequent calls will reuse this data.\n"
     ]
    },
    {
     "data": {
      "text/plain": "  0%|          | 0/2 [00:00<?, ?it/s]",
      "application/vnd.jupyter.widget-view+json": {
       "version_major": 2,
       "version_minor": 0,
       "model_id": "19f462a381204f8693e1cb980bb309b6"
      }
     },
     "metadata": {},
     "output_type": "display_data"
    },
    {
     "name": "stdout",
     "output_type": "stream",
     "text": [
      "Dataset({\n",
      "    features: ['text', 'target', 'label'],\n",
      "    num_rows: 2801\n",
      "})\n"
     ]
    }
   ],
   "metadata": {
    "datalore": {
     "node_id": "BbNnDZmR1irh5OodjgeIrb",
     "type": "CODE",
     "hide_input_from_viewers": true,
     "hide_output_from_viewers": true
    },
    "ExecuteTime": {
     "end_time": "2023-06-25T19:09:45.080153100Z",
     "start_time": "2023-06-25T19:09:22.681521200Z"
    }
   }
  },
  {
   "cell_type": "code",
   "source": [
    "def count_dist(dataset):\n",
    "\n",
    "    counter_zero=0\n",
    "    counter_one=0\n",
    "\n",
    "    for case in dataset:\n",
    "        if case['label']==1:\n",
    "            counter_one+=1\n",
    "        elif case['label']==0:\n",
    "            counter_zero+=1\n",
    "\n",
    "    dist=[round(counter_zero/(counter_zero+counter_one),2),round(counter_one/(counter_zero+counter_one),2)]\n",
    "\n",
    "    data={'Verklagte*r': [counter_zero, dist[0]], 'Klaeger*in': [counter_one, dist[1]]}\n",
    "    index=['case nmb.', 'case dist.']\n",
    "\n",
    "    return pd.DataFrame(data=data, index=index)"
   ],
   "execution_count": 3,
   "outputs": [],
   "metadata": {
    "datalore": {
     "node_id": "Mb8UoIGmDeONRfdU5a7lQ4",
     "type": "CODE",
     "hide_input_from_viewers": true,
     "hide_output_from_viewers": true
    }
   }
  },
  {
   "cell_type": "markdown",
   "source": [
    "## Predifining Function to run several times with different dataset sizes\n",
    "#### function for dataframe creation with variable size and splitting into test, train"
   ],
   "attachments": {},
   "metadata": {
    "datalore": {
     "node_id": "djVKj5kXkGJRejZssM3GgG",
     "type": "MD",
     "hide_input_from_viewers": true,
     "hide_output_from_viewers": true
    }
   }
  },
  {
   "cell_type": "code",
   "source": [
    "def create_dataset(size, test_size):\n",
    "\n",
    "    df_dataset=pd.DataFrame(dataset[:size])\n",
    "    df_train, df_test = train_test_split(df_dataset, test_size=test_size)\n",
    "\n",
    "    return df_train, df_test"
   ],
   "execution_count": 3,
   "outputs": [],
   "metadata": {
    "datalore": {
     "node_id": "SHQhU0R8huHDrZJiCsPchn",
     "type": "CODE",
     "hide_input_from_viewers": true,
     "hide_output_from_viewers": true
    },
    "ExecuteTime": {
     "end_time": "2023-06-25T19:10:10.260126800Z",
     "start_time": "2023-06-25T19:10:10.249538300Z"
    }
   }
  },
  {
   "cell_type": "markdown",
   "source": [
    "#### function to vectorize words and get rid of german stopwords with nltk"
   ],
   "attachments": {},
   "metadata": {
    "datalore": {
     "node_id": "DTHwG3e44f9ppT0wEX7voB",
     "type": "MD",
     "hide_input_from_viewers": true,
     "hide_output_from_viewers": true
    }
   }
  },
  {
   "cell_type": "code",
   "source": [
    "from nltk.corpus import stopwords\n",
    "stop_words=stopwords.words('german')\n",
    "\n",
    "def vectorize_words_stop(df_train, df_test):\n",
    "\n",
    "    vec = CountVectorizer(\n",
    "        ngram_range=(1, 3), \n",
    "        stop_words=stop_words,\n",
    "    )\n",
    "\n",
    "    X_train = vec.fit_transform(df_train.text)\n",
    "    X_test = vec.transform(df_test.text)\n",
    "\n",
    "    y_train = df_train.target\n",
    "    y_test = df_test.target\n",
    "\n",
    "    return X_train, X_test, y_train, y_test"
   ],
   "execution_count": 4,
   "outputs": [],
   "metadata": {
    "datalore": {
     "node_id": "DaXfAMej7GnNhYjmxwO2tK",
     "type": "CODE",
     "hide_input_from_viewers": true,
     "hide_output_from_viewers": true
    },
    "ExecuteTime": {
     "end_time": "2023-06-25T19:10:12.368445600Z",
     "start_time": "2023-06-25T19:10:12.314290800Z"
    }
   }
  },
  {
   "cell_type": "markdown",
   "source": [
    "#### scikit-learn multimodal model run block and returning a classification report as dictionary"
   ],
   "attachments": {},
   "metadata": {
    "datalore": {
     "node_id": "2HdI2a6lNDCKU9J0KlKacx",
     "type": "MD",
     "hide_input_from_viewers": true,
     "hide_output_from_viewers": true
    }
   }
  },
  {
   "cell_type": "code",
   "source": [
    "def run_multimodal(X_train, y_train, X_test, y_test):\n",
    "    \n",
    "    nb = MultinomialNB()\n",
    "    nb.fit(X_train, y_train)\n",
    "\n",
    "    predict = nb.predict(X_test)\n",
    "    return classification_report(y_test, predict, output_dict=True)"
   ],
   "execution_count": 5,
   "outputs": [],
   "metadata": {
    "datalore": {
     "node_id": "EUqmmltmZ4bHHRQ49qWhs9",
     "type": "CODE",
     "hide_input_from_viewers": true,
     "hide_output_from_viewers": true
    },
    "ExecuteTime": {
     "end_time": "2023-06-25T19:10:15.547381Z",
     "start_time": "2023-06-25T19:10:15.528973800Z"
    }
   }
  },
  {
   "cell_type": "code",
   "execution_count": 37,
   "outputs": [],
   "source": [
    "def run_forest(X_train, y_train, X_test, y_test):\n",
    "\n",
    "    rf = RandomForestClassifier(max_depth=2, random_state=0)\n",
    "    rf.fit(X_train, y_train)\n",
    "\n",
    "    predict = rf.predict(X_test)\n",
    "    return  classification_report(y_test, predict, output_dict=True)"
   ],
   "metadata": {
    "collapsed": false,
    "ExecuteTime": {
     "end_time": "2023-06-25T20:03:52.274190400Z",
     "start_time": "2023-06-25T20:03:52.255984Z"
    }
   }
  },
  {
   "cell_type": "markdown",
   "source": [
    "## Running Model with different dataset sizes\n",
    "#### function to run model with different sizes or with/without stop words and extract stats from it"
   ],
   "attachments": {},
   "metadata": {
    "datalore": {
     "node_id": "wWj50xauUlmDXAYKPiFvBb",
     "type": "MD",
     "hide_input_from_viewers": true,
     "hide_output_from_viewers": true
    }
   }
  },
  {
   "cell_type": "code",
   "source": [
    "def model_runner(run_list, mode):\n",
    "    \n",
    "    output=[]\n",
    "\n",
    "    for run in run_list:\n",
    "        print(\"running with \"+str(run)+\" cases\")\n",
    "\n",
    "        df_train, df_test = create_dataset(run, 0.2)\n",
    "        X_train, X_test, y_train, y_test = vectorize_words_stop(df_train, df_test)\n",
    "        if mode == \"forest\":\n",
    "            report = run_forest(X_train, y_train, X_test, y_test)\n",
    "        elif mode == \"multimodal\":\n",
    "            report = run_multimodal(X_train, y_train, X_test, y_test)\n",
    "        else:\n",
    "            raise Exception(\"mode not defined\")\n",
    "        output.append(report)\n",
    "    \n",
    "    return output\n",
    "\n",
    "def stat_extractor(run_stats, run_nmbs):\n",
    "    data={}\n",
    "    index=['precision Klaeger*in', 'precision Verklagte*r', 'overall accuracy', 'macro avg', 'weighted avg']\n",
    "    i=0\n",
    "\n",
    "    while i<len(run_stats):\n",
    "        df=pd.DataFrame.from_dict(run_stats[i])\n",
    "        values = df.values[:1][0].round(decimals=3)\n",
    "        run_data={\"run with \"+str(run_nmbs[i]): values}\n",
    "        data.update(run_data)\n",
    "        i=+1\n",
    "\n",
    "    return pd.DataFrame(data=data, index=index)"
   ],
   "execution_count": 30,
   "outputs": [],
   "metadata": {
    "datalore": {
     "node_id": "xXv1sVioC1QZZjADG9zNHm",
     "type": "CODE",
     "hide_input_from_viewers": true,
     "hide_output_from_viewers": true
    },
    "ExecuteTime": {
     "end_time": "2023-06-25T19:56:06.469028200Z",
     "start_time": "2023-06-25T19:56:06.453007300Z"
    }
   }
  },
  {
   "cell_type": "code",
   "source": [
    "run_nmbs=[2800]\n",
    "run_stats=model_runner(run_nmbs, mode=\"forest\")\n",
    "run_stats=stat_extractor(run_stats, run_nmbs)\n",
    "\n",
    "display(run_stats)"
   ],
   "execution_count": 44,
   "outputs": [
    {
     "name": "stdout",
     "output_type": "stream",
     "text": [
      "running with 2800 cases\n"
     ]
    },
    {
     "name": "stderr",
     "output_type": "stream",
     "text": [
      "C:\\Users\\lenna\\Programming\\legalis\\venv\\lib\\site-packages\\sklearn\\metrics\\_classification.py:1344: UndefinedMetricWarning: Precision and F-score are ill-defined and being set to 0.0 in labels with no predicted samples. Use `zero_division` parameter to control this behavior.\n",
      "  _warn_prf(average, modifier, msg_start, len(result))\n",
      "C:\\Users\\lenna\\Programming\\legalis\\venv\\lib\\site-packages\\sklearn\\metrics\\_classification.py:1344: UndefinedMetricWarning: Precision and F-score are ill-defined and being set to 0.0 in labels with no predicted samples. Use `zero_division` parameter to control this behavior.\n",
      "  _warn_prf(average, modifier, msg_start, len(result))\n",
      "C:\\Users\\lenna\\Programming\\legalis\\venv\\lib\\site-packages\\sklearn\\metrics\\_classification.py:1344: UndefinedMetricWarning: Precision and F-score are ill-defined and being set to 0.0 in labels with no predicted samples. Use `zero_division` parameter to control this behavior.\n",
      "  _warn_prf(average, modifier, msg_start, len(result))\n"
     ]
    },
    {
     "data": {
      "text/plain": "                       run with 2800\nprecision Klaeger*in           0.000\nprecision Verklagte*r          0.595\noverall accuracy               0.595\nmacro avg                      0.297\nweighted avg                   0.354",
      "text/html": "<div>\n<style scoped>\n    .dataframe tbody tr th:only-of-type {\n        vertical-align: middle;\n    }\n\n    .dataframe tbody tr th {\n        vertical-align: top;\n    }\n\n    .dataframe thead th {\n        text-align: right;\n    }\n</style>\n<table border=\"1\" class=\"dataframe\">\n  <thead>\n    <tr style=\"text-align: right;\">\n      <th></th>\n      <th>run with 2800</th>\n    </tr>\n  </thead>\n  <tbody>\n    <tr>\n      <th>precision Klaeger*in</th>\n      <td>0.000</td>\n    </tr>\n    <tr>\n      <th>precision Verklagte*r</th>\n      <td>0.595</td>\n    </tr>\n    <tr>\n      <th>overall accuracy</th>\n      <td>0.595</td>\n    </tr>\n    <tr>\n      <th>macro avg</th>\n      <td>0.297</td>\n    </tr>\n    <tr>\n      <th>weighted avg</th>\n      <td>0.354</td>\n    </tr>\n  </tbody>\n</table>\n</div>"
     },
     "metadata": {},
     "output_type": "display_data"
    }
   ],
   "metadata": {
    "datalore": {
     "node_id": "2G7IaZYdCemA9eZL8ARiXb",
     "type": "CODE",
     "hide_input_from_viewers": true,
     "hide_output_from_viewers": true
    },
    "ExecuteTime": {
     "end_time": "2023-06-25T20:29:07.718741400Z",
     "start_time": "2023-06-25T20:28:27.875132Z"
    }
   }
  },
  {
   "cell_type": "markdown",
   "source": [
    "## Making best model available on the huggingface hub\n",
    "#### creating a pipeline with sklearn pipeline"
   ],
   "attachments": {},
   "metadata": {
    "datalore": {
     "node_id": "ElvSEQb3EL2Ph0CQReTPJi",
     "type": "MD",
     "hide_input_from_viewers": true,
     "hide_output_from_viewers": true
    }
   }
  },
  {
   "cell_type": "code",
   "source": [
    "model = Pipeline(\n",
    "    [\n",
    "        (\"count\", CountVectorizer(ngram_range=(1, 3), stop_words=stop_words,)),\n",
    "        (\"clf\", MultinomialNB()),\n",
    "    ]\n",
    ")\n",
    "\n",
    "df_train, df_test = create_dataset(2801, 0.05)\n",
    "\n",
    "X_train, X_test, y_train, y_test = train_test_split(\n",
    "    df_train.text, df_train.target, test_size=0.05, random_state=42\n",
    ")\n",
    "\n",
    "model.fit(X_train, y_train)"
   ],
   "execution_count": 7,
   "outputs": [
    {
     "data": {
      "text/plain": "Pipeline(steps=[('count',\n                 CountVectorizer(ngram_range=(1, 3),\n                                 stop_words=['aber', 'alle', 'allem', 'allen',\n                                             'aller', 'alles', 'als', 'also',\n                                             'am', 'an', 'ander', 'andere',\n                                             'anderem', 'anderen', 'anderer',\n                                             'anderes', 'anderm', 'andern',\n                                             'anderr', 'anders', 'auch', 'auf',\n                                             'aus', 'bei', 'bin', 'bis', 'bist',\n                                             'da', 'damit', 'dann', ...])),\n                ('clf', MultinomialNB())])",
      "text/html": "<style>#sk-container-id-1 {color: black;background-color: white;}#sk-container-id-1 pre{padding: 0;}#sk-container-id-1 div.sk-toggleable {background-color: white;}#sk-container-id-1 label.sk-toggleable__label {cursor: pointer;display: block;width: 100%;margin-bottom: 0;padding: 0.3em;box-sizing: border-box;text-align: center;}#sk-container-id-1 label.sk-toggleable__label-arrow:before {content: \"▸\";float: left;margin-right: 0.25em;color: #696969;}#sk-container-id-1 label.sk-toggleable__label-arrow:hover:before {color: black;}#sk-container-id-1 div.sk-estimator:hover label.sk-toggleable__label-arrow:before {color: black;}#sk-container-id-1 div.sk-toggleable__content {max-height: 0;max-width: 0;overflow: hidden;text-align: left;background-color: #f0f8ff;}#sk-container-id-1 div.sk-toggleable__content pre {margin: 0.2em;color: black;border-radius: 0.25em;background-color: #f0f8ff;}#sk-container-id-1 input.sk-toggleable__control:checked~div.sk-toggleable__content {max-height: 200px;max-width: 100%;overflow: auto;}#sk-container-id-1 input.sk-toggleable__control:checked~label.sk-toggleable__label-arrow:before {content: \"▾\";}#sk-container-id-1 div.sk-estimator input.sk-toggleable__control:checked~label.sk-toggleable__label {background-color: #d4ebff;}#sk-container-id-1 div.sk-label input.sk-toggleable__control:checked~label.sk-toggleable__label {background-color: #d4ebff;}#sk-container-id-1 input.sk-hidden--visually {border: 0;clip: rect(1px 1px 1px 1px);clip: rect(1px, 1px, 1px, 1px);height: 1px;margin: -1px;overflow: hidden;padding: 0;position: absolute;width: 1px;}#sk-container-id-1 div.sk-estimator {font-family: monospace;background-color: #f0f8ff;border: 1px dotted black;border-radius: 0.25em;box-sizing: border-box;margin-bottom: 0.5em;}#sk-container-id-1 div.sk-estimator:hover {background-color: #d4ebff;}#sk-container-id-1 div.sk-parallel-item::after {content: \"\";width: 100%;border-bottom: 1px solid gray;flex-grow: 1;}#sk-container-id-1 div.sk-label:hover label.sk-toggleable__label {background-color: #d4ebff;}#sk-container-id-1 div.sk-serial::before {content: \"\";position: absolute;border-left: 1px solid gray;box-sizing: border-box;top: 0;bottom: 0;left: 50%;z-index: 0;}#sk-container-id-1 div.sk-serial {display: flex;flex-direction: column;align-items: center;background-color: white;padding-right: 0.2em;padding-left: 0.2em;position: relative;}#sk-container-id-1 div.sk-item {position: relative;z-index: 1;}#sk-container-id-1 div.sk-parallel {display: flex;align-items: stretch;justify-content: center;background-color: white;position: relative;}#sk-container-id-1 div.sk-item::before, #sk-container-id-1 div.sk-parallel-item::before {content: \"\";position: absolute;border-left: 1px solid gray;box-sizing: border-box;top: 0;bottom: 0;left: 50%;z-index: -1;}#sk-container-id-1 div.sk-parallel-item {display: flex;flex-direction: column;z-index: 1;position: relative;background-color: white;}#sk-container-id-1 div.sk-parallel-item:first-child::after {align-self: flex-end;width: 50%;}#sk-container-id-1 div.sk-parallel-item:last-child::after {align-self: flex-start;width: 50%;}#sk-container-id-1 div.sk-parallel-item:only-child::after {width: 0;}#sk-container-id-1 div.sk-dashed-wrapped {border: 1px dashed gray;margin: 0 0.4em 0.5em 0.4em;box-sizing: border-box;padding-bottom: 0.4em;background-color: white;}#sk-container-id-1 div.sk-label label {font-family: monospace;font-weight: bold;display: inline-block;line-height: 1.2em;}#sk-container-id-1 div.sk-label-container {text-align: center;}#sk-container-id-1 div.sk-container {/* jupyter's `normalize.less` sets `[hidden] { display: none; }` but bootstrap.min.css set `[hidden] { display: none !important; }` so we also need the `!important` here to be able to override the default hidden behavior on the sphinx rendered scikit-learn.org. See: https://github.com/scikit-learn/scikit-learn/issues/21755 */display: inline-block !important;position: relative;}#sk-container-id-1 div.sk-text-repr-fallback {display: none;}</style><div id=\"sk-container-id-1\" class=\"sk-top-container\"><div class=\"sk-text-repr-fallback\"><pre>Pipeline(steps=[(&#x27;count&#x27;,\n                 CountVectorizer(ngram_range=(1, 3),\n                                 stop_words=[&#x27;aber&#x27;, &#x27;alle&#x27;, &#x27;allem&#x27;, &#x27;allen&#x27;,\n                                             &#x27;aller&#x27;, &#x27;alles&#x27;, &#x27;als&#x27;, &#x27;also&#x27;,\n                                             &#x27;am&#x27;, &#x27;an&#x27;, &#x27;ander&#x27;, &#x27;andere&#x27;,\n                                             &#x27;anderem&#x27;, &#x27;anderen&#x27;, &#x27;anderer&#x27;,\n                                             &#x27;anderes&#x27;, &#x27;anderm&#x27;, &#x27;andern&#x27;,\n                                             &#x27;anderr&#x27;, &#x27;anders&#x27;, &#x27;auch&#x27;, &#x27;auf&#x27;,\n                                             &#x27;aus&#x27;, &#x27;bei&#x27;, &#x27;bin&#x27;, &#x27;bis&#x27;, &#x27;bist&#x27;,\n                                             &#x27;da&#x27;, &#x27;damit&#x27;, &#x27;dann&#x27;, ...])),\n                (&#x27;clf&#x27;, MultinomialNB())])</pre><b>In a Jupyter environment, please rerun this cell to show the HTML representation or trust the notebook. <br />On GitHub, the HTML representation is unable to render, please try loading this page with nbviewer.org.</b></div><div class=\"sk-container\" hidden><div class=\"sk-item sk-dashed-wrapped\"><div class=\"sk-label-container\"><div class=\"sk-label sk-toggleable\"><input class=\"sk-toggleable__control sk-hidden--visually\" id=\"sk-estimator-id-1\" type=\"checkbox\" ><label for=\"sk-estimator-id-1\" class=\"sk-toggleable__label sk-toggleable__label-arrow\">Pipeline</label><div class=\"sk-toggleable__content\"><pre>Pipeline(steps=[(&#x27;count&#x27;,\n                 CountVectorizer(ngram_range=(1, 3),\n                                 stop_words=[&#x27;aber&#x27;, &#x27;alle&#x27;, &#x27;allem&#x27;, &#x27;allen&#x27;,\n                                             &#x27;aller&#x27;, &#x27;alles&#x27;, &#x27;als&#x27;, &#x27;also&#x27;,\n                                             &#x27;am&#x27;, &#x27;an&#x27;, &#x27;ander&#x27;, &#x27;andere&#x27;,\n                                             &#x27;anderem&#x27;, &#x27;anderen&#x27;, &#x27;anderer&#x27;,\n                                             &#x27;anderes&#x27;, &#x27;anderm&#x27;, &#x27;andern&#x27;,\n                                             &#x27;anderr&#x27;, &#x27;anders&#x27;, &#x27;auch&#x27;, &#x27;auf&#x27;,\n                                             &#x27;aus&#x27;, &#x27;bei&#x27;, &#x27;bin&#x27;, &#x27;bis&#x27;, &#x27;bist&#x27;,\n                                             &#x27;da&#x27;, &#x27;damit&#x27;, &#x27;dann&#x27;, ...])),\n                (&#x27;clf&#x27;, MultinomialNB())])</pre></div></div></div><div class=\"sk-serial\"><div class=\"sk-item\"><div class=\"sk-estimator sk-toggleable\"><input class=\"sk-toggleable__control sk-hidden--visually\" id=\"sk-estimator-id-2\" type=\"checkbox\" ><label for=\"sk-estimator-id-2\" class=\"sk-toggleable__label sk-toggleable__label-arrow\">CountVectorizer</label><div class=\"sk-toggleable__content\"><pre>CountVectorizer(ngram_range=(1, 3),\n                stop_words=[&#x27;aber&#x27;, &#x27;alle&#x27;, &#x27;allem&#x27;, &#x27;allen&#x27;, &#x27;aller&#x27;, &#x27;alles&#x27;,\n                            &#x27;als&#x27;, &#x27;also&#x27;, &#x27;am&#x27;, &#x27;an&#x27;, &#x27;ander&#x27;, &#x27;andere&#x27;,\n                            &#x27;anderem&#x27;, &#x27;anderen&#x27;, &#x27;anderer&#x27;, &#x27;anderes&#x27;,\n                            &#x27;anderm&#x27;, &#x27;andern&#x27;, &#x27;anderr&#x27;, &#x27;anders&#x27;, &#x27;auch&#x27;,\n                            &#x27;auf&#x27;, &#x27;aus&#x27;, &#x27;bei&#x27;, &#x27;bin&#x27;, &#x27;bis&#x27;, &#x27;bist&#x27;, &#x27;da&#x27;,\n                            &#x27;damit&#x27;, &#x27;dann&#x27;, ...])</pre></div></div></div><div class=\"sk-item\"><div class=\"sk-estimator sk-toggleable\"><input class=\"sk-toggleable__control sk-hidden--visually\" id=\"sk-estimator-id-3\" type=\"checkbox\" ><label for=\"sk-estimator-id-3\" class=\"sk-toggleable__label sk-toggleable__label-arrow\">MultinomialNB</label><div class=\"sk-toggleable__content\"><pre>MultinomialNB()</pre></div></div></div></div></div></div></div>"
     },
     "execution_count": 7,
     "metadata": {},
     "output_type": "execute_result"
    }
   ],
   "metadata": {
    "datalore": {
     "node_id": "8784eMu92NuWkOMrtbKIIl",
     "type": "CODE",
     "hide_input_from_viewers": true,
     "hide_output_from_viewers": true
    },
    "ExecuteTime": {
     "end_time": "2023-06-25T19:10:51.843093700Z",
     "start_time": "2023-06-25T19:10:22.036554100Z"
    }
   }
  },
  {
   "cell_type": "markdown",
   "source": [
    "#### creating a model card and some statistics to go with it"
   ],
   "attachments": {},
   "metadata": {
    "datalore": {
     "node_id": "PzKqXe9bpm4DzXf0CNep24",
     "type": "MD",
     "hide_input_from_viewers": true,
     "hide_output_from_viewers": true
    }
   }
  },
  {
   "cell_type": "code",
   "execution_count": 8,
   "outputs": [
    {
     "ename": "TypeError",
     "evalue": "Object of type Series is not JSON serializable",
     "output_type": "error",
     "traceback": [
      "\u001B[1;31m---------------------------------------------------------------------------\u001B[0m",
      "\u001B[1;31mTypeError\u001B[0m                                 Traceback (most recent call last)",
      "Cell \u001B[1;32mIn[8], line 8\u001B[0m\n\u001B[0;32m      4\u001B[0m     pickle\u001B[38;5;241m.\u001B[39mdump(model, file\u001B[38;5;241m=\u001B[39mf)\n\u001B[0;32m      6\u001B[0m local_repo \u001B[38;5;241m=\u001B[39m mkdtemp(prefix\u001B[38;5;241m=\u001B[39m\u001B[38;5;124m\"\u001B[39m\u001B[38;5;124mskops-\u001B[39m\u001B[38;5;124m\"\u001B[39m)\n\u001B[1;32m----> 8\u001B[0m \u001B[43mhub_utils\u001B[49m\u001B[38;5;241;43m.\u001B[39;49m\u001B[43minit\u001B[49m\u001B[43m(\u001B[49m\n\u001B[0;32m      9\u001B[0m \u001B[43m    \u001B[49m\u001B[43mmodel\u001B[49m\u001B[38;5;241;43m=\u001B[39;49m\u001B[43mpkl_name\u001B[49m\u001B[43m,\u001B[49m\n\u001B[0;32m     10\u001B[0m \u001B[43m    \u001B[49m\u001B[43mrequirements\u001B[49m\u001B[38;5;241;43m=\u001B[39;49m\u001B[43m[\u001B[49m\u001B[38;5;124;43mf\u001B[39;49m\u001B[38;5;124;43m\"\u001B[39;49m\u001B[38;5;124;43mscikit-learn=\u001B[39;49m\u001B[38;5;132;43;01m{\u001B[39;49;00m\u001B[43msklearn\u001B[49m\u001B[38;5;241;43m.\u001B[39;49m\u001B[43m__version__\u001B[49m\u001B[38;5;132;43;01m}\u001B[39;49;00m\u001B[38;5;124;43m\"\u001B[39;49m\u001B[43m]\u001B[49m\u001B[43m,\u001B[49m\n\u001B[0;32m     11\u001B[0m \u001B[43m    \u001B[49m\u001B[43mdst\u001B[49m\u001B[38;5;241;43m=\u001B[39;49m\u001B[43mlocal_repo\u001B[49m\u001B[43m,\u001B[49m\n\u001B[0;32m     12\u001B[0m \u001B[43m    \u001B[49m\u001B[43mtask\u001B[49m\u001B[38;5;241;43m=\u001B[39;49m\u001B[38;5;124;43m\"\u001B[39;49m\u001B[38;5;124;43mtext-classification\u001B[39;49m\u001B[38;5;124;43m\"\u001B[39;49m\u001B[43m,\u001B[49m\n\u001B[0;32m     13\u001B[0m \u001B[43m    \u001B[49m\u001B[43mdata\u001B[49m\u001B[38;5;241;43m=\u001B[39;49m\u001B[43mX_test\u001B[49m\u001B[43m,\u001B[49m\n\u001B[0;32m     14\u001B[0m \u001B[43m)\u001B[49m\n",
      "File \u001B[1;32m~\\Programming\\legalis\\venv\\lib\\site-packages\\skops\\hub_utils\\_hf_hub.py:422\u001B[0m, in \u001B[0;36minit\u001B[1;34m(model, requirements, dst, task, data, model_format, use_intelex)\u001B[0m\n\u001B[0;32m    419\u001B[0m     shutil\u001B[38;5;241m.\u001B[39mcopy2(src\u001B[38;5;241m=\u001B[39mmodel, dst\u001B[38;5;241m=\u001B[39mdst)\n\u001B[0;32m    421\u001B[0m     model_name \u001B[38;5;241m=\u001B[39m model\u001B[38;5;241m.\u001B[39mname\n\u001B[1;32m--> 422\u001B[0m     \u001B[43m_create_config\u001B[49m\u001B[43m(\u001B[49m\n\u001B[0;32m    423\u001B[0m \u001B[43m        \u001B[49m\u001B[43mmodel_path\u001B[49m\u001B[38;5;241;43m=\u001B[39;49m\u001B[43mmodel_name\u001B[49m\u001B[43m,\u001B[49m\n\u001B[0;32m    424\u001B[0m \u001B[43m        \u001B[49m\u001B[43mrequirements\u001B[49m\u001B[38;5;241;43m=\u001B[39;49m\u001B[43mrequirements\u001B[49m\u001B[43m,\u001B[49m\n\u001B[0;32m    425\u001B[0m \u001B[43m        \u001B[49m\u001B[43mdst\u001B[49m\u001B[38;5;241;43m=\u001B[39;49m\u001B[43mdst\u001B[49m\u001B[43m,\u001B[49m\n\u001B[0;32m    426\u001B[0m \u001B[43m        \u001B[49m\u001B[43mtask\u001B[49m\u001B[38;5;241;43m=\u001B[39;49m\u001B[43mtask\u001B[49m\u001B[43m,\u001B[49m\n\u001B[0;32m    427\u001B[0m \u001B[43m        \u001B[49m\u001B[43mdata\u001B[49m\u001B[38;5;241;43m=\u001B[39;49m\u001B[43mdata\u001B[49m\u001B[43m,\u001B[49m\n\u001B[0;32m    428\u001B[0m \u001B[43m        \u001B[49m\u001B[43mmodel_format\u001B[49m\u001B[38;5;241;43m=\u001B[39;49m\u001B[43mmodel_format\u001B[49m\u001B[43m,\u001B[49m\n\u001B[0;32m    429\u001B[0m \u001B[43m        \u001B[49m\u001B[43muse_intelex\u001B[49m\u001B[38;5;241;43m=\u001B[39;49m\u001B[43muse_intelex\u001B[49m\u001B[43m,\u001B[49m\n\u001B[0;32m    430\u001B[0m \u001B[43m    \u001B[49m\u001B[43m)\u001B[49m\n\u001B[0;32m    431\u001B[0m \u001B[38;5;28;01mexcept\u001B[39;00m \u001B[38;5;167;01mException\u001B[39;00m:\n\u001B[0;32m    432\u001B[0m     shutil\u001B[38;5;241m.\u001B[39mrmtree(dst)\n",
      "File \u001B[1;32m~\\Programming\\legalis\\venv\\lib\\site-packages\\skops\\hub_utils\\_hf_hub.py:299\u001B[0m, in \u001B[0;36m_create_config\u001B[1;34m(model_path, requirements, dst, task, data, model_format, use_intelex)\u001B[0m\n\u001B[0;32m    296\u001B[0m \u001B[38;5;28;01melif\u001B[39;00m \u001B[38;5;124m\"\u001B[39m\u001B[38;5;124mtext\u001B[39m\u001B[38;5;124m\"\u001B[39m \u001B[38;5;129;01min\u001B[39;00m task:\n\u001B[0;32m    297\u001B[0m     config[\u001B[38;5;124m\"\u001B[39m\u001B[38;5;124msklearn\u001B[39m\u001B[38;5;124m\"\u001B[39m][\u001B[38;5;124m\"\u001B[39m\u001B[38;5;124mexample_input\u001B[39m\u001B[38;5;124m\"\u001B[39m] \u001B[38;5;241m=\u001B[39m _get_example_input_from_text_data(data)\n\u001B[1;32m--> 299\u001B[0m \u001B[43mdump_json\u001B[49m\u001B[43m(\u001B[49m\u001B[43mPath\u001B[49m\u001B[43m(\u001B[49m\u001B[43mdst\u001B[49m\u001B[43m)\u001B[49m\u001B[43m \u001B[49m\u001B[38;5;241;43m/\u001B[39;49m\u001B[43m \u001B[49m\u001B[38;5;124;43m\"\u001B[39;49m\u001B[38;5;124;43mconfig.json\u001B[39;49m\u001B[38;5;124;43m\"\u001B[39;49m\u001B[43m,\u001B[49m\u001B[43m \u001B[49m\u001B[43mconfig\u001B[49m\u001B[43m)\u001B[49m\n",
      "File \u001B[1;32m~\\Programming\\legalis\\venv\\lib\\site-packages\\skops\\hub_utils\\_hf_hub.py:493\u001B[0m, in \u001B[0;36mdump_json\u001B[1;34m(path, content)\u001B[0m\n\u001B[0;32m    491\u001B[0m \u001B[38;5;28;01mdef\u001B[39;00m \u001B[38;5;21mdump_json\u001B[39m(path, content):\n\u001B[0;32m    492\u001B[0m     \u001B[38;5;28;01mwith\u001B[39;00m \u001B[38;5;28mopen\u001B[39m(Path(path), mode\u001B[38;5;241m=\u001B[39m\u001B[38;5;124m\"\u001B[39m\u001B[38;5;124mw\u001B[39m\u001B[38;5;124m\"\u001B[39m) \u001B[38;5;28;01mas\u001B[39;00m f:\n\u001B[1;32m--> 493\u001B[0m         \u001B[43mjson\u001B[49m\u001B[38;5;241;43m.\u001B[39;49m\u001B[43mdump\u001B[49m\u001B[43m(\u001B[49m\u001B[43mcontent\u001B[49m\u001B[43m,\u001B[49m\u001B[43m \u001B[49m\u001B[43mf\u001B[49m\u001B[43m,\u001B[49m\u001B[43m \u001B[49m\u001B[43msort_keys\u001B[49m\u001B[38;5;241;43m=\u001B[39;49m\u001B[38;5;28;43;01mTrue\u001B[39;49;00m\u001B[43m,\u001B[49m\u001B[43m \u001B[49m\u001B[43mindent\u001B[49m\u001B[38;5;241;43m=\u001B[39;49m\u001B[38;5;241;43m4\u001B[39;49m\u001B[43m)\u001B[49m\n",
      "File \u001B[1;32m~\\AppData\\Local\\Programs\\Python\\Python39\\lib\\json\\__init__.py:179\u001B[0m, in \u001B[0;36mdump\u001B[1;34m(obj, fp, skipkeys, ensure_ascii, check_circular, allow_nan, cls, indent, separators, default, sort_keys, **kw)\u001B[0m\n\u001B[0;32m    173\u001B[0m     iterable \u001B[38;5;241m=\u001B[39m \u001B[38;5;28mcls\u001B[39m(skipkeys\u001B[38;5;241m=\u001B[39mskipkeys, ensure_ascii\u001B[38;5;241m=\u001B[39mensure_ascii,\n\u001B[0;32m    174\u001B[0m         check_circular\u001B[38;5;241m=\u001B[39mcheck_circular, allow_nan\u001B[38;5;241m=\u001B[39mallow_nan, indent\u001B[38;5;241m=\u001B[39mindent,\n\u001B[0;32m    175\u001B[0m         separators\u001B[38;5;241m=\u001B[39mseparators,\n\u001B[0;32m    176\u001B[0m         default\u001B[38;5;241m=\u001B[39mdefault, sort_keys\u001B[38;5;241m=\u001B[39msort_keys, \u001B[38;5;241m*\u001B[39m\u001B[38;5;241m*\u001B[39mkw)\u001B[38;5;241m.\u001B[39miterencode(obj)\n\u001B[0;32m    177\u001B[0m \u001B[38;5;66;03m# could accelerate with writelines in some versions of Python, at\u001B[39;00m\n\u001B[0;32m    178\u001B[0m \u001B[38;5;66;03m# a debuggability cost\u001B[39;00m\n\u001B[1;32m--> 179\u001B[0m \u001B[38;5;28;01mfor\u001B[39;00m chunk \u001B[38;5;129;01min\u001B[39;00m iterable:\n\u001B[0;32m    180\u001B[0m     fp\u001B[38;5;241m.\u001B[39mwrite(chunk)\n",
      "File \u001B[1;32m~\\AppData\\Local\\Programs\\Python\\Python39\\lib\\json\\encoder.py:431\u001B[0m, in \u001B[0;36m_make_iterencode.<locals>._iterencode\u001B[1;34m(o, _current_indent_level)\u001B[0m\n\u001B[0;32m    429\u001B[0m     \u001B[38;5;28;01myield from\u001B[39;00m _iterencode_list(o, _current_indent_level)\n\u001B[0;32m    430\u001B[0m \u001B[38;5;28;01melif\u001B[39;00m \u001B[38;5;28misinstance\u001B[39m(o, \u001B[38;5;28mdict\u001B[39m):\n\u001B[1;32m--> 431\u001B[0m     \u001B[38;5;28;01myield from\u001B[39;00m _iterencode_dict(o, _current_indent_level)\n\u001B[0;32m    432\u001B[0m \u001B[38;5;28;01melse\u001B[39;00m:\n\u001B[0;32m    433\u001B[0m     \u001B[38;5;28;01mif\u001B[39;00m markers \u001B[38;5;129;01mis\u001B[39;00m \u001B[38;5;129;01mnot\u001B[39;00m \u001B[38;5;28;01mNone\u001B[39;00m:\n",
      "File \u001B[1;32m~\\AppData\\Local\\Programs\\Python\\Python39\\lib\\json\\encoder.py:405\u001B[0m, in \u001B[0;36m_make_iterencode.<locals>._iterencode_dict\u001B[1;34m(dct, _current_indent_level)\u001B[0m\n\u001B[0;32m    403\u001B[0m         \u001B[38;5;28;01melse\u001B[39;00m:\n\u001B[0;32m    404\u001B[0m             chunks \u001B[38;5;241m=\u001B[39m _iterencode(value, _current_indent_level)\n\u001B[1;32m--> 405\u001B[0m         \u001B[38;5;28;01myield from\u001B[39;00m chunks\n\u001B[0;32m    406\u001B[0m \u001B[38;5;28;01mif\u001B[39;00m newline_indent \u001B[38;5;129;01mis\u001B[39;00m \u001B[38;5;129;01mnot\u001B[39;00m \u001B[38;5;28;01mNone\u001B[39;00m:\n\u001B[0;32m    407\u001B[0m     _current_indent_level \u001B[38;5;241m-\u001B[39m\u001B[38;5;241m=\u001B[39m \u001B[38;5;241m1\u001B[39m\n",
      "File \u001B[1;32m~\\AppData\\Local\\Programs\\Python\\Python39\\lib\\json\\encoder.py:405\u001B[0m, in \u001B[0;36m_make_iterencode.<locals>._iterencode_dict\u001B[1;34m(dct, _current_indent_level)\u001B[0m\n\u001B[0;32m    403\u001B[0m         \u001B[38;5;28;01melse\u001B[39;00m:\n\u001B[0;32m    404\u001B[0m             chunks \u001B[38;5;241m=\u001B[39m _iterencode(value, _current_indent_level)\n\u001B[1;32m--> 405\u001B[0m         \u001B[38;5;28;01myield from\u001B[39;00m chunks\n\u001B[0;32m    406\u001B[0m \u001B[38;5;28;01mif\u001B[39;00m newline_indent \u001B[38;5;129;01mis\u001B[39;00m \u001B[38;5;129;01mnot\u001B[39;00m \u001B[38;5;28;01mNone\u001B[39;00m:\n\u001B[0;32m    407\u001B[0m     _current_indent_level \u001B[38;5;241m-\u001B[39m\u001B[38;5;241m=\u001B[39m \u001B[38;5;241m1\u001B[39m\n",
      "File \u001B[1;32m~\\AppData\\Local\\Programs\\Python\\Python39\\lib\\json\\encoder.py:405\u001B[0m, in \u001B[0;36m_make_iterencode.<locals>._iterencode_dict\u001B[1;34m(dct, _current_indent_level)\u001B[0m\n\u001B[0;32m    403\u001B[0m         \u001B[38;5;28;01melse\u001B[39;00m:\n\u001B[0;32m    404\u001B[0m             chunks \u001B[38;5;241m=\u001B[39m _iterencode(value, _current_indent_level)\n\u001B[1;32m--> 405\u001B[0m         \u001B[38;5;28;01myield from\u001B[39;00m chunks\n\u001B[0;32m    406\u001B[0m \u001B[38;5;28;01mif\u001B[39;00m newline_indent \u001B[38;5;129;01mis\u001B[39;00m \u001B[38;5;129;01mnot\u001B[39;00m \u001B[38;5;28;01mNone\u001B[39;00m:\n\u001B[0;32m    407\u001B[0m     _current_indent_level \u001B[38;5;241m-\u001B[39m\u001B[38;5;241m=\u001B[39m \u001B[38;5;241m1\u001B[39m\n",
      "File \u001B[1;32m~\\AppData\\Local\\Programs\\Python\\Python39\\lib\\json\\encoder.py:438\u001B[0m, in \u001B[0;36m_make_iterencode.<locals>._iterencode\u001B[1;34m(o, _current_indent_level)\u001B[0m\n\u001B[0;32m    436\u001B[0m         \u001B[38;5;28;01mraise\u001B[39;00m \u001B[38;5;167;01mValueError\u001B[39;00m(\u001B[38;5;124m\"\u001B[39m\u001B[38;5;124mCircular reference detected\u001B[39m\u001B[38;5;124m\"\u001B[39m)\n\u001B[0;32m    437\u001B[0m     markers[markerid] \u001B[38;5;241m=\u001B[39m o\n\u001B[1;32m--> 438\u001B[0m o \u001B[38;5;241m=\u001B[39m \u001B[43m_default\u001B[49m\u001B[43m(\u001B[49m\u001B[43mo\u001B[49m\u001B[43m)\u001B[49m\n\u001B[0;32m    439\u001B[0m \u001B[38;5;28;01myield from\u001B[39;00m _iterencode(o, _current_indent_level)\n\u001B[0;32m    440\u001B[0m \u001B[38;5;28;01mif\u001B[39;00m markers \u001B[38;5;129;01mis\u001B[39;00m \u001B[38;5;129;01mnot\u001B[39;00m \u001B[38;5;28;01mNone\u001B[39;00m:\n",
      "File \u001B[1;32m~\\AppData\\Local\\Programs\\Python\\Python39\\lib\\json\\encoder.py:179\u001B[0m, in \u001B[0;36mJSONEncoder.default\u001B[1;34m(self, o)\u001B[0m\n\u001B[0;32m    160\u001B[0m \u001B[38;5;28;01mdef\u001B[39;00m \u001B[38;5;21mdefault\u001B[39m(\u001B[38;5;28mself\u001B[39m, o):\n\u001B[0;32m    161\u001B[0m \u001B[38;5;250m    \u001B[39m\u001B[38;5;124;03m\"\"\"Implement this method in a subclass such that it returns\u001B[39;00m\n\u001B[0;32m    162\u001B[0m \u001B[38;5;124;03m    a serializable object for ``o``, or calls the base implementation\u001B[39;00m\n\u001B[0;32m    163\u001B[0m \u001B[38;5;124;03m    (to raise a ``TypeError``).\u001B[39;00m\n\u001B[1;32m   (...)\u001B[0m\n\u001B[0;32m    177\u001B[0m \n\u001B[0;32m    178\u001B[0m \u001B[38;5;124;03m    \"\"\"\u001B[39;00m\n\u001B[1;32m--> 179\u001B[0m     \u001B[38;5;28;01mraise\u001B[39;00m \u001B[38;5;167;01mTypeError\u001B[39;00m(\u001B[38;5;124mf\u001B[39m\u001B[38;5;124m'\u001B[39m\u001B[38;5;124mObject of type \u001B[39m\u001B[38;5;132;01m{\u001B[39;00mo\u001B[38;5;241m.\u001B[39m\u001B[38;5;18m__class__\u001B[39m\u001B[38;5;241m.\u001B[39m\u001B[38;5;18m__name__\u001B[39m\u001B[38;5;132;01m}\u001B[39;00m\u001B[38;5;124m \u001B[39m\u001B[38;5;124m'\u001B[39m\n\u001B[0;32m    180\u001B[0m                     \u001B[38;5;124mf\u001B[39m\u001B[38;5;124m'\u001B[39m\u001B[38;5;124mis not JSON serializable\u001B[39m\u001B[38;5;124m'\u001B[39m)\n",
      "\u001B[1;31mTypeError\u001B[0m: Object of type Series is not JSON serializable"
     ]
    }
   ],
   "source": [
    "_, pkl_name = mkstemp(prefix=\"skops-\", suffix=\".pkl\")\n",
    "\n",
    "with open(pkl_name, mode=\"bw\") as f:\n",
    "    pickle.dump(model, file=f)\n",
    "\n",
    "local_repo = mkdtemp(prefix=\"skops-\")\n",
    "\n",
    "hub_utils.init(\n",
    "    model=pkl_name,\n",
    "    requirements=[f\"scikit-learn={sklearn.__version__}\"],\n",
    "    dst=local_repo,\n",
    "    task=\"text-classification\",\n",
    "    data=X_test,\n",
    ")"
   ],
   "metadata": {
    "collapsed": false,
    "ExecuteTime": {
     "end_time": "2023-06-25T19:11:50.969842100Z",
     "start_time": "2023-06-25T19:11:46.933534700Z"
    }
   }
  }
 ],
 "metadata": {
  "widgets": {
   "application/vnd.jupyter.widget-state+json": {
    "version_major": 2,
    "version_minor": 0,
    "state": {
     "d1ddeeb67065449d86a86cfc2c62d354": {
      "model_name": "LayoutModel",
      "model_module": "@jupyter-widgets/base",
      "model_module_version": "1.2.0",
      "state": {}
     },
     "7f635e635f144813a34799bfaf9f3726": {
      "model_name": "DescriptionStyleModel",
      "model_module": "@jupyter-widgets/controls",
      "model_module_version": "1.5.0",
      "state": {
       "description_width": ""
      }
     },
     "c3ae16e8ab9f45bba5cc23143f423a71": {
      "model_name": "HTMLModel",
      "model_module": "@jupyter-widgets/controls",
      "model_module_version": "1.5.0",
      "state": {
       "layout": "IPY_MODEL_d1ddeeb67065449d86a86cfc2c62d354",
       "style": "IPY_MODEL_7f635e635f144813a34799bfaf9f3726",
       "value": "Downloading readme: 100%"
      }
     },
     "9635889aaa30466996aaa0ae7a8102a6": {
      "model_name": "LayoutModel",
      "model_module": "@jupyter-widgets/base",
      "model_module_version": "1.2.0",
      "state": {}
     },
     "8be439fb444d474aafedfc243acf56d8": {
      "model_name": "ProgressStyleModel",
      "model_module": "@jupyter-widgets/controls",
      "model_module_version": "1.5.0",
      "state": {
       "description_width": ""
      }
     },
     "508fd32b5e454e48a9afb37366f7c9d8": {
      "model_name": "FloatProgressModel",
      "model_module": "@jupyter-widgets/controls",
      "model_module_version": "1.5.0",
      "state": {
       "bar_style": "success",
       "layout": "IPY_MODEL_9635889aaa30466996aaa0ae7a8102a6",
       "max": 614,
       "style": "IPY_MODEL_8be439fb444d474aafedfc243acf56d8",
       "value": 614
      }
     },
     "8022a89c9e0346398cf5e7e586b29352": {
      "model_name": "LayoutModel",
      "model_module": "@jupyter-widgets/base",
      "model_module_version": "1.2.0",
      "state": {}
     },
     "a4f1670b8d4c4da4ad694194f2f0c573": {
      "model_name": "DescriptionStyleModel",
      "model_module": "@jupyter-widgets/controls",
      "model_module_version": "1.5.0",
      "state": {
       "description_width": ""
      }
     },
     "87155fee3ba2412aa3c3c868b1be2532": {
      "model_name": "HTMLModel",
      "model_module": "@jupyter-widgets/controls",
      "model_module_version": "1.5.0",
      "state": {
       "layout": "IPY_MODEL_8022a89c9e0346398cf5e7e586b29352",
       "style": "IPY_MODEL_a4f1670b8d4c4da4ad694194f2f0c573",
       "value": " 614/614 [00:00&lt;00:00, 40.9kB/s]"
      }
     },
     "03af0e7fb44a43ed8649f63cd09fc48f": {
      "model_name": "LayoutModel",
      "model_module": "@jupyter-widgets/base",
      "model_module_version": "1.2.0",
      "state": {}
     },
     "60fd2baf748b4a2db887f9a624a80d62": {
      "model_name": "HBoxModel",
      "model_module": "@jupyter-widgets/controls",
      "model_module_version": "1.5.0",
      "state": {
       "children": [
        "IPY_MODEL_c3ae16e8ab9f45bba5cc23143f423a71",
        "IPY_MODEL_508fd32b5e454e48a9afb37366f7c9d8",
        "IPY_MODEL_87155fee3ba2412aa3c3c868b1be2532"
       ],
       "layout": "IPY_MODEL_03af0e7fb44a43ed8649f63cd09fc48f"
      }
     },
     "743d88fe9f0e4af2a99885b22c681f6b": {
      "model_name": "LayoutModel",
      "model_module": "@jupyter-widgets/base",
      "model_module_version": "1.2.0",
      "state": {}
     },
     "6c2102045bae4d9c8ca92266cc5c6310": {
      "model_name": "DescriptionStyleModel",
      "model_module": "@jupyter-widgets/controls",
      "model_module_version": "1.5.0",
      "state": {
       "description_width": ""
      }
     },
     "e1ddbc074c634382bf8547e4b81c13ec": {
      "model_name": "HTMLModel",
      "model_module": "@jupyter-widgets/controls",
      "model_module_version": "1.5.0",
      "state": {
       "layout": "IPY_MODEL_743d88fe9f0e4af2a99885b22c681f6b",
       "style": "IPY_MODEL_6c2102045bae4d9c8ca92266cc5c6310",
       "value": "Downloading data files: 100%"
      }
     },
     "8e5f3777bf374e0b9420cc5b4ed27e73": {
      "model_name": "LayoutModel",
      "model_module": "@jupyter-widgets/base",
      "model_module_version": "1.2.0",
      "state": {}
     },
     "eb6e16d0f34e4b678ee5a7d4cd8782f0": {
      "model_name": "ProgressStyleModel",
      "model_module": "@jupyter-widgets/controls",
      "model_module_version": "1.5.0",
      "state": {
       "description_width": ""
      }
     },
     "e80cbf55d0a34a4588e5ca099939c437": {
      "model_name": "FloatProgressModel",
      "model_module": "@jupyter-widgets/controls",
      "model_module_version": "1.5.0",
      "state": {
       "bar_style": "success",
       "layout": "IPY_MODEL_8e5f3777bf374e0b9420cc5b4ed27e73",
       "max": 2,
       "style": "IPY_MODEL_eb6e16d0f34e4b678ee5a7d4cd8782f0",
       "value": 2
      }
     },
     "7009e3a0e8d143ef898721ff544238ed": {
      "model_name": "LayoutModel",
      "model_module": "@jupyter-widgets/base",
      "model_module_version": "1.2.0",
      "state": {}
     },
     "b457919f7811455391e083aabb775fb1": {
      "model_name": "DescriptionStyleModel",
      "model_module": "@jupyter-widgets/controls",
      "model_module_version": "1.5.0",
      "state": {
       "description_width": ""
      }
     },
     "b9f0c8f184034ed89d681507614d099b": {
      "model_name": "HTMLModel",
      "model_module": "@jupyter-widgets/controls",
      "model_module_version": "1.5.0",
      "state": {
       "layout": "IPY_MODEL_7009e3a0e8d143ef898721ff544238ed",
       "style": "IPY_MODEL_b457919f7811455391e083aabb775fb1",
       "value": " 2/2 [00:03&lt;00:00,  1.47s/it]"
      }
     },
     "8daff141461143a9be7d34674a61aefe": {
      "model_name": "LayoutModel",
      "model_module": "@jupyter-widgets/base",
      "model_module_version": "1.2.0",
      "state": {}
     },
     "157363c8c2934c9593481979e7671404": {
      "model_name": "HBoxModel",
      "model_module": "@jupyter-widgets/controls",
      "model_module_version": "1.5.0",
      "state": {
       "children": [
        "IPY_MODEL_e1ddbc074c634382bf8547e4b81c13ec",
        "IPY_MODEL_e80cbf55d0a34a4588e5ca099939c437",
        "IPY_MODEL_b9f0c8f184034ed89d681507614d099b"
       ],
       "layout": "IPY_MODEL_8daff141461143a9be7d34674a61aefe"
      }
     },
     "fce5b996b311459b9d84d05da2b0e9bf": {
      "model_name": "LayoutModel",
      "model_module": "@jupyter-widgets/base",
      "model_module_version": "1.2.0",
      "state": {}
     },
     "56f71571eb564db2840f17f4c275b461": {
      "model_name": "DescriptionStyleModel",
      "model_module": "@jupyter-widgets/controls",
      "model_module_version": "1.5.0",
      "state": {
       "description_width": ""
      }
     },
     "90a61d0eaf3e482cb10da58b4ccaad39": {
      "model_name": "HTMLModel",
      "model_module": "@jupyter-widgets/controls",
      "model_module_version": "1.5.0",
      "state": {
       "layout": "IPY_MODEL_fce5b996b311459b9d84d05da2b0e9bf",
       "style": "IPY_MODEL_56f71571eb564db2840f17f4c275b461",
       "value": "Downloading data: 100%"
      }
     },
     "f275fda95a2f493881c2d8718f4c1b36": {
      "model_name": "LayoutModel",
      "model_module": "@jupyter-widgets/base",
      "model_module_version": "1.2.0",
      "state": {}
     },
     "e1b508df77fb420b8660b0040d8c0b0b": {
      "model_name": "ProgressStyleModel",
      "model_module": "@jupyter-widgets/controls",
      "model_module_version": "1.5.0",
      "state": {
       "description_width": ""
      }
     },
     "bad787d9967747849aa01118e1192e24": {
      "model_name": "FloatProgressModel",
      "model_module": "@jupyter-widgets/controls",
      "model_module_version": "1.5.0",
      "state": {
       "bar_style": "success",
       "layout": "IPY_MODEL_f275fda95a2f493881c2d8718f4c1b36",
       "max": 79739973,
       "style": "IPY_MODEL_e1b508df77fb420b8660b0040d8c0b0b",
       "value": 79739973
      }
     },
     "5c8f999781b24f69a6f9b75104e29844": {
      "model_name": "LayoutModel",
      "model_module": "@jupyter-widgets/base",
      "model_module_version": "1.2.0",
      "state": {}
     },
     "add0192edcb9433f9947c1e71daa26ee": {
      "model_name": "DescriptionStyleModel",
      "model_module": "@jupyter-widgets/controls",
      "model_module_version": "1.5.0",
      "state": {
       "description_width": ""
      }
     },
     "2078cb6abb6042fb99f63666a948c402": {
      "model_name": "HTMLModel",
      "model_module": "@jupyter-widgets/controls",
      "model_module_version": "1.5.0",
      "state": {
       "layout": "IPY_MODEL_5c8f999781b24f69a6f9b75104e29844",
       "style": "IPY_MODEL_add0192edcb9433f9947c1e71daa26ee",
       "value": " 79.7M/79.7M [00:01&lt;00:00, 39.1MB/s]"
      }
     },
     "a8272b20d7b84d6b9dbe4028149f67d6": {
      "model_name": "LayoutModel",
      "model_module": "@jupyter-widgets/base",
      "model_module_version": "1.2.0",
      "state": {}
     },
     "5ab4e30f7fc4464c914213765fbfe9c0": {
      "model_name": "HBoxModel",
      "model_module": "@jupyter-widgets/controls",
      "model_module_version": "1.5.0",
      "state": {
       "children": [
        "IPY_MODEL_90a61d0eaf3e482cb10da58b4ccaad39",
        "IPY_MODEL_bad787d9967747849aa01118e1192e24",
        "IPY_MODEL_2078cb6abb6042fb99f63666a948c402"
       ],
       "layout": "IPY_MODEL_a8272b20d7b84d6b9dbe4028149f67d6"
      }
     },
     "ed9c97fcc5f94afb9b712ea65b6a2042": {
      "model_name": "LayoutModel",
      "model_module": "@jupyter-widgets/base",
      "model_module_version": "1.2.0",
      "state": {}
     },
     "29eac79f77744e00b620ba7e3a83bdd5": {
      "model_name": "DescriptionStyleModel",
      "model_module": "@jupyter-widgets/controls",
      "model_module_version": "1.5.0",
      "state": {
       "description_width": ""
      }
     },
     "e44be88ee1ed45b187736edb42e88232": {
      "model_name": "HTMLModel",
      "model_module": "@jupyter-widgets/controls",
      "model_module_version": "1.5.0",
      "state": {
       "layout": "IPY_MODEL_ed9c97fcc5f94afb9b712ea65b6a2042",
       "style": "IPY_MODEL_29eac79f77744e00b620ba7e3a83bdd5",
       "value": "Downloading data: 100%"
      }
     },
     "97fa3a4530d248f2bde344dc6a4535c2": {
      "model_name": "LayoutModel",
      "model_module": "@jupyter-widgets/base",
      "model_module_version": "1.2.0",
      "state": {}
     },
     "e1d135310f0c490e94e33b34c66c0a63": {
      "model_name": "ProgressStyleModel",
      "model_module": "@jupyter-widgets/controls",
      "model_module_version": "1.5.0",
      "state": {
       "description_width": ""
      }
     },
     "d296b3eae14b4b179d796a034108b991": {
      "model_name": "FloatProgressModel",
      "model_module": "@jupyter-widgets/controls",
      "model_module_version": "1.5.0",
      "state": {
       "bar_style": "success",
       "layout": "IPY_MODEL_97fa3a4530d248f2bde344dc6a4535c2",
       "max": 4237497,
       "style": "IPY_MODEL_e1d135310f0c490e94e33b34c66c0a63",
       "value": 4237497
      }
     },
     "a6cda79c0c3c4665847fd807eb0e827c": {
      "model_name": "LayoutModel",
      "model_module": "@jupyter-widgets/base",
      "model_module_version": "1.2.0",
      "state": {}
     },
     "355db279f3f2442aa22e368bb442e865": {
      "model_name": "DescriptionStyleModel",
      "model_module": "@jupyter-widgets/controls",
      "model_module_version": "1.5.0",
      "state": {
       "description_width": ""
      }
     },
     "a8c85d1c840747ff991557bc5c142c77": {
      "model_name": "HTMLModel",
      "model_module": "@jupyter-widgets/controls",
      "model_module_version": "1.5.0",
      "state": {
       "layout": "IPY_MODEL_a6cda79c0c3c4665847fd807eb0e827c",
       "style": "IPY_MODEL_355db279f3f2442aa22e368bb442e865",
       "value": " 4.24M/4.24M [00:00&lt;00:00, 35.3MB/s]"
      }
     },
     "f9b39274bffa40f4995e6a84e28aa040": {
      "model_name": "LayoutModel",
      "model_module": "@jupyter-widgets/base",
      "model_module_version": "1.2.0",
      "state": {}
     },
     "f303594d25ca48c0a313f5cd050fc10e": {
      "model_name": "HBoxModel",
      "model_module": "@jupyter-widgets/controls",
      "model_module_version": "1.5.0",
      "state": {
       "children": [
        "IPY_MODEL_e44be88ee1ed45b187736edb42e88232",
        "IPY_MODEL_d296b3eae14b4b179d796a034108b991",
        "IPY_MODEL_a8c85d1c840747ff991557bc5c142c77"
       ],
       "layout": "IPY_MODEL_f9b39274bffa40f4995e6a84e28aa040"
      }
     },
     "a7c16a6d44274650a2164691696f9716": {
      "model_name": "LayoutModel",
      "model_module": "@jupyter-widgets/base",
      "model_module_version": "1.2.0",
      "state": {}
     },
     "3a492b66ed804f87bd2cdb902d5d1d43": {
      "model_name": "DescriptionStyleModel",
      "model_module": "@jupyter-widgets/controls",
      "model_module_version": "1.5.0",
      "state": {
       "description_width": ""
      }
     },
     "7e13a6b889d2491981a0dd64ec931a85": {
      "model_name": "HTMLModel",
      "model_module": "@jupyter-widgets/controls",
      "model_module_version": "1.5.0",
      "state": {
       "layout": "IPY_MODEL_a7c16a6d44274650a2164691696f9716",
       "style": "IPY_MODEL_3a492b66ed804f87bd2cdb902d5d1d43",
       "value": "Extracting data files: 100%"
      }
     },
     "465dcc0b2a22412dafef294ae46f1e11": {
      "model_name": "LayoutModel",
      "model_module": "@jupyter-widgets/base",
      "model_module_version": "1.2.0",
      "state": {}
     },
     "fe9467f0fadd47f68e017384830e2c1e": {
      "model_name": "ProgressStyleModel",
      "model_module": "@jupyter-widgets/controls",
      "model_module_version": "1.5.0",
      "state": {
       "description_width": ""
      }
     },
     "f5a5331ba6a74eafa5c5fdfa6139c37a": {
      "model_name": "FloatProgressModel",
      "model_module": "@jupyter-widgets/controls",
      "model_module_version": "1.5.0",
      "state": {
       "bar_style": "success",
       "layout": "IPY_MODEL_465dcc0b2a22412dafef294ae46f1e11",
       "max": 2,
       "style": "IPY_MODEL_fe9467f0fadd47f68e017384830e2c1e",
       "value": 2
      }
     },
     "79fe622f91924ca8a7520f795f1ad741": {
      "model_name": "LayoutModel",
      "model_module": "@jupyter-widgets/base",
      "model_module_version": "1.2.0",
      "state": {}
     },
     "1940c433858443da9d6afed7a485e0b9": {
      "model_name": "DescriptionStyleModel",
      "model_module": "@jupyter-widgets/controls",
      "model_module_version": "1.5.0",
      "state": {
       "description_width": ""
      }
     },
     "f6e0d469a96b4bfcba9c59dfead9ffeb": {
      "model_name": "HTMLModel",
      "model_module": "@jupyter-widgets/controls",
      "model_module_version": "1.5.0",
      "state": {
       "layout": "IPY_MODEL_79fe622f91924ca8a7520f795f1ad741",
       "style": "IPY_MODEL_1940c433858443da9d6afed7a485e0b9",
       "value": " 2/2 [00:00&lt;00:00, 106.23it/s]"
      }
     },
     "27a22463e74940d98370e02769a008d1": {
      "model_name": "LayoutModel",
      "model_module": "@jupyter-widgets/base",
      "model_module_version": "1.2.0",
      "state": {}
     },
     "f6ef8979267f4571be69c62fee95a1c2": {
      "model_name": "HBoxModel",
      "model_module": "@jupyter-widgets/controls",
      "model_module_version": "1.5.0",
      "state": {
       "children": [
        "IPY_MODEL_7e13a6b889d2491981a0dd64ec931a85",
        "IPY_MODEL_f5a5331ba6a74eafa5c5fdfa6139c37a",
        "IPY_MODEL_f6e0d469a96b4bfcba9c59dfead9ffeb"
       ],
       "layout": "IPY_MODEL_27a22463e74940d98370e02769a008d1"
      }
     },
     "1959cffbc61a4cbd8ff162d09443ca3c": {
      "model_name": "LayoutModel",
      "model_module": "@jupyter-widgets/base",
      "model_module_version": "1.2.0",
      "state": {}
     },
     "e155ab00ffb147bf87cecce386e8cceb": {
      "model_name": "DescriptionStyleModel",
      "model_module": "@jupyter-widgets/controls",
      "model_module_version": "1.5.0",
      "state": {
       "description_width": ""
      }
     },
     "974f3045c7ab4a919c912a52785f1783": {
      "model_name": "HTMLModel",
      "model_module": "@jupyter-widgets/controls",
      "model_module_version": "1.5.0",
      "state": {
       "layout": "IPY_MODEL_1959cffbc61a4cbd8ff162d09443ca3c",
       "style": "IPY_MODEL_e155ab00ffb147bf87cecce386e8cceb",
       "value": "Generating train split: 100%"
      }
     },
     "1aa008c63ebd4ff8a58e2725de752962": {
      "model_name": "LayoutModel",
      "model_module": "@jupyter-widgets/base",
      "model_module_version": "1.2.0",
      "state": {}
     },
     "317051f65e624830be33c911019efe94": {
      "model_name": "ProgressStyleModel",
      "model_module": "@jupyter-widgets/controls",
      "model_module_version": "1.5.0",
      "state": {
       "description_width": ""
      }
     },
     "3735dbf674db4932bc854bc4434988f1": {
      "model_name": "FloatProgressModel",
      "model_module": "@jupyter-widgets/controls",
      "model_module_version": "1.5.0",
      "state": {
       "layout": "IPY_MODEL_1aa008c63ebd4ff8a58e2725de752962",
       "max": 2660,
       "style": "IPY_MODEL_317051f65e624830be33c911019efe94",
       "value": 2660
      }
     },
     "f941ce672fa84fc58215661e4f49a04b": {
      "model_name": "LayoutModel",
      "model_module": "@jupyter-widgets/base",
      "model_module_version": "1.2.0",
      "state": {}
     },
     "c577a8e504d6493b8cfab275093a3938": {
      "model_name": "DescriptionStyleModel",
      "model_module": "@jupyter-widgets/controls",
      "model_module_version": "1.5.0",
      "state": {
       "description_width": ""
      }
     },
     "c47fdb58bd764af687daed7bf1ae2f81": {
      "model_name": "HTMLModel",
      "model_module": "@jupyter-widgets/controls",
      "model_module_version": "1.5.0",
      "state": {
       "layout": "IPY_MODEL_f941ce672fa84fc58215661e4f49a04b",
       "style": "IPY_MODEL_c577a8e504d6493b8cfab275093a3938",
       "value": " 2660/2660 [00:00&lt;00:00, 3673.81 examples/s]"
      }
     },
     "ecdbc15a1126443b939e929f8186deba": {
      "model_name": "LayoutModel",
      "model_module": "@jupyter-widgets/base",
      "model_module_version": "1.2.0",
      "state": {
       "visibility": "hidden"
      }
     },
     "4d67f2a23c6c4a52bc187e4bf49b60e9": {
      "model_name": "HBoxModel",
      "model_module": "@jupyter-widgets/controls",
      "model_module_version": "1.5.0",
      "state": {
       "children": [
        "IPY_MODEL_974f3045c7ab4a919c912a52785f1783",
        "IPY_MODEL_3735dbf674db4932bc854bc4434988f1",
        "IPY_MODEL_c47fdb58bd764af687daed7bf1ae2f81"
       ],
       "layout": "IPY_MODEL_ecdbc15a1126443b939e929f8186deba"
      }
     },
     "4e7c4bcc41bc4b60bc6f002a1b27cd50": {
      "model_name": "LayoutModel",
      "model_module": "@jupyter-widgets/base",
      "model_module_version": "1.2.0",
      "state": {}
     },
     "a817c8abe0654063a86a59bf0a03f5e4": {
      "model_name": "DescriptionStyleModel",
      "model_module": "@jupyter-widgets/controls",
      "model_module_version": "1.5.0",
      "state": {
       "description_width": ""
      }
     },
     "f7c791b8722f49d7a708a3bf2853a004": {
      "model_name": "HTMLModel",
      "model_module": "@jupyter-widgets/controls",
      "model_module_version": "1.5.0",
      "state": {
       "layout": "IPY_MODEL_4e7c4bcc41bc4b60bc6f002a1b27cd50",
       "style": "IPY_MODEL_a817c8abe0654063a86a59bf0a03f5e4",
       "value": "Generating test split:   0%"
      }
     },
     "52f94a797acb4d34ad1e3394b0b5bdf4": {
      "model_name": "LayoutModel",
      "model_module": "@jupyter-widgets/base",
      "model_module_version": "1.2.0",
      "state": {}
     },
     "b24f93b4187d4266bbdb9ecb7d9ca939": {
      "model_name": "ProgressStyleModel",
      "model_module": "@jupyter-widgets/controls",
      "model_module_version": "1.5.0",
      "state": {
       "description_width": ""
      }
     },
     "c333e13d7c8b40d182e8f6cb03b85731": {
      "model_name": "FloatProgressModel",
      "model_module": "@jupyter-widgets/controls",
      "model_module_version": "1.5.0",
      "state": {
       "layout": "IPY_MODEL_52f94a797acb4d34ad1e3394b0b5bdf4",
       "max": 141,
       "style": "IPY_MODEL_b24f93b4187d4266bbdb9ecb7d9ca939",
       "value": 141
      }
     },
     "aa2f9ed93734412792b43e0824555298": {
      "model_name": "LayoutModel",
      "model_module": "@jupyter-widgets/base",
      "model_module_version": "1.2.0",
      "state": {}
     },
     "5fd1b597844a427c86a0d492c0fce2c4": {
      "model_name": "DescriptionStyleModel",
      "model_module": "@jupyter-widgets/controls",
      "model_module_version": "1.5.0",
      "state": {
       "description_width": ""
      }
     },
     "10ace8c4f2e245c383b0406a6b868db2": {
      "model_name": "HTMLModel",
      "model_module": "@jupyter-widgets/controls",
      "model_module_version": "1.5.0",
      "state": {
       "layout": "IPY_MODEL_aa2f9ed93734412792b43e0824555298",
       "style": "IPY_MODEL_5fd1b597844a427c86a0d492c0fce2c4",
       "value": " 0/141 [00:00&lt;?, ? examples/s]"
      }
     },
     "adb236b3f0f74b319d65202794a97e86": {
      "model_name": "LayoutModel",
      "model_module": "@jupyter-widgets/base",
      "model_module_version": "1.2.0",
      "state": {
       "visibility": "hidden"
      }
     },
     "77e88f06455347cb9cf7106de4e3bc32": {
      "model_name": "HBoxModel",
      "model_module": "@jupyter-widgets/controls",
      "model_module_version": "1.5.0",
      "state": {
       "children": [
        "IPY_MODEL_f7c791b8722f49d7a708a3bf2853a004",
        "IPY_MODEL_c333e13d7c8b40d182e8f6cb03b85731",
        "IPY_MODEL_10ace8c4f2e245c383b0406a6b868db2"
       ],
       "layout": "IPY_MODEL_adb236b3f0f74b319d65202794a97e86"
      }
     },
     "d7439d628dc2453dadc1da0970471bbc": {
      "model_name": "LayoutModel",
      "model_module": "@jupyter-widgets/base",
      "model_module_version": "1.2.0",
      "state": {}
     },
     "cc2910479caf48ce8a728c4b10559d9b": {
      "model_name": "DescriptionStyleModel",
      "model_module": "@jupyter-widgets/controls",
      "model_module_version": "1.5.0",
      "state": {
       "description_width": ""
      }
     },
     "55488e17f69946148598dba5c3e44da0": {
      "model_name": "HTMLModel",
      "model_module": "@jupyter-widgets/controls",
      "model_module_version": "1.5.0",
      "state": {
       "layout": "IPY_MODEL_d7439d628dc2453dadc1da0970471bbc",
       "style": "IPY_MODEL_cc2910479caf48ce8a728c4b10559d9b",
       "value": "100%"
      }
     },
     "ac394eacf5494d8cb8047692e672ad44": {
      "model_name": "LayoutModel",
      "model_module": "@jupyter-widgets/base",
      "model_module_version": "1.2.0",
      "state": {}
     },
     "5decf13d45d643438cc853ebb0954196": {
      "model_name": "ProgressStyleModel",
      "model_module": "@jupyter-widgets/controls",
      "model_module_version": "1.5.0",
      "state": {
       "description_width": ""
      }
     },
     "18261aee32b44b5483a4055091e5cbc8": {
      "model_name": "FloatProgressModel",
      "model_module": "@jupyter-widgets/controls",
      "model_module_version": "1.5.0",
      "state": {
       "bar_style": "success",
       "layout": "IPY_MODEL_ac394eacf5494d8cb8047692e672ad44",
       "max": 2,
       "style": "IPY_MODEL_5decf13d45d643438cc853ebb0954196",
       "value": 2
      }
     },
     "f3973e554ad94358913c174b043f9600": {
      "model_name": "LayoutModel",
      "model_module": "@jupyter-widgets/base",
      "model_module_version": "1.2.0",
      "state": {}
     },
     "55c3a0893e1a4f0ab3884e803eaa5c97": {
      "model_name": "DescriptionStyleModel",
      "model_module": "@jupyter-widgets/controls",
      "model_module_version": "1.5.0",
      "state": {
       "description_width": ""
      }
     },
     "2517913a31c54de4aecd49265acdbf16": {
      "model_name": "HTMLModel",
      "model_module": "@jupyter-widgets/controls",
      "model_module_version": "1.5.0",
      "state": {
       "layout": "IPY_MODEL_f3973e554ad94358913c174b043f9600",
       "style": "IPY_MODEL_55c3a0893e1a4f0ab3884e803eaa5c97",
       "value": " 2/2 [00:00&lt;00:00,  6.18it/s]"
      }
     },
     "819724cf724b4be39b60d9ad06da1e76": {
      "model_name": "LayoutModel",
      "model_module": "@jupyter-widgets/base",
      "model_module_version": "1.2.0",
      "state": {}
     },
     "5346be40e1c14e5e972359502711aeb5": {
      "model_name": "HBoxModel",
      "model_module": "@jupyter-widgets/controls",
      "model_module_version": "1.5.0",
      "state": {
       "children": [
        "IPY_MODEL_55488e17f69946148598dba5c3e44da0",
        "IPY_MODEL_18261aee32b44b5483a4055091e5cbc8",
        "IPY_MODEL_2517913a31c54de4aecd49265acdbf16"
       ],
       "layout": "IPY_MODEL_819724cf724b4be39b60d9ad06da1e76"
      }
     }
    }
   }
  },
  "kernelspec": {
   "name": "python3",
   "language": "python",
   "display_name": "Python 3 (ipykernel)"
  },
  "datalore": {
   "computation_mode": "JUPYTER",
   "package_manager": "pip",
   "base_environment": "default",
   "packages": [
    {
     "name": "datasets",
     "version": "2.13.1",
     "source": "PIP"
    },
    {
     "name": "skops",
     "version": "0.7.post0",
     "source": "PIP"
    },
    {
     "name": "nltk",
     "version": "3.8.1",
     "source": "PIP"
    }
   ],
   "report_row_ids": [],
   "version": 3
  }
 },
 "nbformat": 4,
 "nbformat_minor": 4
}
