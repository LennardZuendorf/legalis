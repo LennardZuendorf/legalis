{
 "cells":[
  {
   "cell_type":"markdown",
   "source":[
    "# Legalis Extractor\n",
    "\n",
    "Notebook used to extract features and create binary values to predict"
   ],
   "attachments":{
    
   },
   "metadata":{
    "datalore":{
     "node_id":"0Rt9d5Zef563XmrtFiCxzx",
     "type":"MD",
     "hide_input_from_viewers":true,
     "hide_output_from_viewers":true
    }
   }
  },
  {
   "cell_type":"markdown",
   "source":[
    "## importing packages and dataset"
   ],
   "attachments":{
    
   },
   "metadata":{
    "datalore":{
     "node_id":"F0VoP9teWuM2IImdQ3PmqP",
     "type":"MD",
     "hide_input_from_viewers":true,
     "hide_output_from_viewers":true
    }
   }
  },
  {
   "cell_type":"code",
   "source":[
    "#imports from huggingface\n",
    "from datasets import load_dataset\n",
    "from transformers import AutoModelForSequenceClassification, TrainingArguments, Trainer, AutoTokenizer, DataCollatorWithPadding\n",
    "import huggingface_hub as hg_hub\n",
    "import evaluate\n",
    "\n",
    "#other imports\n",
    "import numpy as np\n",
    "import os"
   ],
   "execution_count":18,
   "outputs":[
    
   ],
   "metadata":{
    "datalore":{
     "node_id":"Zj1e8ydNmKsbmNi5uM9pen",
     "type":"CODE",
     "hide_input_from_viewers":true,
     "hide_output_from_viewers":true
    }
   }
  },
  {
   "cell_type":"code",
   "source":[
    "#loading dataset\n",
    "dataset=load_dataset(\"LennardZuendorf\/legalis\")\n",
    "\n",
    "#printing dataset features\n",
    "print(dataset)"
   ],
   "execution_count":11,
   "outputs":[
    {
     "name":"stdout",
     "text":[
      "DatasetDict({\n",
      "    train: Dataset({\n",
      "        features: ['id', 'file_number', 'date', 'type', 'content', 'tenor', 'facts', 'reasoning', 'winner', 'label'],\n",
      "        num_rows: 2686\n",
      "    })\n",
      "    test: Dataset({\n",
      "        features: ['id', 'file_number', 'date', 'type', 'content', 'tenor', 'facts', 'reasoning', 'winner', 'label'],\n",
      "        num_rows: 142\n",
      "    })\n",
      "})\n"
     ],
     "output_type":"stream"
    },
    {
     "name":"stderr",
     "text":[
      "Found cached dataset parquet (\/home\/datalore\/.cache\/huggingface\/datasets\/LennardZuendorf___parquet\/LennardZuendorf--legalis-ac1f3638890b8970\/0.0.0\/2a3b91fbd88a2c90d1dbbb32b460cf621d31bd5b05b934492fdef7d8d6f236ec)\n"
     ],
     "output_type":"stream"
    },
    {
     "data":{
      "application\/vnd.jupyter.widget-view+json":{
       "version_major":2,
       "version_minor":0,
       "model_id":"2012254b835c47788fbe7cf504ba8980"
      }
     },
     "metadata":{
      "application\/vnd.jupyter.widget-view+json":{
       "datalore":{
        "widget_id":"CZgZjNOr2KQZbZbhbxlukz"
       }
      }
     },
     "output_type":"display_data"
    }
   ],
   "metadata":{
    "datalore":{
     "node_id":"2MbR9wKzq3jZhurHxGyFH2",
     "type":"CODE",
     "hide_input_from_viewers":false,
     "hide_output_from_viewers":false,
     "report_properties":{
      "rowId":"61sYDC48nNFceC3FsfTDhZ"
     }
    }
   }
  },
  {
   "cell_type":"markdown",
   "source":[
    "## data preprocessing & eval prep"
   ],
   "attachments":{
    
   },
   "metadata":{
    "datalore":{
     "node_id":"8iFqSPtXnuLyxkMftjj93S",
     "type":"MD",
     "hide_input_from_viewers":true,
     "hide_output_from_viewers":true
    }
   }
  },
  {
   "cell_type":"code",
   "source":[
    "#dataset=dataset.remove_columns(['file_number', 'date', 'type', 'content', 'tenor', 'reasoning', 'winner'])\n",
    "#dataset=dataset.rename_column(\"facts\", \"text\")\n",
    "\n",
    "print(dataset['train'][10]['facts'])\n",
    "print(dataset['train'][10]['text'])"
   ],
   "execution_count":22,
   "outputs":[
    {
     "ename":"KeyError",
     "evalue":"KeyError: 'facts'",
     "traceback":[
      "\u001b[0;31m---------------------------------------------------------------------------",
      "Traceback (most recent call last)",
      "    at line 4 in <module>",
      "KeyError: 'facts'"
     ],
     "output_type":"error"
    }
   ],
   "metadata":{
    "datalore":{
     "node_id":"OkkAcwqaP4qdbYBbBDf75P",
     "type":"CODE",
     "hide_input_from_viewers":true,
     "hide_output_from_viewers":true
    }
   }
  },
  {
   "cell_type":"code",
   "source":[
    "#grabbing tokenizer from pretrained german BERT\n",
    "tokenizer = AutoTokenizer.from_pretrained(\"deepset\/gbert-base\")\n",
    "\n",
    "def preprocess_function(examples):\n",
    "    return tokenizer(examples[\"text\"], truncation=True)\n",
    "\n",
    "#tokenizing data\n",
    "tokenized_data = dataset.map(preprocess_function, batched=True)\n",
    "data_collator = DataCollatorWithPadding(tokenizer=tokenizer)"
   ],
   "execution_count":15,
   "outputs":[
    {
     "data":{
      "application\/vnd.jupyter.widget-view+json":{
       "version_major":2,
       "version_minor":0,
       "model_id":"df4876327dd14da8bde856c05b109196"
      }
     },
     "metadata":{
      "application\/vnd.jupyter.widget-view+json":{
       "datalore":{
        "widget_id":"PVXE2KvV08z6UA7UIJUlLP"
       }
      }
     },
     "output_type":"display_data"
    },
    {
     "data":{
      "application\/vnd.jupyter.widget-view+json":{
       "version_major":2,
       "version_minor":0,
       "model_id":"dc9bf462a3954b53a3f8bdc4dad0b888"
      }
     },
     "metadata":{
      "application\/vnd.jupyter.widget-view+json":{
       "datalore":{
        "widget_id":"0NMOSC3vq6TkyIGLztIR3J"
       }
      }
     },
     "output_type":"display_data"
    },
    {
     "data":{
      "application\/vnd.jupyter.widget-view+json":{
       "version_major":2,
       "version_minor":0,
       "model_id":"08f04bae38a94df1a8e5b4112a74c23c"
      }
     },
     "metadata":{
      "application\/vnd.jupyter.widget-view+json":{
       "datalore":{
        "widget_id":"9svNdG8Yh9zg7Y1q0UTIl1"
       }
      }
     },
     "output_type":"display_data"
    },
    {
     "data":{
      "application\/vnd.jupyter.widget-view+json":{
       "version_major":2,
       "version_minor":0,
       "model_id":"b7aacd1fb28f4e95b960a2114051afdf"
      }
     },
     "metadata":{
      "application\/vnd.jupyter.widget-view+json":{
       "datalore":{
        "widget_id":"QprWkuBOZdFIZ5Bh0UFCf8"
       }
      }
     },
     "output_type":"display_data"
    },
    {
     "data":{
      "application\/vnd.jupyter.widget-view+json":{
       "version_major":2,
       "version_minor":0,
       "model_id":"ec16f860fb764aaaad62ec5fd4578eb4"
      }
     },
     "metadata":{
      "application\/vnd.jupyter.widget-view+json":{
       "datalore":{
        "widget_id":"D2r7tSVWh2UpYPYrR6ifs7"
       }
      }
     },
     "output_type":"display_data"
    }
   ],
   "metadata":{
    "datalore":{
     "node_id":"tQfx8X05kFXUOEY5bBWSHI",
     "type":"CODE",
     "hide_input_from_viewers":true,
     "hide_output_from_viewers":true
    }
   }
  },
  {
   "cell_type":"code",
   "source":[
    "#creating accuracy evaluation class\n",
    "accuracy = evaluate.load(\"accuracy\")\n",
    "\n",
    "def compute_metrics(eval_pred):\n",
    "    predictions, labels = eval_pred\n",
    "    predictions = np.argmax(predictions, axis=1)\n",
    "    return accuracy.compute(predictions=predictions, references=labels)"
   ],
   "execution_count":19,
   "outputs":[
    {
     "data":{
      "application\/vnd.jupyter.widget-view+json":{
       "version_major":2,
       "version_minor":0,
       "model_id":"2da63c56e3f8421bbe0c6a569aa394b0"
      }
     },
     "metadata":{
      "application\/vnd.jupyter.widget-view+json":{
       "datalore":{
        "widget_id":"steV96OAieGh4oEmPC6Znu"
       }
      }
     },
     "output_type":"display_data"
    }
   ],
   "metadata":{
    "datalore":{
     "node_id":"y63dkn2USdZiWpVAjWkRnZ",
     "type":"CODE",
     "hide_input_from_viewers":true,
     "hide_output_from_viewers":true
    }
   }
  },
  {
   "cell_type":"code",
   "source":[
    "\n",
    "#setting up labels\n",
    "id2label = {0: \"Verklagter\", 1: \"Klaeger\"}\n",
    "label2id = {\"Verklagter\": 0, \"Klaeger\": 1}\n",
    "\n",
    "#setting up model from huggingface with labels\n",
    "model = AutoModelForSequenceClassification.from_pretrained(\n",
    "    \"deepset\/gbert-base\", num_labels=2, id2label=id2label, label2id=label2id\n",
    ")\n",
    "\n",
    "#training arguments and trainer setup\n",
    "training_args = TrainingArguments(\n",
    "    output_dir=\"legalis_predictor_BERT\",\n",
    "    learning_rate=2e-5,\n",
    "    per_device_train_batch_size=16,\n",
    "    per_device_eval_batch_size=16,\n",
    "    num_train_epochs=2,\n",
    "    weight_decay=0.01,\n",
    "    evaluation_strategy=\"epoch\",\n",
    "    save_strategy=\"epoch\",\n",
    "    load_best_model_at_end=True,\n",
    "    push_to_hub=False,\n",
    ")\n",
    "\n",
    "trainer = Trainer(\n",
    "    model=model,\n",
    "    args=training_args,\n",
    "    train_dataset=tokenized_data[\"train\"],\n",
    "    eval_dataset=tokenized_data[\"test\"],\n",
    "    tokenizer=tokenizer,\n",
    "    data_collator=data_collator,\n",
    "    compute_metrics=compute_metrics,\n",
    ")"
   ],
   "execution_count":20,
   "outputs":[
    {
     "name":"stderr",
     "text":[
      "Some weights of the model checkpoint at deepset\/gbert-base were not used when initializing BertForSequenceClassification: ['cls.seq_relationship.bias', 'cls.seq_relationship.weight', 'cls.predictions.decoder.weight', 'cls.predictions.transform.LayerNorm.bias', 'cls.predictions.transform.dense.bias', 'cls.predictions.transform.LayerNorm.weight', 'cls.predictions.bias', 'cls.predictions.transform.dense.weight']\n",
      "- This IS expected if you are initializing BertForSequenceClassification from the checkpoint of a model trained on another task or with another architecture (e.g. initializing a BertForSequenceClassification model from a BertForPreTraining model).\n",
      "- This IS NOT expected if you are initializing BertForSequenceClassification from the checkpoint of a model that you expect to be exactly identical (initializing a BertForSequenceClassification model from a BertForSequenceClassification model).\n",
      "Some weights of BertForSequenceClassification were not initialized from the model checkpoint at deepset\/gbert-base and are newly initialized: ['classifier.weight', 'classifier.bias']\n",
      "You should probably TRAIN this model on a down-stream task to be able to use it for predictions and inference.\n"
     ],
     "output_type":"stream"
    }
   ],
   "metadata":{
    "datalore":{
     "node_id":"WdxLvzIbIjzF4Ww019FPqb",
     "type":"CODE",
     "hide_input_from_viewers":true,
     "hide_output_from_viewers":true
    }
   }
  },
  {
   "cell_type":"code",
   "source":[
    "trainer.train()"
   ],
   "execution_count":21,
   "outputs":[
    {
     "name":"stderr",
     "text":[
      "\/opt\/python\/envs\/default\/lib\/python3.8\/site-packages\/transformers\/optimization.py:407: FutureWarning: This implementation of AdamW is deprecated and will be removed in a future version. Use the PyTorch implementation torch.optim.AdamW instead, or set `no_deprecation_warning=True` to disable this warning\n",
      "  warnings.warn(\n",
      "You're using a BertTokenizerFast tokenizer. Please note that with a fast tokenizer, using the `__call__` method is faster than using a method to encode the text followed by a call to the `pad` method to get a padded encoding.\n"
     ],
     "output_type":"stream"
    },
    {
     "data":{
      "text\/html":[
       "\n",
       "    <div>\n",
       "      \n",
       "      <progress value='336' max='336' style='width:300px; height:20px; vertical-align: middle;'><\/progress>\n",
       "      [336\/336 08:54, Epoch 2\/2]\n",
       "    <\/div>\n",
       "    <table border=\"1\" class=\"dataframe\">\n",
       "  <thead>\n",
       " <tr style=\"text-align: left;\">\n",
       "      <th>Epoch<\/th>\n",
       "      <th>Training Loss<\/th>\n",
       "      <th>Validation Loss<\/th>\n",
       "      <th>Accuracy<\/th>\n",
       "    <\/tr>\n",
       "  <\/thead>\n",
       "  <tbody>\n",
       "    <tr>\n",
       "      <td>1<\/td>\n",
       "      <td>No log<\/td>\n",
       "      <td>0.000097<\/td>\n",
       "      <td>1.000000<\/td>\n",
       "    <\/tr>\n",
       "    <tr>\n",
       "      <td>2<\/td>\n",
       "      <td>No log<\/td>\n",
       "      <td>0.000068<\/td>\n",
       "      <td>1.000000<\/td>\n",
       "    <\/tr>\n",
       "  <\/tbody>\n",
       "<\/table><p>"
      ]
     },
     "metadata":{
      
     },
     "output_type":"display_data"
    },
    {
     "data":{
      "text\/plain":[
       "TrainOutput(global_step=336, training_loss=0.004092007520652953, metrics={'train_runtime': 536.7887, 'train_samples_per_second': 10.008, 'train_steps_per_second': 0.626, 'total_flos': 1413432589393920.0, 'train_loss': 0.004092007520652953, 'epoch': 2.0})"
      ]
     },
     "metadata":{
      
     },
     "output_type":"display_data"
    }
   ],
   "metadata":{
    "datalore":{
     "node_id":"bMmc6q1SxJbxkh4gVjN2zc",
     "type":"CODE",
     "hide_input_from_viewers":true,
     "hide_output_from_viewers":true
    }
   }
  },
  {
   "cell_type":"markdown",
   "source":[
    "## final report and pushing to hub"
   ],
   "attachments":{
    
   },
   "metadata":{
    "datalore":{
     "node_id":"bgYV0vRnjsYjAYySJ2q4Mq",
     "type":"MD",
     "hide_input_from_viewers":true,
     "hide_output_from_viewers":true
    }
   }
  },
  {
   "cell_type":"code",
   "source":[
    "hg_hub.login(token=os.getenv(\"hub_token\"))\n",
    "trainer.push_to_hub(\"LennardZuendorf\/legalis\")"
   ],
   "execution_count":7,
   "outputs":[
    {
     "name":"stdout",
     "text":[
      "Token will not been saved to git credential helper. Pass `add_to_git_credential=True` if you want to set the git credential as well.\n",
      "Token is valid (permission: write).\n",
      "Your token has been saved to \/home\/datalore\/.cache\/huggingface\/token\n",
      "Login successful\n"
     ],
     "output_type":"stream"
    },
    {
     "ename":"OSError",
     "evalue":"OSError: Looks like you do not have git-lfs installed, please install. You can install from https:\/\/git-lfs.github.com\/. Then run `git lfs install` (you only have to do this once).",
     "traceback":[
      "\u001b[0;31m---------------------------------------------------------------------------",
      "Traceback (most recent call last)",
      "    at line 2 in <module>",
      "    at line 3676 in push_to_hub(self, commit_message, blocking, **kwargs)",
      "    at line 3534 in init_git_repo(self, at_init)",
      "    at line 118 in _inner_fn(*args, **kwargs)",
      "    at line 504 in __init__(self, local_dir, clone_from, repo_type, token, git_user, git_email, revision, skip_lfs_files, client)",
      "    at line 576 in check_git_versions(self)",
      "OSError: Looks like you do not have git-lfs installed, please install. You can install from https:\/\/git-lfs.github.com\/. Then run `git lfs install` (you only have to do this once)."
     ],
     "output_type":"error"
    }
   ],
   "metadata":{
    "datalore":{
     "node_id":"bqTNNusdYqBlK2oogBj9z5",
     "type":"CODE",
     "hide_input_from_viewers":true,
     "hide_output_from_viewers":true
    }
   }
  }
 ],
 "metadata":{
  "widgets":{
   "application\/vnd.jupyter.widget-state+json":{
    "version_major":2,
    "version_minor":0,
    "state":{
     "d4d34e5878e44d59a6842473d0583a0a":{
      "model_name":"LayoutModel",
      "model_module":"@jupyter-widgets\/base",
      "model_module_version":"1.2.0",
      "state":{
       
      }
     },
     "7a4412fdec404a53bc7bb079f0dccf72":{
      "model_name":"DescriptionStyleModel",
      "model_module":"@jupyter-widgets\/controls",
      "model_module_version":"1.5.0",
      "state":{
       "description_width":""
      }
     },
     "d5535d57501a4f7cb64b3deca57bd13d":{
      "model_name":"HTMLModel",
      "model_module":"@jupyter-widgets\/controls",
      "model_module_version":"1.5.0",
      "state":{
       "layout":"IPY_MODEL_d4d34e5878e44d59a6842473d0583a0a",
       "style":"IPY_MODEL_7a4412fdec404a53bc7bb079f0dccf72",
       "value":"100%"
      }
     },
     "a0ebb48164194b36a18a00cb2a29f320":{
      "model_name":"LayoutModel",
      "model_module":"@jupyter-widgets\/base",
      "model_module_version":"1.2.0",
      "state":{
       
      }
     },
     "ccbdf73da64c455abb94fd8fba2edd7e":{
      "model_name":"ProgressStyleModel",
      "model_module":"@jupyter-widgets\/controls",
      "model_module_version":"1.5.0",
      "state":{
       "description_width":""
      }
     },
     "a8dc66f2c0c54d10891c8f1c1986d6b7":{
      "model_name":"FloatProgressModel",
      "model_module":"@jupyter-widgets\/controls",
      "model_module_version":"1.5.0",
      "state":{
       "bar_style":"success",
       "layout":"IPY_MODEL_a0ebb48164194b36a18a00cb2a29f320",
       "max":2,
       "style":"IPY_MODEL_ccbdf73da64c455abb94fd8fba2edd7e",
       "value":2
      }
     },
     "56112bc058624f3e9cc83fef565d03f2":{
      "model_name":"LayoutModel",
      "model_module":"@jupyter-widgets\/base",
      "model_module_version":"1.2.0",
      "state":{
       
      }
     },
     "035e6d3609904706985a536120154d5d":{
      "model_name":"DescriptionStyleModel",
      "model_module":"@jupyter-widgets\/controls",
      "model_module_version":"1.5.0",
      "state":{
       "description_width":""
      }
     },
     "c088ce730783486489b357f2223befbc":{
      "model_name":"HTMLModel",
      "model_module":"@jupyter-widgets\/controls",
      "model_module_version":"1.5.0",
      "state":{
       "layout":"IPY_MODEL_56112bc058624f3e9cc83fef565d03f2",
       "style":"IPY_MODEL_035e6d3609904706985a536120154d5d",
       "value":" 2\/2 [00:00&lt;00:00, 157.93it\/s]"
      }
     },
     "5ff56081c57f4aecbf550613c5652ed3":{
      "model_name":"LayoutModel",
      "model_module":"@jupyter-widgets\/base",
      "model_module_version":"1.2.0",
      "state":{
       
      }
     },
     "2012254b835c47788fbe7cf504ba8980":{
      "model_name":"HBoxModel",
      "model_module":"@jupyter-widgets\/controls",
      "model_module_version":"1.5.0",
      "state":{
       "children":[
        "IPY_MODEL_d5535d57501a4f7cb64b3deca57bd13d",
        "IPY_MODEL_a8dc66f2c0c54d10891c8f1c1986d6b7",
        "IPY_MODEL_c088ce730783486489b357f2223befbc"
       ],
       "layout":"IPY_MODEL_5ff56081c57f4aecbf550613c5652ed3"
      }
     },
     "48803564d012413dacaeb182934e2ed5":{
      "model_name":"LayoutModel",
      "model_module":"@jupyter-widgets\/base",
      "model_module_version":"1.2.0",
      "state":{
       
      }
     },
     "4edb67a83d324c6a9256923aab11e04e":{
      "model_name":"DescriptionStyleModel",
      "model_module":"@jupyter-widgets\/controls",
      "model_module_version":"1.5.0",
      "state":{
       "description_width":""
      }
     },
     "e0932e6c46724b479ff7aa9621f3fbb9":{
      "model_name":"HTMLModel",
      "model_module":"@jupyter-widgets\/controls",
      "model_module_version":"1.5.0",
      "state":{
       "layout":"IPY_MODEL_48803564d012413dacaeb182934e2ed5",
       "style":"IPY_MODEL_4edb67a83d324c6a9256923aab11e04e",
       "value":"Downloading (…)okenizer_config.json: 100%"
      }
     },
     "ff15026b38f242e58595772859131631":{
      "model_name":"LayoutModel",
      "model_module":"@jupyter-widgets\/base",
      "model_module_version":"1.2.0",
      "state":{
       
      }
     },
     "6eabc9f8a5144eb0b5ef38967b0b6d9b":{
      "model_name":"ProgressStyleModel",
      "model_module":"@jupyter-widgets\/controls",
      "model_module_version":"1.5.0",
      "state":{
       "description_width":""
      }
     },
     "ee40ed0251844a9789bfe9c6ed920cff":{
      "model_name":"FloatProgressModel",
      "model_module":"@jupyter-widgets\/controls",
      "model_module_version":"1.5.0",
      "state":{
       "bar_style":"success",
       "layout":"IPY_MODEL_ff15026b38f242e58595772859131631",
       "max":83,
       "style":"IPY_MODEL_6eabc9f8a5144eb0b5ef38967b0b6d9b",
       "value":83
      }
     },
     "0826b655901044469a281c006b58a3ec":{
      "model_name":"LayoutModel",
      "model_module":"@jupyter-widgets\/base",
      "model_module_version":"1.2.0",
      "state":{
       
      }
     },
     "829542470dd240478ae331e5b9ceba14":{
      "model_name":"DescriptionStyleModel",
      "model_module":"@jupyter-widgets\/controls",
      "model_module_version":"1.5.0",
      "state":{
       "description_width":""
      }
     },
     "34c6e7caae984313b64ff62ac026169b":{
      "model_name":"HTMLModel",
      "model_module":"@jupyter-widgets\/controls",
      "model_module_version":"1.5.0",
      "state":{
       "layout":"IPY_MODEL_0826b655901044469a281c006b58a3ec",
       "style":"IPY_MODEL_829542470dd240478ae331e5b9ceba14",
       "value":" 83.0\/83.0 [00:00&lt;00:00, 5.41kB\/s]"
      }
     },
     "dc1700dc114a443bac3c190ee0b1b845":{
      "model_name":"LayoutModel",
      "model_module":"@jupyter-widgets\/base",
      "model_module_version":"1.2.0",
      "state":{
       
      }
     },
     "df4876327dd14da8bde856c05b109196":{
      "model_name":"HBoxModel",
      "model_module":"@jupyter-widgets\/controls",
      "model_module_version":"1.5.0",
      "state":{
       "children":[
        "IPY_MODEL_e0932e6c46724b479ff7aa9621f3fbb9",
        "IPY_MODEL_ee40ed0251844a9789bfe9c6ed920cff",
        "IPY_MODEL_34c6e7caae984313b64ff62ac026169b"
       ],
       "layout":"IPY_MODEL_dc1700dc114a443bac3c190ee0b1b845"
      }
     },
     "bf3ee56bf63a443086c17c98e0cad7d0":{
      "model_name":"LayoutModel",
      "model_module":"@jupyter-widgets\/base",
      "model_module_version":"1.2.0",
      "state":{
       
      }
     },
     "c10e774438c540d699dc8454d3e59f58":{
      "model_name":"DescriptionStyleModel",
      "model_module":"@jupyter-widgets\/controls",
      "model_module_version":"1.5.0",
      "state":{
       "description_width":""
      }
     },
     "2e4314871660463a8f624ed218f7dceb":{
      "model_name":"HTMLModel",
      "model_module":"@jupyter-widgets\/controls",
      "model_module_version":"1.5.0",
      "state":{
       "layout":"IPY_MODEL_bf3ee56bf63a443086c17c98e0cad7d0",
       "style":"IPY_MODEL_c10e774438c540d699dc8454d3e59f58",
       "value":"Downloading (…)lve\/main\/config.json: 100%"
      }
     },
     "a437f107b2324fd089344e225d7960f5":{
      "model_name":"LayoutModel",
      "model_module":"@jupyter-widgets\/base",
      "model_module_version":"1.2.0",
      "state":{
       
      }
     },
     "5bce29e970924419b5da324b6d968115":{
      "model_name":"ProgressStyleModel",
      "model_module":"@jupyter-widgets\/controls",
      "model_module_version":"1.5.0",
      "state":{
       "description_width":""
      }
     },
     "b7488f73ceee4d3e84dc7e06ed5c5651":{
      "model_name":"FloatProgressModel",
      "model_module":"@jupyter-widgets\/controls",
      "model_module_version":"1.5.0",
      "state":{
       "bar_style":"success",
       "layout":"IPY_MODEL_a437f107b2324fd089344e225d7960f5",
       "max":362,
       "style":"IPY_MODEL_5bce29e970924419b5da324b6d968115",
       "value":362
      }
     },
     "ec0749a50abd4a72a2a713490bb729c9":{
      "model_name":"LayoutModel",
      "model_module":"@jupyter-widgets\/base",
      "model_module_version":"1.2.0",
      "state":{
       
      }
     },
     "4aabec2bea294022b30f6c7c2b27c2b0":{
      "model_name":"DescriptionStyleModel",
      "model_module":"@jupyter-widgets\/controls",
      "model_module_version":"1.5.0",
      "state":{
       "description_width":""
      }
     },
     "dba95d883e594568906dfad64de87499":{
      "model_name":"HTMLModel",
      "model_module":"@jupyter-widgets\/controls",
      "model_module_version":"1.5.0",
      "state":{
       "layout":"IPY_MODEL_ec0749a50abd4a72a2a713490bb729c9",
       "style":"IPY_MODEL_4aabec2bea294022b30f6c7c2b27c2b0",
       "value":" 362\/362 [00:00&lt;00:00, 30.5kB\/s]"
      }
     },
     "3a915565e8ac484690b52f7cfbc808bc":{
      "model_name":"LayoutModel",
      "model_module":"@jupyter-widgets\/base",
      "model_module_version":"1.2.0",
      "state":{
       
      }
     },
     "dc9bf462a3954b53a3f8bdc4dad0b888":{
      "model_name":"HBoxModel",
      "model_module":"@jupyter-widgets\/controls",
      "model_module_version":"1.5.0",
      "state":{
       "children":[
        "IPY_MODEL_2e4314871660463a8f624ed218f7dceb",
        "IPY_MODEL_b7488f73ceee4d3e84dc7e06ed5c5651",
        "IPY_MODEL_dba95d883e594568906dfad64de87499"
       ],
       "layout":"IPY_MODEL_3a915565e8ac484690b52f7cfbc808bc"
      }
     },
     "2f08a2e105094922aa913bc9370a5113":{
      "model_name":"LayoutModel",
      "model_module":"@jupyter-widgets\/base",
      "model_module_version":"1.2.0",
      "state":{
       
      }
     },
     "a9ad277c4f644c97bdd87b6f2696468a":{
      "model_name":"DescriptionStyleModel",
      "model_module":"@jupyter-widgets\/controls",
      "model_module_version":"1.5.0",
      "state":{
       "description_width":""
      }
     },
     "be12069e571e43859a96e313c4703965":{
      "model_name":"HTMLModel",
      "model_module":"@jupyter-widgets\/controls",
      "model_module_version":"1.5.0",
      "state":{
       "layout":"IPY_MODEL_2f08a2e105094922aa913bc9370a5113",
       "style":"IPY_MODEL_a9ad277c4f644c97bdd87b6f2696468a",
       "value":"Downloading (…)solve\/main\/vocab.txt: 100%"
      }
     },
     "0a7793907d0b441a9bacd45047083b3d":{
      "model_name":"LayoutModel",
      "model_module":"@jupyter-widgets\/base",
      "model_module_version":"1.2.0",
      "state":{
       
      }
     },
     "a2dd22b814d2475aaf75953447ed865f":{
      "model_name":"ProgressStyleModel",
      "model_module":"@jupyter-widgets\/controls",
      "model_module_version":"1.5.0",
      "state":{
       "description_width":""
      }
     },
     "961fec8475704a549018d52a7f67c666":{
      "model_name":"FloatProgressModel",
      "model_module":"@jupyter-widgets\/controls",
      "model_module_version":"1.5.0",
      "state":{
       "bar_style":"success",
       "layout":"IPY_MODEL_0a7793907d0b441a9bacd45047083b3d",
       "max":239836,
       "style":"IPY_MODEL_a2dd22b814d2475aaf75953447ed865f",
       "value":239836
      }
     },
     "cf1392baa9d443f1880f74843aa9d849":{
      "model_name":"LayoutModel",
      "model_module":"@jupyter-widgets\/base",
      "model_module_version":"1.2.0",
      "state":{
       
      }
     },
     "6ae1d338b6b64fc281471aef4f445bec":{
      "model_name":"DescriptionStyleModel",
      "model_module":"@jupyter-widgets\/controls",
      "model_module_version":"1.5.0",
      "state":{
       "description_width":""
      }
     },
     "a546ff9b5b5e4b49a919e5f54b803988":{
      "model_name":"HTMLModel",
      "model_module":"@jupyter-widgets\/controls",
      "model_module_version":"1.5.0",
      "state":{
       "layout":"IPY_MODEL_cf1392baa9d443f1880f74843aa9d849",
       "style":"IPY_MODEL_6ae1d338b6b64fc281471aef4f445bec",
       "value":" 240k\/240k [00:00&lt;00:00, 1.77MB\/s]"
      }
     },
     "600e86dfe500447fa0137a877da9c2e9":{
      "model_name":"LayoutModel",
      "model_module":"@jupyter-widgets\/base",
      "model_module_version":"1.2.0",
      "state":{
       
      }
     },
     "08f04bae38a94df1a8e5b4112a74c23c":{
      "model_name":"HBoxModel",
      "model_module":"@jupyter-widgets\/controls",
      "model_module_version":"1.5.0",
      "state":{
       "children":[
        "IPY_MODEL_be12069e571e43859a96e313c4703965",
        "IPY_MODEL_961fec8475704a549018d52a7f67c666",
        "IPY_MODEL_a546ff9b5b5e4b49a919e5f54b803988"
       ],
       "layout":"IPY_MODEL_600e86dfe500447fa0137a877da9c2e9"
      }
     },
     "76d9b98cf0c744e58315857a7e18c513":{
      "model_name":"LayoutModel",
      "model_module":"@jupyter-widgets\/base",
      "model_module_version":"1.2.0",
      "state":{
       
      }
     },
     "38c60e66b2c246cc8e976de8e9b54c70":{
      "model_name":"DescriptionStyleModel",
      "model_module":"@jupyter-widgets\/controls",
      "model_module_version":"1.5.0",
      "state":{
       "description_width":""
      }
     },
     "68a65da11e7f4808af9cfeae610c6b28":{
      "model_name":"HTMLModel",
      "model_module":"@jupyter-widgets\/controls",
      "model_module_version":"1.5.0",
      "state":{
       "layout":"IPY_MODEL_76d9b98cf0c744e58315857a7e18c513",
       "style":"IPY_MODEL_38c60e66b2c246cc8e976de8e9b54c70",
       "value":"Map: 100%"
      }
     },
     "d5c7f0f17f094dd9b9e8f66bd16fcf15":{
      "model_name":"LayoutModel",
      "model_module":"@jupyter-widgets\/base",
      "model_module_version":"1.2.0",
      "state":{
       
      }
     },
     "bae6693925434c18bd0750fb00c97c52":{
      "model_name":"ProgressStyleModel",
      "model_module":"@jupyter-widgets\/controls",
      "model_module_version":"1.5.0",
      "state":{
       "description_width":""
      }
     },
     "b247569985a54b6397b944eb3e47b219":{
      "model_name":"FloatProgressModel",
      "model_module":"@jupyter-widgets\/controls",
      "model_module_version":"1.5.0",
      "state":{
       "layout":"IPY_MODEL_d5c7f0f17f094dd9b9e8f66bd16fcf15",
       "max":2686,
       "style":"IPY_MODEL_bae6693925434c18bd0750fb00c97c52",
       "value":2686
      }
     },
     "6f62ef5ac1314c2899458e0ad59202f4":{
      "model_name":"LayoutModel",
      "model_module":"@jupyter-widgets\/base",
      "model_module_version":"1.2.0",
      "state":{
       
      }
     },
     "222e20bd2e3d4934a509c853a6bac311":{
      "model_name":"DescriptionStyleModel",
      "model_module":"@jupyter-widgets\/controls",
      "model_module_version":"1.5.0",
      "state":{
       "description_width":""
      }
     },
     "daf5c8872b0f4c74a5a6c590e103992d":{
      "model_name":"HTMLModel",
      "model_module":"@jupyter-widgets\/controls",
      "model_module_version":"1.5.0",
      "state":{
       "layout":"IPY_MODEL_6f62ef5ac1314c2899458e0ad59202f4",
       "style":"IPY_MODEL_222e20bd2e3d4934a509c853a6bac311",
       "value":" 2686\/2686 [00:06&lt;00:00, 399.44 examples\/s]"
      }
     },
     "db0b464d3ec04e7e842dd3f9544d84ae":{
      "model_name":"LayoutModel",
      "model_module":"@jupyter-widgets\/base",
      "model_module_version":"1.2.0",
      "state":{
       "visibility":"hidden"
      }
     },
     "b7aacd1fb28f4e95b960a2114051afdf":{
      "model_name":"HBoxModel",
      "model_module":"@jupyter-widgets\/controls",
      "model_module_version":"1.5.0",
      "state":{
       "children":[
        "IPY_MODEL_68a65da11e7f4808af9cfeae610c6b28",
        "IPY_MODEL_b247569985a54b6397b944eb3e47b219",
        "IPY_MODEL_daf5c8872b0f4c74a5a6c590e103992d"
       ],
       "layout":"IPY_MODEL_db0b464d3ec04e7e842dd3f9544d84ae"
      }
     },
     "39f2d0539fc6422e92d27962db81c82d":{
      "model_name":"LayoutModel",
      "model_module":"@jupyter-widgets\/base",
      "model_module_version":"1.2.0",
      "state":{
       
      }
     },
     "47c26387f4fe4e55afaddc67cedb9193":{
      "model_name":"DescriptionStyleModel",
      "model_module":"@jupyter-widgets\/controls",
      "model_module_version":"1.5.0",
      "state":{
       "description_width":""
      }
     },
     "fbf749a5b52f46a6a1a0fbaae6815145":{
      "model_name":"HTMLModel",
      "model_module":"@jupyter-widgets\/controls",
      "model_module_version":"1.5.0",
      "state":{
       "layout":"IPY_MODEL_39f2d0539fc6422e92d27962db81c82d",
       "style":"IPY_MODEL_47c26387f4fe4e55afaddc67cedb9193",
       "value":"Map: 100%"
      }
     },
     "49f8fe209f854a16b13bcd000ea95168":{
      "model_name":"LayoutModel",
      "model_module":"@jupyter-widgets\/base",
      "model_module_version":"1.2.0",
      "state":{
       
      }
     },
     "b6d57e9c51274ef98c8b778815ee0a95":{
      "model_name":"ProgressStyleModel",
      "model_module":"@jupyter-widgets\/controls",
      "model_module_version":"1.5.0",
      "state":{
       "description_width":""
      }
     },
     "ba066124fbdc47c28150bb36c9f5839d":{
      "model_name":"FloatProgressModel",
      "model_module":"@jupyter-widgets\/controls",
      "model_module_version":"1.5.0",
      "state":{
       "layout":"IPY_MODEL_49f8fe209f854a16b13bcd000ea95168",
       "max":142,
       "style":"IPY_MODEL_b6d57e9c51274ef98c8b778815ee0a95",
       "value":142
      }
     },
     "784c88bfc5fc4961987a51e2af6a11dc":{
      "model_name":"LayoutModel",
      "model_module":"@jupyter-widgets\/base",
      "model_module_version":"1.2.0",
      "state":{
       
      }
     },
     "a6315cebd8f34656a798253be6c1afa0":{
      "model_name":"DescriptionStyleModel",
      "model_module":"@jupyter-widgets\/controls",
      "model_module_version":"1.5.0",
      "state":{
       "description_width":""
      }
     },
     "758c54a283094120896958e8a13e102c":{
      "model_name":"HTMLModel",
      "model_module":"@jupyter-widgets\/controls",
      "model_module_version":"1.5.0",
      "state":{
       "layout":"IPY_MODEL_784c88bfc5fc4961987a51e2af6a11dc",
       "style":"IPY_MODEL_a6315cebd8f34656a798253be6c1afa0",
       "value":" 142\/142 [00:00&lt;00:00, 378.66 examples\/s]"
      }
     },
     "333278f35e954f24a66d91327d528a70":{
      "model_name":"LayoutModel",
      "model_module":"@jupyter-widgets\/base",
      "model_module_version":"1.2.0",
      "state":{
       "visibility":"hidden"
      }
     },
     "ec16f860fb764aaaad62ec5fd4578eb4":{
      "model_name":"HBoxModel",
      "model_module":"@jupyter-widgets\/controls",
      "model_module_version":"1.5.0",
      "state":{
       "children":[
        "IPY_MODEL_fbf749a5b52f46a6a1a0fbaae6815145",
        "IPY_MODEL_ba066124fbdc47c28150bb36c9f5839d",
        "IPY_MODEL_758c54a283094120896958e8a13e102c"
       ],
       "layout":"IPY_MODEL_333278f35e954f24a66d91327d528a70"
      }
     },
     "6f96009ef83543fe87798f6e34433560":{
      "model_name":"LayoutModel",
      "model_module":"@jupyter-widgets\/base",
      "model_module_version":"1.2.0",
      "state":{
       
      }
     },
     "17d3abb22899444a8c297a2ae2fb7986":{
      "model_name":"DescriptionStyleModel",
      "model_module":"@jupyter-widgets\/controls",
      "model_module_version":"1.5.0",
      "state":{
       "description_width":""
      }
     },
     "84b08bebc4844fd0be4a66155d953fa2":{
      "model_name":"HTMLModel",
      "model_module":"@jupyter-widgets\/controls",
      "model_module_version":"1.5.0",
      "state":{
       "layout":"IPY_MODEL_6f96009ef83543fe87798f6e34433560",
       "style":"IPY_MODEL_17d3abb22899444a8c297a2ae2fb7986",
       "value":"Downloading builder script: 100%"
      }
     },
     "4c2d8653d7914e2a94969d996374287d":{
      "model_name":"LayoutModel",
      "model_module":"@jupyter-widgets\/base",
      "model_module_version":"1.2.0",
      "state":{
       
      }
     },
     "77660c652b1245ab939404dc278d96a4":{
      "model_name":"ProgressStyleModel",
      "model_module":"@jupyter-widgets\/controls",
      "model_module_version":"1.5.0",
      "state":{
       "description_width":""
      }
     },
     "50bdb02c7ce94e5bb3a41e613d3143ad":{
      "model_name":"FloatProgressModel",
      "model_module":"@jupyter-widgets\/controls",
      "model_module_version":"1.5.0",
      "state":{
       "bar_style":"success",
       "layout":"IPY_MODEL_4c2d8653d7914e2a94969d996374287d",
       "max":4203,
       "style":"IPY_MODEL_77660c652b1245ab939404dc278d96a4",
       "value":4203
      }
     },
     "7b953c2072e14bafb440d2bb025ae9f1":{
      "model_name":"LayoutModel",
      "model_module":"@jupyter-widgets\/base",
      "model_module_version":"1.2.0",
      "state":{
       
      }
     },
     "f077977c8db8439cbbcbb95dabe2f54b":{
      "model_name":"DescriptionStyleModel",
      "model_module":"@jupyter-widgets\/controls",
      "model_module_version":"1.5.0",
      "state":{
       "description_width":""
      }
     },
     "f4ed42257fc64ad78b9430cdae626660":{
      "model_name":"HTMLModel",
      "model_module":"@jupyter-widgets\/controls",
      "model_module_version":"1.5.0",
      "state":{
       "layout":"IPY_MODEL_7b953c2072e14bafb440d2bb025ae9f1",
       "style":"IPY_MODEL_f077977c8db8439cbbcbb95dabe2f54b",
       "value":" 4.20k\/4.20k [00:00&lt;00:00, 399kB\/s]"
      }
     },
     "3918225acefd480f9409df2e2b0c834e":{
      "model_name":"LayoutModel",
      "model_module":"@jupyter-widgets\/base",
      "model_module_version":"1.2.0",
      "state":{
       
      }
     },
     "2da63c56e3f8421bbe0c6a569aa394b0":{
      "model_name":"HBoxModel",
      "model_module":"@jupyter-widgets\/controls",
      "model_module_version":"1.5.0",
      "state":{
       "children":[
        "IPY_MODEL_84b08bebc4844fd0be4a66155d953fa2",
        "IPY_MODEL_50bdb02c7ce94e5bb3a41e613d3143ad",
        "IPY_MODEL_f4ed42257fc64ad78b9430cdae626660"
       ],
       "layout":"IPY_MODEL_3918225acefd480f9409df2e2b0c834e"
      }
     }
    }
   }
  },
  "kernelspec":{
   "display_name":"Python",
   "language":"python",
   "name":"python"
  },
  "datalore":{
   "computation_mode":"JUPYTER",
   "package_manager":"pip",
   "base_environment":"default",
   "packages":[
    {
     "name":"wordcloud",
     "version":"1.9.1.1",
     "source":"PIP"
    },
    {
     "name":"datasets",
     "version":"2.12.0",
     "source":"PIP"
    },
    {
     "name":"evaluate",
     "version":"0.4.0",
     "source":"PIP"
    },
    {
     "name":"accelerate",
     "version":"0.20.3",
     "source":"PIP"
    },
    {
     "name":"oldp-sdk-python",
     "version":"master",
     "url":"https:\/\/github.com\/openlegaldata\/oldp-sdk-python.git@master#egg=oldp-api",
     "source":"GIT"
    }
   ],
   "report_row_ids":[
    "uQKE7oBNF61P26wPDOHsNL",
    "61sYDC48nNFceC3FsfTDhZ",
    "lIrcceq0txtMnicnKDbCUF"
   ],
   "version":3
  }
 },
 "nbformat":4,
 "nbformat_minor":4
}